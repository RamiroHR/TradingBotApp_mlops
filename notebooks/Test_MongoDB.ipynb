{
 "cells": [
  {
   "cell_type": "markdown",
   "id": "54310d4e",
   "metadata": {},
   "source": [
    "# Test Database connection string "
   ]
  },
  {
   "cell_type": "code",
   "execution_count": 43,
   "id": "8ad53180",
   "metadata": {},
   "outputs": [
    {
     "name": "stdout",
     "output_type": "stream",
     "text": [
      "Pinged your deployment. You successfully connected to MongoDB!\n"
     ]
    }
   ],
   "source": [
    "from pymongo import MongoClient\n",
    "\n",
    "# Replace the uri string with your MongoDB deployment's connection string.\n",
    "\n",
    "USERNAME = 'tradingbot_admin'\n",
    "PASSWORD = 'tradingbot_pass'\n",
    "CLUSTERNAME = 'tb-cluster-0'\n",
    "\n",
    "connection_uri = \"mongodb+srv://{username}:{password}@{cluster_name}.ztadynx.mongodb.net/?retryWrites=true&w=majority\"\n",
    "\n",
    "uri = connection_uri.format(\n",
    "    username = USERNAME,\n",
    "    password = PASSWORD,\n",
    "    cluster_name = CLUSTERNAME \n",
    ")\n",
    "\n",
    "# client = MongoClient(connection_url)\n",
    "client = MongoClient(uri)\n",
    "\n",
    "# Send a ping to confirm a successful connection\n",
    "try:\n",
    "    client.admin.command('ping')\n",
    "    print(\"Pinged your deployment. You successfully connected to MongoDB!\")\n",
    "except Exception as e:\n",
    "    print(e)"
   ]
  },
  {
   "cell_type": "markdown",
   "id": "7ed9818a",
   "metadata": {},
   "source": [
    "# Retrieve data"
   ]
  },
  {
   "cell_type": "code",
   "execution_count": 7,
   "id": "d78bbc15",
   "metadata": {},
   "outputs": [
    {
     "name": "stdout",
     "output_type": "stream",
     "text": [
      "{'_id': ObjectId('621ff30d2a3e781873fcb65c'), 'name': 'Mercury', 'orderFromSun': 1, 'hasRings': False, 'mainAtmosphere': [], 'surfaceTemperatureC': {'min': -173, 'max': 427, 'mean': 67}}\n",
      "{'_id': ObjectId('621ff30d2a3e781873fcb65e'), 'name': 'Mars', 'orderFromSun': 4, 'hasRings': False, 'mainAtmosphere': ['CO2', 'Ar', 'N'], 'surfaceTemperatureC': {'min': -143, 'max': 35, 'mean': -63}}\n",
      "{'_id': ObjectId('621ff30d2a3e781873fcb661'), 'name': 'Earth', 'orderFromSun': 3, 'hasRings': False, 'mainAtmosphere': ['N', 'O2', 'Ar'], 'surfaceTemperatureC': {'min': -89.2, 'max': 56.7, 'mean': 14}}\n",
      "{'_id': ObjectId('621ff30d2a3e781873fcb662'), 'name': 'Venus', 'orderFromSun': 2, 'hasRings': False, 'mainAtmosphere': ['CO2', 'N'], 'surfaceTemperatureC': {'min': None, 'max': None, 'mean': 464}}\n"
     ]
    }
   ],
   "source": [
    "# set database and collection code goes here\n",
    "db = client.sample_guides\n",
    "coll = db.planets\n",
    "\n",
    "# find code goes here\n",
    "cursor = coll.find({\"hasRings\": False})\n",
    "\n",
    "# iterate code goes here\n",
    "for doc in cursor:\n",
    "    print(doc)\n"
   ]
  },
  {
   "cell_type": "markdown",
   "id": "bf3caa0b",
   "metadata": {},
   "source": [
    "# Query database\n",
    "Try one query at a time"
   ]
  },
  {
   "cell_type": "code",
   "execution_count": 8,
   "id": "f314a81d",
   "metadata": {},
   "outputs": [
    {
     "name": "stdout",
     "output_type": "stream",
     "text": [
      "{'_id': ObjectId('621ff30d2a3e781873fcb65c'), 'name': 'Mercury', 'orderFromSun': 1, 'hasRings': False, 'mainAtmosphere': [], 'surfaceTemperatureC': {'min': -173, 'max': 427, 'mean': 67}}\n",
      "{'_id': ObjectId('621ff30d2a3e781873fcb65f'), 'name': 'Neptune', 'orderFromSun': 8, 'hasRings': True, 'mainAtmosphere': ['H2', 'He', 'CH4'], 'surfaceTemperatureC': {'min': None, 'max': None, 'mean': -201}}\n"
     ]
    }
   ],
   "source": [
    "# Set database here:\n",
    "db = client.sample_guides\n",
    "coll = db.planets\n",
    "\n",
    "######-------------- Queries ----------------------------------------\n",
    "\n",
    "## Query using a single criteria\n",
    "# cursor = coll.find({\"hasRings\": False})\n",
    "\n",
    "## Query with multiple criteria (implicit AND)\n",
    "# cursor = coll.find({\"hasRings\": False, \"mainAtmosphere\": \"Ar\"})\n",
    "\n",
    "## Query using the 'less than' -- operator $lt (<)\n",
    "# cursor = coll.find({\"surfaceTemperatureC.mean\": {\"$lt\":15}})\n",
    "\n",
    "## Compound query (AND)\n",
    "# cursor = coll.find({\"surfaceTemperatureC.mean\": {\"$lt\": 15}, \"surfaceTemperatureC.min\": {\"$gt\": -100}})\n",
    "\n",
    "## Compound query on the same field ---> explicit AND\n",
    "# cursor = coll.find({\"$and\": [{\"orderFromSun\": {\"$gt\": 2}}, {\"orderFromSun\": {\"$lt\": 5}}]})\n",
    "\n",
    "## not the same as when ommiting the $and operator\n",
    "# cursor = coll.find({\"orderFromSun\": {\"$gt\": 2}}, {\"orderFromSun\": {\"$lt\": 5}})\n",
    "\n",
    "## Queries with mutually exclusive criteria -- OR operator\n",
    "cursor = coll.find(\n",
    "    {\n",
    "        \"$or\": [\n",
    "            {\"orderFromSun\": {\"$gt\": 7}},\n",
    "            {\"orderFromSun\": {\"$lt\": 2}},\n",
    "        ]\n",
    "    }\n",
    ")\n",
    "\n",
    "\n",
    "######---------------------------------------------------------------\n",
    "\n",
    "# iterate code goes here\n",
    "for doc in cursor:\n",
    "    print(doc)\n",
    "\n",
    "\n",
    "# # Close the connection to MongoDB when you're done.\n",
    "# client.close()"
   ]
  },
  {
   "cell_type": "markdown",
   "id": "d4abb857",
   "metadata": {},
   "source": [
    "# insert - update - delete data"
   ]
  },
  {
   "cell_type": "code",
   "execution_count": 9,
   "id": "b6afab1c",
   "metadata": {},
   "outputs": [
    {
     "name": "stdout",
     "output_type": "stream",
     "text": [
      "[ObjectId('65d8bb1525f5526235a3a75e'), ObjectId('65d8bb1525f5526235a3a75f'), ObjectId('65d8bb1525f5526235a3a760')]\n",
      "Number of documents updated:  3\n",
      "Number of documents deleted:  2\n"
     ]
    }
   ],
   "source": [
    "# select database & create collection if non existent:\n",
    "db = client.sample_guides\n",
    "coll = db.comets\n",
    "\n",
    "coll.drop()\n",
    "\n",
    "######--------------------------------- insert data ----------------------------------------------\n",
    "\n",
    "docs = [\n",
    "    {\"name\": \"Halley's Comet\", \"officialName\": \"1P/Halley\", \"orbitalPeriod\": 75, \"radius\": 3.4175, \"mass\": 2.2e14},\n",
    "    {\"name\": \"Wild2\", \"officialName\": \"81P/Wild\", \"orbitalPeriod\": 6.41, \"radius\": 1.5534, \"mass\": 2.3e13},\n",
    "    {\"name\": \"Comet Hyakutake\", \"officialName\": \"C/1996 B2\", \"orbitalPeriod\": 17000, \"radius\": 0.77671, \"mass\": 8.8e12},\n",
    "    ]\n",
    "\n",
    "result = coll.insert_many(docs)\n",
    "\n",
    "# verification display the results of your operation\n",
    "print(result.inserted_ids)\n",
    "\n",
    "\n",
    "######--------------------------------- update data ----------------------------------------------\n",
    "\n",
    "# multiply ($mul) radius field by convertion factor: 1 mile = 1.60934 km\n",
    "doc = {\"$mul\": {\"radius\": 1.60934}}\n",
    "result = coll.update_many({}, doc)\n",
    "\n",
    "# display the results of your operation\n",
    "print(\"Number of documents updated: \", result.modified_count)\n",
    "\n",
    "\n",
    "######--------------------------------- delete data ----------------------------------------------\n",
    "\n",
    "# using a query filter to delete documents where their orbitalPeriod is greater than 5 and less than 85\n",
    "doc = {\n",
    "    \"orbitalPeriod\": {\n",
    "        \"$gt\": 5,\n",
    "        \"$lt\": 85\n",
    "    }\n",
    "}\n",
    "\n",
    "result = coll.delete_many(doc)\n",
    "\n",
    "# amount deleted code goes here\n",
    "print(\"Number of documents deleted: \", result.deleted_count)\n",
    "\n",
    "######--------------------------------------------------------------------------------------------"
   ]
  },
  {
   "cell_type": "markdown",
   "id": "51a90991",
   "metadata": {},
   "source": [
    "# Upload serialized model"
   ]
  },
  {
   "cell_type": "code",
   "execution_count": 15,
   "id": "fa25417e",
   "metadata": {},
   "outputs": [
    {
     "name": "stdout",
     "output_type": "stream",
     "text": [
      " Volume in drive C is OS\n",
      " Volume Serial Number is 96E8-C330\n",
      "\n",
      " Directory of C:\\Ramiro\\Data Science\\0_DataScientest\\04_MLOps_project\\TradingBotApp_mlops\\models\n",
      "\n",
      "23/02/2024  15:38    <DIR>          .\n",
      "23/02/2024  15:51    <DIR>          ..\n",
      "23/02/2024  15:38                 0 .gitkeep\n",
      "23/02/2024  15:38         3.882.372 model_test.joblib\n",
      "23/02/2024  15:38                54 model_test_params.json\n",
      "               3 File(s)      3.882.426 bytes\n",
      "               2 Dir(s)  140.584.251.392 bytes free\n"
     ]
    }
   ],
   "source": [
    "ls \"../models\""
   ]
  },
  {
   "cell_type": "code",
   "execution_count": 62,
   "id": "4f68b3a8",
   "metadata": {},
   "outputs": [
    {
     "data": {
      "text/plain": [
       "InsertOneResult(ObjectId('65d8cef925f5526235a3a76d'), acknowledged=True)"
      ]
     },
     "execution_count": 62,
     "metadata": {},
     "output_type": "execute_result"
    }
   ],
   "source": [
    "from joblib import dump, load\n",
    "import bson.binary\n",
    "\n",
    "# Path to the model file\n",
    "models_path = \"../models/\"\n",
    "model_name = \"model_test\"\n",
    "model_filepath = models_path + model_name + \".joblib\"\n",
    "\n",
    "# Load the model\n",
    "model = load(model_filepath)\n",
    "\n",
    "# Read the serialized model bytes\n",
    "with open(model_filepath, 'rb') as f:\n",
    "    model_bytes = bson.binary.Binary(f.read())\n",
    "\n",
    "# Access the database and collection\n",
    "db = client['trading_bot']\n",
    "collection = db['models']\n",
    "\n",
    "# Data to insert\n",
    "doc = {\"name\": model_name, \"model\": model_bytes}\n",
    "\n",
    "# Insert the model bytes into the collection\n",
    "collection.insert_one(doc)\n"
   ]
  },
  {
   "cell_type": "markdown",
   "id": "a94fc33b",
   "metadata": {},
   "source": [
    "### Retrieve the model from cluster"
   ]
  },
  {
   "cell_type": "code",
   "execution_count": 63,
   "id": "ca2075f4",
   "metadata": {},
   "outputs": [
    {
     "name": "stdout",
     "output_type": "stream",
     "text": [
      "Model loaded successfully: KNeighborsClassifier(n_neighbors=32)\n"
     ]
    }
   ],
   "source": [
    "from joblib import dump, load\n",
    "import bson.binary\n",
    "\n",
    "# Load the model from MongoDB\n",
    "db = client['trading_bot']\n",
    "collection = db['models']\n",
    "doc = collection.find_one({\"name\": model_name})\n",
    "\n",
    "if doc:\n",
    "    model_bytes = doc[\"model\"]\n",
    "\n",
    "    # Create a BytesIO object to store the binary data\n",
    "    model_buffer = BytesIO(model_bytes)\n",
    "\n",
    "    # Load the model from the BytesIO object - to correctly handle utf-encoding\n",
    "    model = load(model_buffer)\n",
    "\n",
    "    # Now you can use the loaded model as needed\n",
    "    print(\"Model loaded successfully:\", model)\n",
    "else:\n",
    "    print(\"Model not found in the database.\")\n"
   ]
  },
  {
   "cell_type": "markdown",
   "id": "d3ec6afc",
   "metadata": {},
   "source": [
    "# Close connection\n",
    "always"
   ]
  },
  {
   "cell_type": "code",
   "execution_count": 64,
   "id": "cac5548c",
   "metadata": {},
   "outputs": [],
   "source": [
    "# Close the connection to MongoDB when you're done.\n",
    "client.close()"
   ]
  },
  {
   "cell_type": "code",
   "execution_count": 65,
   "id": "290e3685",
   "metadata": {},
   "outputs": [
    {
     "name": "stdout",
     "output_type": "stream",
     "text": [
      "Cannot use MongoClient after close\n"
     ]
    }
   ],
   "source": [
    "# Send a ping to confirm a successful connection\n",
    "try:\n",
    "    client.admin.command('ping')\n",
    "    print(\"Pinged your deployment. You successfully connected to MongoDB!\")\n",
    "except Exception as e:\n",
    "    print(e)"
   ]
  },
  {
   "cell_type": "code",
   "execution_count": null,
   "id": "1e968763",
   "metadata": {},
   "outputs": [],
   "source": []
  }
 ],
 "metadata": {
  "kernelspec": {
   "display_name": "env",
   "language": "python",
   "name": "env"
  },
  "language_info": {
   "codemirror_mode": {
    "name": "ipython",
    "version": 3
   },
   "file_extension": ".py",
   "mimetype": "text/x-python",
   "name": "python",
   "nbconvert_exporter": "python",
   "pygments_lexer": "ipython3",
   "version": "3.9.12"
  }
 },
 "nbformat": 4,
 "nbformat_minor": 5
}
