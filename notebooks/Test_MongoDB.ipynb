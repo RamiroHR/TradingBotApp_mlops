{
 "cells": [
  {
   "cell_type": "markdown",
   "id": "54310d4e",
   "metadata": {},
   "source": [
    "# Test Database connection string "
   ]
  },
  {
   "cell_type": "code",
   "execution_count": 104,
   "id": "8ad53180",
   "metadata": {},
   "outputs": [
    {
     "name": "stdout",
     "output_type": "stream",
     "text": [
      "Pinged your deployment. You successfully connected to MongoDB!\n"
     ]
    }
   ],
   "source": [
    "from pymongo import MongoClient\n",
    "\n",
    "# Replace the uri string with your MongoDB deployment's connection string.\n",
    "\n",
    "USERNAME = 'tradingbot_admin'\n",
    "PASSWORD = 'tradingbot_pass'\n",
    "CLUSTERNAME = 'tb-cluster-0'\n",
    "\n",
    "connection_uri = \"mongodb+srv://{username}:{password}@{cluster_name}.ztadynx.mongodb.net/?retryWrites=true&w=majority\"\n",
    "\n",
    "uri = connection_uri.format(\n",
    "    username = USERNAME,\n",
    "    password = PASSWORD,\n",
    "    cluster_name = CLUSTERNAME \n",
    ")\n",
    "\n",
    "# client = MongoClient(connection_url)\n",
    "client = MongoClient(uri)\n",
    "\n",
    "# Send a ping to confirm a successful connection\n",
    "try:\n",
    "    client.admin.command('ping')\n",
    "    print(\"Pinged your deployment. You successfully connected to MongoDB!\")\n",
    "except Exception as e:\n",
    "    print(e)"
   ]
  },
  {
   "cell_type": "markdown",
   "id": "7ed9818a",
   "metadata": {},
   "source": [
    "# Retrieve data"
   ]
  },
  {
   "cell_type": "code",
   "execution_count": 4,
   "id": "d78bbc15",
   "metadata": {},
   "outputs": [
    {
     "name": "stdout",
     "output_type": "stream",
     "text": [
      "{'_id': ObjectId('621ff30d2a3e781873fcb65c'), 'name': 'Mercury', 'orderFromSun': 1, 'hasRings': False, 'mainAtmosphere': [], 'surfaceTemperatureC': {'min': -173, 'max': 427, 'mean': 67}}\n",
      "{'_id': ObjectId('621ff30d2a3e781873fcb65e'), 'name': 'Mars', 'orderFromSun': 4, 'hasRings': False, 'mainAtmosphere': ['CO2', 'Ar', 'N'], 'surfaceTemperatureC': {'min': -143, 'max': 35, 'mean': -63}}\n",
      "{'_id': ObjectId('621ff30d2a3e781873fcb661'), 'name': 'Earth', 'orderFromSun': 3, 'hasRings': False, 'mainAtmosphere': ['N', 'O2', 'Ar'], 'surfaceTemperatureC': {'min': -89.2, 'max': 56.7, 'mean': 14}}\n",
      "{'_id': ObjectId('621ff30d2a3e781873fcb662'), 'name': 'Venus', 'orderFromSun': 2, 'hasRings': False, 'mainAtmosphere': ['CO2', 'N'], 'surfaceTemperatureC': {'min': None, 'max': None, 'mean': 464}}\n"
     ]
    }
   ],
   "source": [
    "# set database and collection code goes here\n",
    "db = client.sample_guides\n",
    "coll = db.planets\n",
    "\n",
    "# find code goes here\n",
    "cursor = coll.find({\"hasRings\": False})\n",
    "\n",
    "# iterate code goes here\n",
    "for doc in cursor:\n",
    "    print(doc)\n"
   ]
  },
  {
   "cell_type": "markdown",
   "id": "bf3caa0b",
   "metadata": {},
   "source": [
    "# Query database\n",
    "Try one query at a time"
   ]
  },
  {
   "cell_type": "code",
   "execution_count": 5,
   "id": "f314a81d",
   "metadata": {
    "scrolled": true
   },
   "outputs": [
    {
     "name": "stdout",
     "output_type": "stream",
     "text": [
      "{'_id': ObjectId('621ff30d2a3e781873fcb65c'), 'name': 'Mercury', 'orderFromSun': 1, 'hasRings': False, 'mainAtmosphere': [], 'surfaceTemperatureC': {'min': -173, 'max': 427, 'mean': 67}}\n",
      "{'_id': ObjectId('621ff30d2a3e781873fcb65f'), 'name': 'Neptune', 'orderFromSun': 8, 'hasRings': True, 'mainAtmosphere': ['H2', 'He', 'CH4'], 'surfaceTemperatureC': {'min': None, 'max': None, 'mean': -201}}\n"
     ]
    }
   ],
   "source": [
    "# Set database here:\n",
    "db = client.sample_guides\n",
    "coll = db.planets\n",
    "\n",
    "######-------------- Queries ----------------------------------------\n",
    "\n",
    "## Query using a single criteria\n",
    "# cursor = coll.find({\"hasRings\": False})\n",
    "\n",
    "## Query with multiple criteria (implicit AND)\n",
    "# cursor = coll.find({\"hasRings\": False, \"mainAtmosphere\": \"Ar\"})\n",
    "\n",
    "## Query using the 'less than' -- operator $lt (<)\n",
    "# cursor = coll.find({\"surfaceTemperatureC.mean\": {\"$lt\":15}})\n",
    "\n",
    "## Compound query (AND)\n",
    "# cursor = coll.find({\"surfaceTemperatureC.mean\": {\"$lt\": 15}, \"surfaceTemperatureC.min\": {\"$gt\": -100}})\n",
    "\n",
    "## Compound query on the same field ---> explicit AND\n",
    "# cursor = coll.find({\"$and\": [{\"orderFromSun\": {\"$gt\": 2}}, {\"orderFromSun\": {\"$lt\": 5}}]})\n",
    "\n",
    "## not the same as when ommiting the $and operator\n",
    "# cursor = coll.find({\"orderFromSun\": {\"$gt\": 2}}, {\"orderFromSun\": {\"$lt\": 5}})\n",
    "\n",
    "## Queries with mutually exclusive criteria -- OR operator\n",
    "cursor = coll.find(\n",
    "    {\n",
    "        \"$or\": [\n",
    "            {\"orderFromSun\": {\"$gt\": 7}},\n",
    "            {\"orderFromSun\": {\"$lt\": 2}},\n",
    "        ]\n",
    "    }\n",
    ")\n",
    "\n",
    "\n",
    "######---------------------------------------------------------------\n",
    "\n",
    "# iterate code goes here\n",
    "for doc in cursor:\n",
    "    print(doc)\n",
    "\n",
    "\n",
    "# # Close the connection to MongoDB when you're done.\n",
    "# client.close()"
   ]
  },
  {
   "cell_type": "markdown",
   "id": "d4abb857",
   "metadata": {},
   "source": [
    "# insert - update - delete data"
   ]
  },
  {
   "cell_type": "code",
   "execution_count": 10,
   "id": "b6afab1c",
   "metadata": {},
   "outputs": [
    {
     "name": "stdout",
     "output_type": "stream",
     "text": [
      "[ObjectId('65df0fe5028ab6f21b8addbf'), ObjectId('65df0fe5028ab6f21b8addc0'), ObjectId('65df0fe5028ab6f21b8addc1')]\n"
     ]
    }
   ],
   "source": [
    "# select database & create collection if non existent:\n",
    "db = client.sample_guides\n",
    "coll = db.comets\n",
    "\n",
    "coll.drop()\n",
    "\n",
    "######--------------------------------- insert data ----------------------------------------------\n",
    "\n",
    "docs = [\n",
    "    {\"name\": \"Halley's Comet\", \"officialName\": \"1P/Halley\", \"orbitalPeriod\": 75, \"radius\": 3.4175, \"mass\": 2.2e14},\n",
    "    {\"name\": \"Wild2\", \"officialName\": \"81P/Wild\", \"orbitalPeriod\": 6.41, \"radius\": 1.5534, \"mass\": 2.3e13},\n",
    "    {\"name\": \"Comet Hyakutake\", \"officialName\": \"C/1996 B2\", \"orbitalPeriod\": 17000, \"radius\": 0.77671, \"mass\": 8.8e12},\n",
    "    ]\n",
    "\n",
    "result = coll.insert_many(docs)\n",
    "\n",
    "# verification display the results of your operation\n",
    "print(result.inserted_ids)\n",
    "\n",
    "\n"
   ]
  },
  {
   "cell_type": "markdown",
   "id": "ac952e79",
   "metadata": {},
   "source": [
    "### Update data"
   ]
  },
  {
   "cell_type": "code",
   "execution_count": 11,
   "id": "75d013c7",
   "metadata": {},
   "outputs": [
    {
     "name": "stdout",
     "output_type": "stream",
     "text": [
      "Number of documents updated:  3\n"
     ]
    }
   ],
   "source": [
    "######--------------------------------- update data ----------------------------------------------\n",
    "\n",
    "# multiply ($mul) radius field by convertion factor: 1 mile = 1.60934 km\n",
    "doc = {\"$mul\": {\"radius\": 1.60934}}\n",
    "result = coll.update_many({}, doc)\n",
    "\n",
    "# display the results of your operation\n",
    "print(\"Number of documents updated: \", result.modified_count)\n"
   ]
  },
  {
   "cell_type": "markdown",
   "id": "859df6ec",
   "metadata": {},
   "source": [
    "### Delete data"
   ]
  },
  {
   "cell_type": "code",
   "execution_count": 12,
   "id": "ab2b8395",
   "metadata": {},
   "outputs": [
    {
     "name": "stdout",
     "output_type": "stream",
     "text": [
      "Number of documents deleted:  2\n"
     ]
    }
   ],
   "source": [
    "######--------------------------------- delete data ----------------------------------------------\n",
    "\n",
    "# using a query filter to delete documents where their orbitalPeriod is greater than 5 and less than 85\n",
    "doc = {\n",
    "    \"orbitalPeriod\": {\n",
    "        \"$gt\": 5,\n",
    "        \"$lt\": 85\n",
    "    }\n",
    "}\n",
    "\n",
    "result = coll.delete_many(doc)\n",
    "\n",
    "# amount deleted code goes here\n",
    "print(\"Number of documents deleted: \", result.deleted_count)\n",
    "\n",
    "######--------------------------------------------------------------------------------------------"
   ]
  },
  {
   "cell_type": "markdown",
   "id": "97cc8351",
   "metadata": {},
   "source": [
    "# User Admin Credentials"
   ]
  },
  {
   "cell_type": "markdown",
   "id": "e4617687",
   "metadata": {},
   "source": [
    "### Set user credentials for ligin on the api"
   ]
  },
  {
   "cell_type": "code",
   "execution_count": 101,
   "id": "85be841d",
   "metadata": {},
   "outputs": [
    {
     "name": "stdout",
     "output_type": "stream",
     "text": [
      "[ObjectId('65df2d26028ab6f21b8af075'), ObjectId('65df2d26028ab6f21b8af076'), ObjectId('65df2d26028ab6f21b8af077'), ObjectId('65df2d26028ab6f21b8af078'), ObjectId('65df2d26028ab6f21b8af079')]\n"
     ]
    }
   ],
   "source": [
    "# create database & collection if non existent:\n",
    "db = client.api_login_credentials\n",
    "coll = db.users\n",
    "\n",
    "coll.drop()\n",
    "\n",
    "######--------------------------------- insert data ----------------------------------------------\n",
    "\n",
    "docs = [\n",
    "    {\"username\": \"user_1\", \"password\": \"u_one\"},\n",
    "    {\"username\": \"user_2\", \"password\": \"u_two\"},\n",
    "    {\"username\": \"user_3\", \"password\": \"u_three\"},\n",
    "    {\"username\": \"user_4\", \"password\": \"u_four\"},\n",
    "    {\"username\": \"user_5\", \"password\": \"u_five\"},\n",
    "    ]\n",
    "\n",
    "result = coll.insert_many(docs)\n",
    "\n",
    "# verification display the results of your operation\n",
    "print(result.inserted_ids)"
   ]
  },
  {
   "cell_type": "code",
   "execution_count": 102,
   "id": "8370a0d6",
   "metadata": {},
   "outputs": [
    {
     "name": "stdout",
     "output_type": "stream",
     "text": [
      "[ObjectId('65df2d26028ab6f21b8af07a'), ObjectId('65df2d26028ab6f21b8af07b'), ObjectId('65df2d26028ab6f21b8af07c')]\n"
     ]
    }
   ],
   "source": [
    "# create database & collection if non existent:\n",
    "db = client.api_login_credentials\n",
    "coll = db.admins\n",
    "\n",
    "coll.drop()\n",
    "\n",
    "######--------------------------------- insert data ----------------------------------------------\n",
    "\n",
    "docs = [\n",
    "    {\"username\": \"admin_1\", \"password\": \"a_one\"},\n",
    "    {\"username\": \"admin_2\", \"password\": \"a_two\"},\n",
    "    {\"username\": \"admin_3\", \"password\": \"a_three\"},\n",
    "    ]\n",
    "\n",
    "result = coll.insert_many(docs)\n",
    "\n",
    "# verification display the results of your operation\n",
    "print(result.inserted_ids)"
   ]
  },
  {
   "cell_type": "code",
   "execution_count": null,
   "id": "98d54e4a",
   "metadata": {},
   "outputs": [],
   "source": []
  },
  {
   "cell_type": "code",
   "execution_count": 105,
   "id": "87678fc9",
   "metadata": {},
   "outputs": [
    {
     "name": "stdout",
     "output_type": "stream",
     "text": [
      "[{'_id': ObjectId('65df2d26028ab6f21b8af075'), 'username': 'user_1', 'password': 'u_one'}, {'_id': ObjectId('65df2d26028ab6f21b8af076'), 'username': 'user_2', 'password': 'u_two'}, {'_id': ObjectId('65df2d26028ab6f21b8af077'), 'username': 'user_3', 'password': 'u_three'}, {'_id': ObjectId('65df2d26028ab6f21b8af078'), 'username': 'user_4', 'password': 'u_four'}, {'_id': ObjectId('65df2d26028ab6f21b8af079'), 'username': 'user_5', 'password': 'u_five'}]\n"
     ]
    }
   ],
   "source": [
    "with MongoClient(uri) as client:\n",
    "        \n",
    "    db = client.api_login_credentials\n",
    "    coll = db.users\n",
    "\n",
    "    cursor = coll.find()\n",
    "\n",
    "    # query = 'SELECT * FROM Users;'\n",
    "    # results = connection.execute(text(query))\n",
    "\n",
    "    results = list(cursor)\n",
    "\n",
    "    \n",
    "    \n",
    "print(results)\n"
   ]
  },
  {
   "cell_type": "code",
   "execution_count": null,
   "id": "86cef674",
   "metadata": {},
   "outputs": [],
   "source": []
  },
  {
   "cell_type": "markdown",
   "id": "51a90991",
   "metadata": {},
   "source": [
    "# Upload serialized model"
   ]
  },
  {
   "cell_type": "code",
   "execution_count": 13,
   "id": "fa25417e",
   "metadata": {},
   "outputs": [
    {
     "name": "stdout",
     "output_type": "stream",
     "text": [
      " Volume in drive C is OS\n",
      " Volume Serial Number is 96E8-C330\n",
      "\n",
      " Directory of C:\\Ramiro\\Data Science\\0_DataScientest\\04_MLOps_project\\TradingBotApp_mlops\\models\n",
      "\n",
      "23/02/2024  15:38    <DIR>          .\n",
      "28/02/2024  11:26    <DIR>          ..\n",
      "23/02/2024  15:38                 0 .gitkeep\n",
      "23/02/2024  17:55         3.882.372 model_test.joblib\n",
      "23/02/2024  15:38                54 model_test_params.json\n",
      "               3 File(s)      3.882.426 bytes\n",
      "               2 Dir(s)  136.145.018.880 bytes free\n"
     ]
    }
   ],
   "source": [
    "ls \"../models\""
   ]
  },
  {
   "cell_type": "code",
   "execution_count": 14,
   "id": "4f68b3a8",
   "metadata": {},
   "outputs": [
    {
     "data": {
      "text/plain": [
       "InsertOneResult(ObjectId('65df1016028ab6f21b8addc2'), acknowledged=True)"
      ]
     },
     "execution_count": 14,
     "metadata": {},
     "output_type": "execute_result"
    }
   ],
   "source": [
    "from joblib import dump, load\n",
    "import bson.binary\n",
    "\n",
    "# Path to the model file\n",
    "models_path = \"../models/\"\n",
    "model_name = \"model_test\"\n",
    "model_filepath = models_path + model_name + \".joblib\"\n",
    "\n",
    "# Load the model\n",
    "model = load(model_filepath)\n",
    "\n",
    "# Read the serialized model bytes\n",
    "with open(model_filepath, 'rb') as f:\n",
    "    model_bytes = bson.binary.Binary(f.read())\n",
    "\n",
    "# Access the database and collection\n",
    "db = client['trading_bot']\n",
    "collection = db['models']\n",
    "\n",
    "# Data to insert\n",
    "doc = {\"name\": model_name, \"model\": model_bytes}\n",
    "\n",
    "# Insert the model bytes into the collection\n",
    "collection.insert_one(doc)\n"
   ]
  },
  {
   "cell_type": "markdown",
   "id": "a94fc33b",
   "metadata": {},
   "source": [
    "### Retrieve the model from cluster"
   ]
  },
  {
   "cell_type": "code",
   "execution_count": 16,
   "id": "ca2075f4",
   "metadata": {},
   "outputs": [
    {
     "name": "stdout",
     "output_type": "stream",
     "text": [
      "Model loaded successfully: KNeighborsClassifier(n_neighbors=32)\n"
     ]
    }
   ],
   "source": [
    "from joblib import dump, load\n",
    "import bson.binary\n",
    "from io import BytesIO\n",
    "\n",
    "# Load the model from MongoDB\n",
    "db = client['trading_bot']\n",
    "collection = db['models']\n",
    "doc = collection.find_one({\"name\": model_name})\n",
    "\n",
    "if doc:\n",
    "    model_bytes = doc[\"model\"]\n",
    "\n",
    "    # Create a BytesIO object to store the binary data\n",
    "    model_buffer = BytesIO(model_bytes)\n",
    "\n",
    "    # Load the model from the BytesIO object - to correctly handle utf-encoding\n",
    "    model = load(model_buffer)\n",
    "\n",
    "    # Now you can use the loaded model as needed\n",
    "    print(\"Model loaded successfully:\", model)\n",
    "else:\n",
    "    print(\"Model not found in the database.\")\n"
   ]
  },
  {
   "cell_type": "markdown",
   "id": "95f5babb",
   "metadata": {},
   "source": [
    "# Upload Time Series - csv file"
   ]
  },
  {
   "cell_type": "code",
   "execution_count": 63,
   "id": "6f3ed961",
   "metadata": {},
   "outputs": [],
   "source": [
    "import pandas as pd\n",
    "\n",
    "# Path to the data file\n",
    "file_path = \"../data/raw/\"\n",
    "file_name = \"BTCUSDT-1d-raw\"\n",
    "datafile = file_path + file_name + \".csv\"\n",
    "\n",
    "# Read the CSV file into a pandas DataFrame\n",
    "df = pd.read_csv(datafile)"
   ]
  },
  {
   "cell_type": "code",
   "execution_count": 64,
   "id": "59bd317e",
   "metadata": {},
   "outputs": [
    {
     "data": {
      "text/html": [
       "<div>\n",
       "<style scoped>\n",
       "    .dataframe tbody tr th:only-of-type {\n",
       "        vertical-align: middle;\n",
       "    }\n",
       "\n",
       "    .dataframe tbody tr th {\n",
       "        vertical-align: top;\n",
       "    }\n",
       "\n",
       "    .dataframe thead th {\n",
       "        text-align: right;\n",
       "    }\n",
       "</style>\n",
       "<table border=\"1\" class=\"dataframe\">\n",
       "  <thead>\n",
       "    <tr style=\"text-align: right;\">\n",
       "      <th></th>\n",
       "      <th>openT</th>\n",
       "      <th>open</th>\n",
       "      <th>high</th>\n",
       "      <th>low</th>\n",
       "      <th>close</th>\n",
       "      <th>baseVol</th>\n",
       "      <th>closeT</th>\n",
       "      <th>quoteVol</th>\n",
       "      <th>nbTrade</th>\n",
       "      <th>takerBaseVol</th>\n",
       "      <th>takerQuoteVol</th>\n",
       "    </tr>\n",
       "  </thead>\n",
       "  <tbody>\n",
       "    <tr>\n",
       "      <th>0</th>\n",
       "      <td>1502928000000</td>\n",
       "      <td>4261.48</td>\n",
       "      <td>4485.39</td>\n",
       "      <td>4200.74</td>\n",
       "      <td>4285.08</td>\n",
       "      <td>795.150377</td>\n",
       "      <td>1503014399999</td>\n",
       "      <td>3.454770e+06</td>\n",
       "      <td>3427</td>\n",
       "      <td>616.248541</td>\n",
       "      <td>2.678216e+06</td>\n",
       "    </tr>\n",
       "    <tr>\n",
       "      <th>1</th>\n",
       "      <td>1503014400000</td>\n",
       "      <td>4285.08</td>\n",
       "      <td>4371.52</td>\n",
       "      <td>3938.77</td>\n",
       "      <td>4108.37</td>\n",
       "      <td>1199.888264</td>\n",
       "      <td>1503100799999</td>\n",
       "      <td>5.086958e+06</td>\n",
       "      <td>5233</td>\n",
       "      <td>972.868710</td>\n",
       "      <td>4.129123e+06</td>\n",
       "    </tr>\n",
       "    <tr>\n",
       "      <th>2</th>\n",
       "      <td>1503100800000</td>\n",
       "      <td>4108.37</td>\n",
       "      <td>4184.69</td>\n",
       "      <td>3850.00</td>\n",
       "      <td>4139.98</td>\n",
       "      <td>381.309763</td>\n",
       "      <td>1503187199999</td>\n",
       "      <td>1.549484e+06</td>\n",
       "      <td>2153</td>\n",
       "      <td>274.336042</td>\n",
       "      <td>1.118002e+06</td>\n",
       "    </tr>\n",
       "    <tr>\n",
       "      <th>3</th>\n",
       "      <td>1503187200000</td>\n",
       "      <td>4120.98</td>\n",
       "      <td>4211.08</td>\n",
       "      <td>4032.62</td>\n",
       "      <td>4086.29</td>\n",
       "      <td>467.083022</td>\n",
       "      <td>1503273599999</td>\n",
       "      <td>1.930364e+06</td>\n",
       "      <td>2321</td>\n",
       "      <td>376.795947</td>\n",
       "      <td>1.557401e+06</td>\n",
       "    </tr>\n",
       "    <tr>\n",
       "      <th>4</th>\n",
       "      <td>1503273600000</td>\n",
       "      <td>4069.13</td>\n",
       "      <td>4119.62</td>\n",
       "      <td>3911.79</td>\n",
       "      <td>4016.00</td>\n",
       "      <td>691.743060</td>\n",
       "      <td>1503359999999</td>\n",
       "      <td>2.797232e+06</td>\n",
       "      <td>3972</td>\n",
       "      <td>557.356107</td>\n",
       "      <td>2.255663e+06</td>\n",
       "    </tr>\n",
       "  </tbody>\n",
       "</table>\n",
       "</div>"
      ],
      "text/plain": [
       "           openT     open     high      low    close      baseVol  \\\n",
       "0  1502928000000  4261.48  4485.39  4200.74  4285.08   795.150377   \n",
       "1  1503014400000  4285.08  4371.52  3938.77  4108.37  1199.888264   \n",
       "2  1503100800000  4108.37  4184.69  3850.00  4139.98   381.309763   \n",
       "3  1503187200000  4120.98  4211.08  4032.62  4086.29   467.083022   \n",
       "4  1503273600000  4069.13  4119.62  3911.79  4016.00   691.743060   \n",
       "\n",
       "          closeT      quoteVol  nbTrade  takerBaseVol  takerQuoteVol  \n",
       "0  1503014399999  3.454770e+06     3427    616.248541   2.678216e+06  \n",
       "1  1503100799999  5.086958e+06     5233    972.868710   4.129123e+06  \n",
       "2  1503187199999  1.549484e+06     2153    274.336042   1.118002e+06  \n",
       "3  1503273599999  1.930364e+06     2321    376.795947   1.557401e+06  \n",
       "4  1503359999999  2.797232e+06     3972    557.356107   2.255663e+06  "
      ]
     },
     "execution_count": 64,
     "metadata": {},
     "output_type": "execute_result"
    }
   ],
   "source": [
    "# df = df.head(10)\n",
    "df.head()"
   ]
  },
  {
   "cell_type": "code",
   "execution_count": 65,
   "id": "4e2b73dc",
   "metadata": {},
   "outputs": [
    {
     "name": "stdout",
     "output_type": "stream",
     "text": [
      "<class 'pandas.core.frame.DataFrame'>\n",
      "RangeIndex: 2386 entries, 0 to 2385\n",
      "Data columns (total 11 columns):\n",
      " #   Column         Non-Null Count  Dtype  \n",
      "---  ------         --------------  -----  \n",
      " 0   openT          2386 non-null   int64  \n",
      " 1   open           2386 non-null   float64\n",
      " 2   high           2386 non-null   float64\n",
      " 3   low            2386 non-null   float64\n",
      " 4   close          2386 non-null   float64\n",
      " 5   baseVol        2386 non-null   float64\n",
      " 6   closeT         2386 non-null   int64  \n",
      " 7   quoteVol       2386 non-null   float64\n",
      " 8   nbTrade        2386 non-null   int64  \n",
      " 9   takerBaseVol   2386 non-null   float64\n",
      " 10  takerQuoteVol  2386 non-null   float64\n",
      "dtypes: float64(8), int64(3)\n",
      "memory usage: 205.2 KB\n"
     ]
    }
   ],
   "source": [
    "df.info()"
   ]
  },
  {
   "cell_type": "code",
   "execution_count": 79,
   "id": "f32c6c5c",
   "metadata": {},
   "outputs": [
    {
     "data": {
      "text/html": [
       "<div>\n",
       "<style scoped>\n",
       "    .dataframe tbody tr th:only-of-type {\n",
       "        vertical-align: middle;\n",
       "    }\n",
       "\n",
       "    .dataframe tbody tr th {\n",
       "        vertical-align: top;\n",
       "    }\n",
       "\n",
       "    .dataframe thead th {\n",
       "        text-align: right;\n",
       "    }\n",
       "</style>\n",
       "<table border=\"1\" class=\"dataframe\">\n",
       "  <thead>\n",
       "    <tr style=\"text-align: right;\">\n",
       "      <th></th>\n",
       "      <th>openT</th>\n",
       "      <th>open</th>\n",
       "      <th>high</th>\n",
       "      <th>low</th>\n",
       "      <th>close</th>\n",
       "      <th>baseVol</th>\n",
       "      <th>closeT</th>\n",
       "      <th>quoteVol</th>\n",
       "      <th>nbTrade</th>\n",
       "      <th>takerBaseVol</th>\n",
       "      <th>takerQuoteVol</th>\n",
       "    </tr>\n",
       "  </thead>\n",
       "  <tbody>\n",
       "    <tr>\n",
       "      <th>count</th>\n",
       "      <td>2.386000e+03</td>\n",
       "      <td>2386.000000</td>\n",
       "      <td>2386.000000</td>\n",
       "      <td>2386.000000</td>\n",
       "      <td>2386.000000</td>\n",
       "      <td>2386.000000</td>\n",
       "      <td>2.386000e+03</td>\n",
       "      <td>2.386000e+03</td>\n",
       "      <td>2.386000e+03</td>\n",
       "      <td>2386.000000</td>\n",
       "      <td>2.386000e+03</td>\n",
       "    </tr>\n",
       "    <tr>\n",
       "      <th>mean</th>\n",
       "      <td>1.605960e+12</td>\n",
       "      <td>21487.412049</td>\n",
       "      <td>22037.782066</td>\n",
       "      <td>20885.663592</td>\n",
       "      <td>21509.592272</td>\n",
       "      <td>72488.478233</td>\n",
       "      <td>1.606046e+12</td>\n",
       "      <td>1.632706e+09</td>\n",
       "      <td>1.441035e+06</td>\n",
       "      <td>36053.381454</td>\n",
       "      <td>8.090410e+08</td>\n",
       "    </tr>\n",
       "    <tr>\n",
       "      <th>std</th>\n",
       "      <td>5.952296e+10</td>\n",
       "      <td>16178.293277</td>\n",
       "      <td>16590.698244</td>\n",
       "      <td>15723.215679</td>\n",
       "      <td>16190.854641</td>\n",
       "      <td>83795.679149</td>\n",
       "      <td>5.952302e+10</td>\n",
       "      <td>2.033669e+09</td>\n",
       "      <td>1.972967e+06</td>\n",
       "      <td>41689.043795</td>\n",
       "      <td>1.010490e+09</td>\n",
       "    </tr>\n",
       "    <tr>\n",
       "      <th>min</th>\n",
       "      <td>1.502928e+12</td>\n",
       "      <td>3188.010000</td>\n",
       "      <td>3276.500000</td>\n",
       "      <td>2817.000000</td>\n",
       "      <td>3189.020000</td>\n",
       "      <td>228.108068</td>\n",
       "      <td>1.503014e+12</td>\n",
       "      <td>9.778657e+05</td>\n",
       "      <td>2.153000e+03</td>\n",
       "      <td>56.190141</td>\n",
       "      <td>2.413638e+05</td>\n",
       "    </tr>\n",
       "    <tr>\n",
       "      <th>25%</th>\n",
       "      <td>1.554444e+12</td>\n",
       "      <td>8025.940000</td>\n",
       "      <td>8234.150000</td>\n",
       "      <td>7774.500000</td>\n",
       "      <td>8034.482500</td>\n",
       "      <td>29823.917373</td>\n",
       "      <td>1.554530e+12</td>\n",
       "      <td>2.860238e+08</td>\n",
       "      <td>3.049765e+05</td>\n",
       "      <td>15077.497985</td>\n",
       "      <td>1.469227e+08</td>\n",
       "    </tr>\n",
       "    <tr>\n",
       "      <th>50%</th>\n",
       "      <td>1.605960e+12</td>\n",
       "      <td>16593.485000</td>\n",
       "      <td>16814.310000</td>\n",
       "      <td>16208.500000</td>\n",
       "      <td>16598.975000</td>\n",
       "      <td>46019.775275</td>\n",
       "      <td>1.606046e+12</td>\n",
       "      <td>7.939103e+08</td>\n",
       "      <td>8.005875e+05</td>\n",
       "      <td>22808.222105</td>\n",
       "      <td>3.860141e+08</td>\n",
       "    </tr>\n",
       "    <tr>\n",
       "      <th>75%</th>\n",
       "      <td>1.657476e+12</td>\n",
       "      <td>32861.790000</td>\n",
       "      <td>34092.002500</td>\n",
       "      <td>31238.425000</td>\n",
       "      <td>32927.805000</td>\n",
       "      <td>76701.578827</td>\n",
       "      <td>1.657562e+12</td>\n",
       "      <td>2.273158e+09</td>\n",
       "      <td>1.578868e+06</td>\n",
       "      <td>37926.445910</td>\n",
       "      <td>1.125118e+09</td>\n",
       "    </tr>\n",
       "    <tr>\n",
       "      <th>max</th>\n",
       "      <td>1.708992e+12</td>\n",
       "      <td>67525.820000</td>\n",
       "      <td>69000.000000</td>\n",
       "      <td>66222.400000</td>\n",
       "      <td>67525.830000</td>\n",
       "      <td>760705.362783</td>\n",
       "      <td>1.709078e+12</td>\n",
       "      <td>1.746531e+10</td>\n",
       "      <td>1.522359e+07</td>\n",
       "      <td>374775.574085</td>\n",
       "      <td>8.783916e+09</td>\n",
       "    </tr>\n",
       "  </tbody>\n",
       "</table>\n",
       "</div>"
      ],
      "text/plain": [
       "              openT          open          high           low         close  \\\n",
       "count  2.386000e+03   2386.000000   2386.000000   2386.000000   2386.000000   \n",
       "mean   1.605960e+12  21487.412049  22037.782066  20885.663592  21509.592272   \n",
       "std    5.952296e+10  16178.293277  16590.698244  15723.215679  16190.854641   \n",
       "min    1.502928e+12   3188.010000   3276.500000   2817.000000   3189.020000   \n",
       "25%    1.554444e+12   8025.940000   8234.150000   7774.500000   8034.482500   \n",
       "50%    1.605960e+12  16593.485000  16814.310000  16208.500000  16598.975000   \n",
       "75%    1.657476e+12  32861.790000  34092.002500  31238.425000  32927.805000   \n",
       "max    1.708992e+12  67525.820000  69000.000000  66222.400000  67525.830000   \n",
       "\n",
       "             baseVol        closeT      quoteVol       nbTrade   takerBaseVol  \\\n",
       "count    2386.000000  2.386000e+03  2.386000e+03  2.386000e+03    2386.000000   \n",
       "mean    72488.478233  1.606046e+12  1.632706e+09  1.441035e+06   36053.381454   \n",
       "std     83795.679149  5.952302e+10  2.033669e+09  1.972967e+06   41689.043795   \n",
       "min       228.108068  1.503014e+12  9.778657e+05  2.153000e+03      56.190141   \n",
       "25%     29823.917373  1.554530e+12  2.860238e+08  3.049765e+05   15077.497985   \n",
       "50%     46019.775275  1.606046e+12  7.939103e+08  8.005875e+05   22808.222105   \n",
       "75%     76701.578827  1.657562e+12  2.273158e+09  1.578868e+06   37926.445910   \n",
       "max    760705.362783  1.709078e+12  1.746531e+10  1.522359e+07  374775.574085   \n",
       "\n",
       "       takerQuoteVol  \n",
       "count   2.386000e+03  \n",
       "mean    8.090410e+08  \n",
       "std     1.010490e+09  \n",
       "min     2.413638e+05  \n",
       "25%     1.469227e+08  \n",
       "50%     3.860141e+08  \n",
       "75%     1.125118e+09  \n",
       "max     8.783916e+09  "
      ]
     },
     "execution_count": 79,
     "metadata": {},
     "output_type": "execute_result"
    }
   ],
   "source": [
    "df.describe()"
   ]
  },
  {
   "cell_type": "code",
   "execution_count": 40,
   "id": "33aed78c",
   "metadata": {},
   "outputs": [
    {
     "data": {
      "text/plain": [
       "InsertManyResult([ObjectId('65df186b028ab6f21b8ae71f'), ObjectId('65df186b028ab6f21b8ae720'), ObjectId('65df186b028ab6f21b8ae721'), ObjectId('65df186b028ab6f21b8ae722'), ObjectId('65df186b028ab6f21b8ae723'), ObjectId('65df186b028ab6f21b8ae724'), ObjectId('65df186b028ab6f21b8ae725'), ObjectId('65df186b028ab6f21b8ae726'), ObjectId('65df186b028ab6f21b8ae727'), ObjectId('65df186b028ab6f21b8ae728'), ObjectId('65df186b028ab6f21b8ae729'), ObjectId('65df186b028ab6f21b8ae72a'), ObjectId('65df186b028ab6f21b8ae72b'), ObjectId('65df186b028ab6f21b8ae72c'), ObjectId('65df186b028ab6f21b8ae72d'), ObjectId('65df186b028ab6f21b8ae72e'), ObjectId('65df186b028ab6f21b8ae72f'), ObjectId('65df186b028ab6f21b8ae730'), ObjectId('65df186b028ab6f21b8ae731'), ObjectId('65df186b028ab6f21b8ae732'), ObjectId('65df186b028ab6f21b8ae733'), ObjectId('65df186b028ab6f21b8ae734'), ObjectId('65df186b028ab6f21b8ae735'), ObjectId('65df186b028ab6f21b8ae736'), ObjectId('65df186b028ab6f21b8ae737'), ObjectId('65df186b028ab6f21b8ae738'), ObjectId('65df186b028ab6f21b8ae739'), ObjectId('65df186b028ab6f21b8ae73a'), ObjectId('65df186b028ab6f21b8ae73b'), ObjectId('65df186b028ab6f21b8ae73c'), ObjectId('65df186b028ab6f21b8ae73d'), ObjectId('65df186b028ab6f21b8ae73e'), ObjectId('65df186b028ab6f21b8ae73f'), ObjectId('65df186b028ab6f21b8ae740'), ObjectId('65df186b028ab6f21b8ae741'), ObjectId('65df186b028ab6f21b8ae742'), ObjectId('65df186b028ab6f21b8ae743'), ObjectId('65df186b028ab6f21b8ae744'), ObjectId('65df186b028ab6f21b8ae745'), ObjectId('65df186b028ab6f21b8ae746'), ObjectId('65df186b028ab6f21b8ae747'), ObjectId('65df186b028ab6f21b8ae748'), ObjectId('65df186b028ab6f21b8ae749'), ObjectId('65df186b028ab6f21b8ae74a'), ObjectId('65df186b028ab6f21b8ae74b'), ObjectId('65df186b028ab6f21b8ae74c'), ObjectId('65df186b028ab6f21b8ae74d'), ObjectId('65df186b028ab6f21b8ae74e'), ObjectId('65df186b028ab6f21b8ae74f'), ObjectId('65df186b028ab6f21b8ae750'), ObjectId('65df186b028ab6f21b8ae751'), ObjectId('65df186b028ab6f21b8ae752'), ObjectId('65df186b028ab6f21b8ae753'), ObjectId('65df186b028ab6f21b8ae754'), ObjectId('65df186b028ab6f21b8ae755'), ObjectId('65df186b028ab6f21b8ae756'), ObjectId('65df186b028ab6f21b8ae757'), ObjectId('65df186b028ab6f21b8ae758'), ObjectId('65df186b028ab6f21b8ae759'), ObjectId('65df186b028ab6f21b8ae75a'), ObjectId('65df186b028ab6f21b8ae75b'), ObjectId('65df186b028ab6f21b8ae75c'), ObjectId('65df186b028ab6f21b8ae75d'), ObjectId('65df186b028ab6f21b8ae75e'), ObjectId('65df186b028ab6f21b8ae75f'), ObjectId('65df186b028ab6f21b8ae760'), ObjectId('65df186b028ab6f21b8ae761'), ObjectId('65df186b028ab6f21b8ae762'), ObjectId('65df186b028ab6f21b8ae763'), ObjectId('65df186b028ab6f21b8ae764'), ObjectId('65df186b028ab6f21b8ae765'), ObjectId('65df186b028ab6f21b8ae766'), ObjectId('65df186b028ab6f21b8ae767'), ObjectId('65df186b028ab6f21b8ae768'), ObjectId('65df186b028ab6f21b8ae769'), ObjectId('65df186b028ab6f21b8ae76a'), ObjectId('65df186b028ab6f21b8ae76b'), ObjectId('65df186b028ab6f21b8ae76c'), ObjectId('65df186b028ab6f21b8ae76d'), ObjectId('65df186b028ab6f21b8ae76e'), ObjectId('65df186b028ab6f21b8ae76f'), ObjectId('65df186b028ab6f21b8ae770'), ObjectId('65df186b028ab6f21b8ae771'), ObjectId('65df186b028ab6f21b8ae772'), ObjectId('65df186b028ab6f21b8ae773'), ObjectId('65df186b028ab6f21b8ae774'), ObjectId('65df186b028ab6f21b8ae775'), ObjectId('65df186b028ab6f21b8ae776'), ObjectId('65df186b028ab6f21b8ae777'), ObjectId('65df186b028ab6f21b8ae778'), ObjectId('65df186b028ab6f21b8ae779'), ObjectId('65df186b028ab6f21b8ae77a'), ObjectId('65df186b028ab6f21b8ae77b'), ObjectId('65df186b028ab6f21b8ae77c'), ObjectId('65df186b028ab6f21b8ae77d'), ObjectId('65df186b028ab6f21b8ae77e'), ObjectId('65df186b028ab6f21b8ae77f'), ObjectId('65df186b028ab6f21b8ae780'), ObjectId('65df186b028ab6f21b8ae781'), ObjectId('65df186b028ab6f21b8ae782'), ObjectId('65df186b028ab6f21b8ae783'), ObjectId('65df186b028ab6f21b8ae784'), ObjectId('65df186b028ab6f21b8ae785'), ObjectId('65df186b028ab6f21b8ae786'), ObjectId('65df186b028ab6f21b8ae787'), ObjectId('65df186b028ab6f21b8ae788'), ObjectId('65df186b028ab6f21b8ae789'), ObjectId('65df186b028ab6f21b8ae78a'), ObjectId('65df186b028ab6f21b8ae78b'), ObjectId('65df186b028ab6f21b8ae78c'), ObjectId('65df186b028ab6f21b8ae78d'), ObjectId('65df186b028ab6f21b8ae78e'), ObjectId('65df186b028ab6f21b8ae78f'), ObjectId('65df186b028ab6f21b8ae790'), ObjectId('65df186b028ab6f21b8ae791'), ObjectId('65df186b028ab6f21b8ae792'), ObjectId('65df186b028ab6f21b8ae793'), ObjectId('65df186b028ab6f21b8ae794'), ObjectId('65df186b028ab6f21b8ae795'), ObjectId('65df186b028ab6f21b8ae796'), ObjectId('65df186b028ab6f21b8ae797'), ObjectId('65df186b028ab6f21b8ae798'), ObjectId('65df186b028ab6f21b8ae799'), ObjectId('65df186b028ab6f21b8ae79a'), ObjectId('65df186b028ab6f21b8ae79b'), ObjectId('65df186b028ab6f21b8ae79c'), ObjectId('65df186b028ab6f21b8ae79d'), ObjectId('65df186b028ab6f21b8ae79e'), ObjectId('65df186b028ab6f21b8ae79f'), ObjectId('65df186b028ab6f21b8ae7a0'), ObjectId('65df186b028ab6f21b8ae7a1'), ObjectId('65df186b028ab6f21b8ae7a2'), ObjectId('65df186b028ab6f21b8ae7a3'), ObjectId('65df186b028ab6f21b8ae7a4'), ObjectId('65df186b028ab6f21b8ae7a5'), ObjectId('65df186b028ab6f21b8ae7a6'), ObjectId('65df186b028ab6f21b8ae7a7'), ObjectId('65df186b028ab6f21b8ae7a8'), ObjectId('65df186b028ab6f21b8ae7a9'), ObjectId('65df186b028ab6f21b8ae7aa'), ObjectId('65df186b028ab6f21b8ae7ab'), ObjectId('65df186b028ab6f21b8ae7ac'), ObjectId('65df186b028ab6f21b8ae7ad'), ObjectId('65df186b028ab6f21b8ae7ae'), ObjectId('65df186b028ab6f21b8ae7af'), ObjectId('65df186b028ab6f21b8ae7b0'), ObjectId('65df186b028ab6f21b8ae7b1'), ObjectId('65df186b028ab6f21b8ae7b2'), ObjectId('65df186b028ab6f21b8ae7b3'), ObjectId('65df186b028ab6f21b8ae7b4'), ObjectId('65df186b028ab6f21b8ae7b5'), ObjectId('65df186b028ab6f21b8ae7b6'), ObjectId('65df186b028ab6f21b8ae7b7'), ObjectId('65df186b028ab6f21b8ae7b8'), ObjectId('65df186b028ab6f21b8ae7b9'), ObjectId('65df186b028ab6f21b8ae7ba'), ObjectId('65df186b028ab6f21b8ae7bb'), ObjectId('65df186b028ab6f21b8ae7bc'), ObjectId('65df186b028ab6f21b8ae7bd'), ObjectId('65df186b028ab6f21b8ae7be'), ObjectId('65df186b028ab6f21b8ae7bf'), ObjectId('65df186b028ab6f21b8ae7c0'), ObjectId('65df186b028ab6f21b8ae7c1'), ObjectId('65df186b028ab6f21b8ae7c2'), ObjectId('65df186b028ab6f21b8ae7c3'), ObjectId('65df186b028ab6f21b8ae7c4'), ObjectId('65df186b028ab6f21b8ae7c5'), ObjectId('65df186b028ab6f21b8ae7c6'), ObjectId('65df186b028ab6f21b8ae7c7'), ObjectId('65df186b028ab6f21b8ae7c8'), ObjectId('65df186b028ab6f21b8ae7c9'), ObjectId('65df186b028ab6f21b8ae7ca'), ObjectId('65df186b028ab6f21b8ae7cb'), ObjectId('65df186b028ab6f21b8ae7cc'), ObjectId('65df186b028ab6f21b8ae7cd'), ObjectId('65df186b028ab6f21b8ae7ce'), ObjectId('65df186b028ab6f21b8ae7cf'), ObjectId('65df186b028ab6f21b8ae7d0'), ObjectId('65df186b028ab6f21b8ae7d1'), ObjectId('65df186b028ab6f21b8ae7d2'), ObjectId('65df186b028ab6f21b8ae7d3'), ObjectId('65df186b028ab6f21b8ae7d4'), ObjectId('65df186b028ab6f21b8ae7d5'), ObjectId('65df186b028ab6f21b8ae7d6'), ObjectId('65df186b028ab6f21b8ae7d7'), ObjectId('65df186b028ab6f21b8ae7d8'), ObjectId('65df186b028ab6f21b8ae7d9'), ObjectId('65df186b028ab6f21b8ae7da'), ObjectId('65df186b028ab6f21b8ae7db'), ObjectId('65df186b028ab6f21b8ae7dc'), ObjectId('65df186b028ab6f21b8ae7dd'), ObjectId('65df186b028ab6f21b8ae7de'), ObjectId('65df186b028ab6f21b8ae7df'), ObjectId('65df186b028ab6f21b8ae7e0'), ObjectId('65df186b028ab6f21b8ae7e1'), ObjectId('65df186b028ab6f21b8ae7e2'), ObjectId('65df186b028ab6f21b8ae7e3'), ObjectId('65df186b028ab6f21b8ae7e4'), ObjectId('65df186b028ab6f21b8ae7e5'), ObjectId('65df186b028ab6f21b8ae7e6'), ObjectId('65df186b028ab6f21b8ae7e7'), ObjectId('65df186b028ab6f21b8ae7e8'), ObjectId('65df186b028ab6f21b8ae7e9'), ObjectId('65df186b028ab6f21b8ae7ea'), ObjectId('65df186b028ab6f21b8ae7eb'), ObjectId('65df186b028ab6f21b8ae7ec'), ObjectId('65df186b028ab6f21b8ae7ed'), ObjectId('65df186b028ab6f21b8ae7ee'), ObjectId('65df186b028ab6f21b8ae7ef'), ObjectId('65df186b028ab6f21b8ae7f0'), ObjectId('65df186b028ab6f21b8ae7f1'), ObjectId('65df186b028ab6f21b8ae7f2'), ObjectId('65df186b028ab6f21b8ae7f3'), ObjectId('65df186b028ab6f21b8ae7f4'), ObjectId('65df186b028ab6f21b8ae7f5'), ObjectId('65df186b028ab6f21b8ae7f6'), ObjectId('65df186b028ab6f21b8ae7f7'), ObjectId('65df186b028ab6f21b8ae7f8'), ObjectId('65df186b028ab6f21b8ae7f9'), ObjectId('65df186b028ab6f21b8ae7fa'), ObjectId('65df186b028ab6f21b8ae7fb'), ObjectId('65df186b028ab6f21b8ae7fc'), ObjectId('65df186b028ab6f21b8ae7fd'), ObjectId('65df186b028ab6f21b8ae7fe'), ObjectId('65df186b028ab6f21b8ae7ff'), ObjectId('65df186b028ab6f21b8ae800'), ObjectId('65df186b028ab6f21b8ae801'), ObjectId('65df186b028ab6f21b8ae802'), ObjectId('65df186b028ab6f21b8ae803'), ObjectId('65df186b028ab6f21b8ae804'), ObjectId('65df186b028ab6f21b8ae805'), ObjectId('65df186b028ab6f21b8ae806'), ObjectId('65df186b028ab6f21b8ae807'), ObjectId('65df186b028ab6f21b8ae808'), ObjectId('65df186b028ab6f21b8ae809'), ObjectId('65df186b028ab6f21b8ae80a'), ObjectId('65df186b028ab6f21b8ae80b'), ObjectId('65df186b028ab6f21b8ae80c'), ObjectId('65df186b028ab6f21b8ae80d'), ObjectId('65df186b028ab6f21b8ae80e'), ObjectId('65df186b028ab6f21b8ae80f'), ObjectId('65df186b028ab6f21b8ae810'), ObjectId('65df186b028ab6f21b8ae811'), ObjectId('65df186b028ab6f21b8ae812'), ObjectId('65df186b028ab6f21b8ae813'), ObjectId('65df186b028ab6f21b8ae814'), ObjectId('65df186b028ab6f21b8ae815'), ObjectId('65df186b028ab6f21b8ae816'), ObjectId('65df186b028ab6f21b8ae817'), ObjectId('65df186b028ab6f21b8ae818'), ObjectId('65df186b028ab6f21b8ae819'), ObjectId('65df186b028ab6f21b8ae81a'), ObjectId('65df186b028ab6f21b8ae81b'), ObjectId('65df186b028ab6f21b8ae81c'), ObjectId('65df186b028ab6f21b8ae81d'), ObjectId('65df186b028ab6f21b8ae81e'), ObjectId('65df186b028ab6f21b8ae81f'), ObjectId('65df186b028ab6f21b8ae820'), ObjectId('65df186b028ab6f21b8ae821'), ObjectId('65df186b028ab6f21b8ae822'), ObjectId('65df186b028ab6f21b8ae823'), ObjectId('65df186b028ab6f21b8ae824'), ObjectId('65df186b028ab6f21b8ae825'), ObjectId('65df186b028ab6f21b8ae826'), ObjectId('65df186b028ab6f21b8ae827'), ObjectId('65df186b028ab6f21b8ae828'), ObjectId('65df186b028ab6f21b8ae829'), ObjectId('65df186b028ab6f21b8ae82a'), ObjectId('65df186b028ab6f21b8ae82b'), ObjectId('65df186b028ab6f21b8ae82c'), ObjectId('65df186b028ab6f21b8ae82d'), ObjectId('65df186b028ab6f21b8ae82e'), ObjectId('65df186b028ab6f21b8ae82f'), ObjectId('65df186b028ab6f21b8ae830'), ObjectId('65df186b028ab6f21b8ae831'), ObjectId('65df186b028ab6f21b8ae832'), ObjectId('65df186b028ab6f21b8ae833'), ObjectId('65df186b028ab6f21b8ae834'), ObjectId('65df186b028ab6f21b8ae835'), ObjectId('65df186b028ab6f21b8ae836'), ObjectId('65df186b028ab6f21b8ae837'), ObjectId('65df186b028ab6f21b8ae838'), ObjectId('65df186b028ab6f21b8ae839'), ObjectId('65df186b028ab6f21b8ae83a'), ObjectId('65df186b028ab6f21b8ae83b'), ObjectId('65df186b028ab6f21b8ae83c'), ObjectId('65df186b028ab6f21b8ae83d'), ObjectId('65df186b028ab6f21b8ae83e'), ObjectId('65df186b028ab6f21b8ae83f'), ObjectId('65df186b028ab6f21b8ae840'), ObjectId('65df186b028ab6f21b8ae841'), ObjectId('65df186b028ab6f21b8ae842'), ObjectId('65df186b028ab6f21b8ae843'), ObjectId('65df186b028ab6f21b8ae844'), ObjectId('65df186b028ab6f21b8ae845'), ObjectId('65df186b028ab6f21b8ae846'), ObjectId('65df186b028ab6f21b8ae847'), ObjectId('65df186b028ab6f21b8ae848'), ObjectId('65df186b028ab6f21b8ae849'), ObjectId('65df186b028ab6f21b8ae84a'), ObjectId('65df186b028ab6f21b8ae84b'), ObjectId('65df186b028ab6f21b8ae84c'), ObjectId('65df186b028ab6f21b8ae84d'), ObjectId('65df186b028ab6f21b8ae84e'), ObjectId('65df186b028ab6f21b8ae84f'), ObjectId('65df186b028ab6f21b8ae850'), ObjectId('65df186b028ab6f21b8ae851'), ObjectId('65df186b028ab6f21b8ae852'), ObjectId('65df186b028ab6f21b8ae853'), ObjectId('65df186b028ab6f21b8ae854'), ObjectId('65df186b028ab6f21b8ae855'), ObjectId('65df186b028ab6f21b8ae856'), ObjectId('65df186b028ab6f21b8ae857'), ObjectId('65df186b028ab6f21b8ae858'), ObjectId('65df186b028ab6f21b8ae859'), ObjectId('65df186b028ab6f21b8ae85a'), ObjectId('65df186b028ab6f21b8ae85b'), ObjectId('65df186b028ab6f21b8ae85c'), ObjectId('65df186b028ab6f21b8ae85d'), ObjectId('65df186b028ab6f21b8ae85e'), ObjectId('65df186b028ab6f21b8ae85f'), ObjectId('65df186b028ab6f21b8ae860'), ObjectId('65df186b028ab6f21b8ae861'), ObjectId('65df186b028ab6f21b8ae862'), ObjectId('65df186b028ab6f21b8ae863'), ObjectId('65df186b028ab6f21b8ae864'), ObjectId('65df186b028ab6f21b8ae865'), ObjectId('65df186b028ab6f21b8ae866'), ObjectId('65df186b028ab6f21b8ae867'), ObjectId('65df186b028ab6f21b8ae868'), ObjectId('65df186b028ab6f21b8ae869'), ObjectId('65df186b028ab6f21b8ae86a'), ObjectId('65df186b028ab6f21b8ae86b'), ObjectId('65df186b028ab6f21b8ae86c'), ObjectId('65df186b028ab6f21b8ae86d'), ObjectId('65df186b028ab6f21b8ae86e'), ObjectId('65df186b028ab6f21b8ae86f'), ObjectId('65df186b028ab6f21b8ae870'), ObjectId('65df186b028ab6f21b8ae871'), ObjectId('65df186b028ab6f21b8ae872'), ObjectId('65df186b028ab6f21b8ae873'), ObjectId('65df186b028ab6f21b8ae874'), ObjectId('65df186b028ab6f21b8ae875'), ObjectId('65df186b028ab6f21b8ae876'), ObjectId('65df186b028ab6f21b8ae877'), ObjectId('65df186b028ab6f21b8ae878'), ObjectId('65df186b028ab6f21b8ae879'), ObjectId('65df186b028ab6f21b8ae87a'), ObjectId('65df186b028ab6f21b8ae87b'), ObjectId('65df186b028ab6f21b8ae87c'), ObjectId('65df186b028ab6f21b8ae87d'), ObjectId('65df186b028ab6f21b8ae87e'), ObjectId('65df186b028ab6f21b8ae87f'), ObjectId('65df186b028ab6f21b8ae880'), ObjectId('65df186b028ab6f21b8ae881'), ObjectId('65df186b028ab6f21b8ae882'), ObjectId('65df186b028ab6f21b8ae883'), ObjectId('65df186b028ab6f21b8ae884'), ObjectId('65df186b028ab6f21b8ae885'), ObjectId('65df186b028ab6f21b8ae886'), ObjectId('65df186b028ab6f21b8ae887'), ObjectId('65df186b028ab6f21b8ae888'), ObjectId('65df186b028ab6f21b8ae889'), ObjectId('65df186b028ab6f21b8ae88a'), ObjectId('65df186b028ab6f21b8ae88b'), ObjectId('65df186b028ab6f21b8ae88c'), ObjectId('65df186b028ab6f21b8ae88d'), ObjectId('65df186b028ab6f21b8ae88e'), ObjectId('65df186b028ab6f21b8ae88f'), ObjectId('65df186b028ab6f21b8ae890'), ObjectId('65df186b028ab6f21b8ae891'), ObjectId('65df186b028ab6f21b8ae892'), ObjectId('65df186b028ab6f21b8ae893'), ObjectId('65df186b028ab6f21b8ae894'), ObjectId('65df186b028ab6f21b8ae895'), ObjectId('65df186b028ab6f21b8ae896'), ObjectId('65df186b028ab6f21b8ae897'), ObjectId('65df186b028ab6f21b8ae898'), ObjectId('65df186b028ab6f21b8ae899'), ObjectId('65df186b028ab6f21b8ae89a'), ObjectId('65df186b028ab6f21b8ae89b'), ObjectId('65df186b028ab6f21b8ae89c'), ObjectId('65df186b028ab6f21b8ae89d'), ObjectId('65df186b028ab6f21b8ae89e'), ObjectId('65df186b028ab6f21b8ae89f'), ObjectId('65df186b028ab6f21b8ae8a0'), ObjectId('65df186b028ab6f21b8ae8a1'), ObjectId('65df186b028ab6f21b8ae8a2'), ObjectId('65df186b028ab6f21b8ae8a3'), ObjectId('65df186b028ab6f21b8ae8a4'), ObjectId('65df186b028ab6f21b8ae8a5'), ObjectId('65df186b028ab6f21b8ae8a6'), ObjectId('65df186b028ab6f21b8ae8a7'), ObjectId('65df186b028ab6f21b8ae8a8'), ObjectId('65df186b028ab6f21b8ae8a9'), ObjectId('65df186b028ab6f21b8ae8aa'), ObjectId('65df186b028ab6f21b8ae8ab'), ObjectId('65df186b028ab6f21b8ae8ac'), ObjectId('65df186b028ab6f21b8ae8ad'), ObjectId('65df186b028ab6f21b8ae8ae'), ObjectId('65df186b028ab6f21b8ae8af'), ObjectId('65df186b028ab6f21b8ae8b0'), ObjectId('65df186b028ab6f21b8ae8b1'), ObjectId('65df186b028ab6f21b8ae8b2'), ObjectId('65df186b028ab6f21b8ae8b3'), ObjectId('65df186b028ab6f21b8ae8b4'), ObjectId('65df186b028ab6f21b8ae8b5'), ObjectId('65df186b028ab6f21b8ae8b6'), ObjectId('65df186b028ab6f21b8ae8b7'), ObjectId('65df186b028ab6f21b8ae8b8'), ObjectId('65df186b028ab6f21b8ae8b9'), ObjectId('65df186b028ab6f21b8ae8ba'), ObjectId('65df186b028ab6f21b8ae8bb'), ObjectId('65df186b028ab6f21b8ae8bc'), ObjectId('65df186b028ab6f21b8ae8bd'), ObjectId('65df186b028ab6f21b8ae8be'), ObjectId('65df186b028ab6f21b8ae8bf'), ObjectId('65df186b028ab6f21b8ae8c0'), ObjectId('65df186b028ab6f21b8ae8c1'), ObjectId('65df186b028ab6f21b8ae8c2'), ObjectId('65df186b028ab6f21b8ae8c3'), ObjectId('65df186b028ab6f21b8ae8c4'), ObjectId('65df186b028ab6f21b8ae8c5'), ObjectId('65df186b028ab6f21b8ae8c6'), ObjectId('65df186b028ab6f21b8ae8c7'), ObjectId('65df186b028ab6f21b8ae8c8'), ObjectId('65df186b028ab6f21b8ae8c9'), ObjectId('65df186b028ab6f21b8ae8ca'), ObjectId('65df186b028ab6f21b8ae8cb'), ObjectId('65df186b028ab6f21b8ae8cc'), ObjectId('65df186b028ab6f21b8ae8cd'), ObjectId('65df186b028ab6f21b8ae8ce'), ObjectId('65df186b028ab6f21b8ae8cf'), ObjectId('65df186b028ab6f21b8ae8d0'), ObjectId('65df186b028ab6f21b8ae8d1'), ObjectId('65df186b028ab6f21b8ae8d2'), ObjectId('65df186b028ab6f21b8ae8d3'), ObjectId('65df186b028ab6f21b8ae8d4'), ObjectId('65df186b028ab6f21b8ae8d5'), ObjectId('65df186b028ab6f21b8ae8d6'), ObjectId('65df186b028ab6f21b8ae8d7'), ObjectId('65df186b028ab6f21b8ae8d8'), ObjectId('65df186b028ab6f21b8ae8d9'), ObjectId('65df186b028ab6f21b8ae8da'), ObjectId('65df186b028ab6f21b8ae8db'), ObjectId('65df186b028ab6f21b8ae8dc'), ObjectId('65df186b028ab6f21b8ae8dd'), ObjectId('65df186b028ab6f21b8ae8de'), ObjectId('65df186b028ab6f21b8ae8df'), ObjectId('65df186b028ab6f21b8ae8e0'), ObjectId('65df186b028ab6f21b8ae8e1'), ObjectId('65df186b028ab6f21b8ae8e2'), ObjectId('65df186b028ab6f21b8ae8e3'), ObjectId('65df186b028ab6f21b8ae8e4'), ObjectId('65df186b028ab6f21b8ae8e5'), ObjectId('65df186b028ab6f21b8ae8e6'), ObjectId('65df186b028ab6f21b8ae8e7'), ObjectId('65df186b028ab6f21b8ae8e8'), ObjectId('65df186b028ab6f21b8ae8e9'), ObjectId('65df186b028ab6f21b8ae8ea'), ObjectId('65df186b028ab6f21b8ae8eb'), ObjectId('65df186b028ab6f21b8ae8ec'), ObjectId('65df186b028ab6f21b8ae8ed'), ObjectId('65df186b028ab6f21b8ae8ee'), ObjectId('65df186b028ab6f21b8ae8ef'), ObjectId('65df186b028ab6f21b8ae8f0'), ObjectId('65df186b028ab6f21b8ae8f1'), ObjectId('65df186b028ab6f21b8ae8f2'), ObjectId('65df186b028ab6f21b8ae8f3'), ObjectId('65df186b028ab6f21b8ae8f4'), ObjectId('65df186b028ab6f21b8ae8f5'), ObjectId('65df186b028ab6f21b8ae8f6'), ObjectId('65df186b028ab6f21b8ae8f7'), ObjectId('65df186b028ab6f21b8ae8f8'), ObjectId('65df186b028ab6f21b8ae8f9'), ObjectId('65df186b028ab6f21b8ae8fa'), ObjectId('65df186b028ab6f21b8ae8fb'), ObjectId('65df186b028ab6f21b8ae8fc'), ObjectId('65df186b028ab6f21b8ae8fd'), ObjectId('65df186b028ab6f21b8ae8fe'), ObjectId('65df186b028ab6f21b8ae8ff'), ObjectId('65df186b028ab6f21b8ae900'), ObjectId('65df186b028ab6f21b8ae901'), ObjectId('65df186b028ab6f21b8ae902'), ObjectId('65df186b028ab6f21b8ae903'), ObjectId('65df186b028ab6f21b8ae904'), ObjectId('65df186b028ab6f21b8ae905'), ObjectId('65df186b028ab6f21b8ae906'), ObjectId('65df186b028ab6f21b8ae907'), ObjectId('65df186b028ab6f21b8ae908'), ObjectId('65df186b028ab6f21b8ae909'), ObjectId('65df186b028ab6f21b8ae90a'), ObjectId('65df186b028ab6f21b8ae90b'), ObjectId('65df186b028ab6f21b8ae90c'), ObjectId('65df186b028ab6f21b8ae90d'), ObjectId('65df186b028ab6f21b8ae90e'), ObjectId('65df186b028ab6f21b8ae90f'), ObjectId('65df186b028ab6f21b8ae910'), ObjectId('65df186b028ab6f21b8ae911'), ObjectId('65df186b028ab6f21b8ae912'), ObjectId('65df186b028ab6f21b8ae913'), ObjectId('65df186b028ab6f21b8ae914'), ObjectId('65df186b028ab6f21b8ae915'), ObjectId('65df186b028ab6f21b8ae916'), ObjectId('65df186b028ab6f21b8ae917'), ObjectId('65df186b028ab6f21b8ae918'), ObjectId('65df186b028ab6f21b8ae919'), ObjectId('65df186b028ab6f21b8ae91a'), ObjectId('65df186b028ab6f21b8ae91b'), ObjectId('65df186b028ab6f21b8ae91c'), ObjectId('65df186b028ab6f21b8ae91d'), ObjectId('65df186b028ab6f21b8ae91e'), ObjectId('65df186b028ab6f21b8ae91f'), ObjectId('65df186b028ab6f21b8ae920'), ObjectId('65df186b028ab6f21b8ae921'), ObjectId('65df186b028ab6f21b8ae922'), ObjectId('65df186b028ab6f21b8ae923'), ObjectId('65df186b028ab6f21b8ae924'), ObjectId('65df186b028ab6f21b8ae925'), ObjectId('65df186b028ab6f21b8ae926'), ObjectId('65df186b028ab6f21b8ae927'), ObjectId('65df186b028ab6f21b8ae928'), ObjectId('65df186b028ab6f21b8ae929'), ObjectId('65df186b028ab6f21b8ae92a'), ObjectId('65df186b028ab6f21b8ae92b'), ObjectId('65df186b028ab6f21b8ae92c'), ObjectId('65df186b028ab6f21b8ae92d'), ObjectId('65df186b028ab6f21b8ae92e'), ObjectId('65df186b028ab6f21b8ae92f'), ObjectId('65df186b028ab6f21b8ae930'), ObjectId('65df186b028ab6f21b8ae931'), ObjectId('65df186b028ab6f21b8ae932'), ObjectId('65df186b028ab6f21b8ae933'), ObjectId('65df186b028ab6f21b8ae934'), ObjectId('65df186b028ab6f21b8ae935'), ObjectId('65df186b028ab6f21b8ae936'), ObjectId('65df186b028ab6f21b8ae937'), ObjectId('65df186b028ab6f21b8ae938'), ObjectId('65df186b028ab6f21b8ae939'), ObjectId('65df186b028ab6f21b8ae93a'), ObjectId('65df186b028ab6f21b8ae93b'), ObjectId('65df186b028ab6f21b8ae93c'), ObjectId('65df186b028ab6f21b8ae93d'), ObjectId('65df186b028ab6f21b8ae93e'), ObjectId('65df186b028ab6f21b8ae93f'), ObjectId('65df186b028ab6f21b8ae940'), ObjectId('65df186b028ab6f21b8ae941'), ObjectId('65df186b028ab6f21b8ae942'), ObjectId('65df186b028ab6f21b8ae943'), ObjectId('65df186b028ab6f21b8ae944'), ObjectId('65df186b028ab6f21b8ae945'), ObjectId('65df186b028ab6f21b8ae946'), ObjectId('65df186b028ab6f21b8ae947'), ObjectId('65df186b028ab6f21b8ae948'), ObjectId('65df186b028ab6f21b8ae949'), ObjectId('65df186b028ab6f21b8ae94a'), ObjectId('65df186b028ab6f21b8ae94b'), ObjectId('65df186b028ab6f21b8ae94c'), ObjectId('65df186b028ab6f21b8ae94d'), ObjectId('65df186b028ab6f21b8ae94e'), ObjectId('65df186b028ab6f21b8ae94f'), ObjectId('65df186b028ab6f21b8ae950'), ObjectId('65df186b028ab6f21b8ae951'), ObjectId('65df186b028ab6f21b8ae952'), ObjectId('65df186b028ab6f21b8ae953'), ObjectId('65df186b028ab6f21b8ae954'), ObjectId('65df186b028ab6f21b8ae955'), ObjectId('65df186b028ab6f21b8ae956'), ObjectId('65df186b028ab6f21b8ae957'), ObjectId('65df186b028ab6f21b8ae958'), ObjectId('65df186b028ab6f21b8ae959'), ObjectId('65df186b028ab6f21b8ae95a'), ObjectId('65df186b028ab6f21b8ae95b'), ObjectId('65df186b028ab6f21b8ae95c'), ObjectId('65df186b028ab6f21b8ae95d'), ObjectId('65df186b028ab6f21b8ae95e'), ObjectId('65df186b028ab6f21b8ae95f'), ObjectId('65df186b028ab6f21b8ae960'), ObjectId('65df186b028ab6f21b8ae961'), ObjectId('65df186b028ab6f21b8ae962'), ObjectId('65df186b028ab6f21b8ae963'), ObjectId('65df186b028ab6f21b8ae964'), ObjectId('65df186b028ab6f21b8ae965'), ObjectId('65df186b028ab6f21b8ae966'), ObjectId('65df186b028ab6f21b8ae967'), ObjectId('65df186b028ab6f21b8ae968'), ObjectId('65df186b028ab6f21b8ae969'), ObjectId('65df186b028ab6f21b8ae96a'), ObjectId('65df186b028ab6f21b8ae96b'), ObjectId('65df186b028ab6f21b8ae96c'), ObjectId('65df186b028ab6f21b8ae96d'), ObjectId('65df186b028ab6f21b8ae96e'), ObjectId('65df186b028ab6f21b8ae96f'), ObjectId('65df186b028ab6f21b8ae970'), ObjectId('65df186b028ab6f21b8ae971'), ObjectId('65df186b028ab6f21b8ae972'), ObjectId('65df186b028ab6f21b8ae973'), ObjectId('65df186b028ab6f21b8ae974'), ObjectId('65df186b028ab6f21b8ae975'), ObjectId('65df186b028ab6f21b8ae976'), ObjectId('65df186b028ab6f21b8ae977'), ObjectId('65df186b028ab6f21b8ae978'), ObjectId('65df186b028ab6f21b8ae979'), ObjectId('65df186b028ab6f21b8ae97a'), ObjectId('65df186b028ab6f21b8ae97b'), ObjectId('65df186b028ab6f21b8ae97c'), ObjectId('65df186b028ab6f21b8ae97d'), ObjectId('65df186b028ab6f21b8ae97e'), ObjectId('65df186b028ab6f21b8ae97f'), ObjectId('65df186b028ab6f21b8ae980'), ObjectId('65df186b028ab6f21b8ae981'), ObjectId('65df186b028ab6f21b8ae982'), ObjectId('65df186b028ab6f21b8ae983'), ObjectId('65df186b028ab6f21b8ae984'), ObjectId('65df186b028ab6f21b8ae985'), ObjectId('65df186b028ab6f21b8ae986'), ObjectId('65df186b028ab6f21b8ae987'), ObjectId('65df186b028ab6f21b8ae988'), ObjectId('65df186b028ab6f21b8ae989'), ObjectId('65df186b028ab6f21b8ae98a'), ObjectId('65df186b028ab6f21b8ae98b'), ObjectId('65df186b028ab6f21b8ae98c'), ObjectId('65df186b028ab6f21b8ae98d'), ObjectId('65df186b028ab6f21b8ae98e'), ObjectId('65df186b028ab6f21b8ae98f'), ObjectId('65df186b028ab6f21b8ae990'), ObjectId('65df186b028ab6f21b8ae991'), ObjectId('65df186b028ab6f21b8ae992'), ObjectId('65df186b028ab6f21b8ae993'), ObjectId('65df186b028ab6f21b8ae994'), ObjectId('65df186b028ab6f21b8ae995'), ObjectId('65df186b028ab6f21b8ae996'), ObjectId('65df186b028ab6f21b8ae997'), ObjectId('65df186b028ab6f21b8ae998'), ObjectId('65df186b028ab6f21b8ae999'), ObjectId('65df186b028ab6f21b8ae99a'), ObjectId('65df186b028ab6f21b8ae99b'), ObjectId('65df186b028ab6f21b8ae99c'), ObjectId('65df186b028ab6f21b8ae99d'), ObjectId('65df186b028ab6f21b8ae99e'), ObjectId('65df186b028ab6f21b8ae99f'), ObjectId('65df186b028ab6f21b8ae9a0'), ObjectId('65df186b028ab6f21b8ae9a1'), ObjectId('65df186b028ab6f21b8ae9a2'), ObjectId('65df186b028ab6f21b8ae9a3'), ObjectId('65df186b028ab6f21b8ae9a4'), ObjectId('65df186b028ab6f21b8ae9a5'), ObjectId('65df186b028ab6f21b8ae9a6'), ObjectId('65df186b028ab6f21b8ae9a7'), ObjectId('65df186b028ab6f21b8ae9a8'), ObjectId('65df186b028ab6f21b8ae9a9'), ObjectId('65df186b028ab6f21b8ae9aa'), ObjectId('65df186b028ab6f21b8ae9ab'), ObjectId('65df186b028ab6f21b8ae9ac'), ObjectId('65df186b028ab6f21b8ae9ad'), ObjectId('65df186b028ab6f21b8ae9ae'), ObjectId('65df186b028ab6f21b8ae9af'), ObjectId('65df186b028ab6f21b8ae9b0'), ObjectId('65df186b028ab6f21b8ae9b1'), ObjectId('65df186b028ab6f21b8ae9b2'), ObjectId('65df186b028ab6f21b8ae9b3'), ObjectId('65df186b028ab6f21b8ae9b4'), ObjectId('65df186b028ab6f21b8ae9b5'), ObjectId('65df186b028ab6f21b8ae9b6'), ObjectId('65df186b028ab6f21b8ae9b7'), ObjectId('65df186b028ab6f21b8ae9b8'), ObjectId('65df186b028ab6f21b8ae9b9'), ObjectId('65df186b028ab6f21b8ae9ba'), ObjectId('65df186b028ab6f21b8ae9bb'), ObjectId('65df186b028ab6f21b8ae9bc'), ObjectId('65df186b028ab6f21b8ae9bd'), ObjectId('65df186b028ab6f21b8ae9be'), ObjectId('65df186b028ab6f21b8ae9bf'), ObjectId('65df186b028ab6f21b8ae9c0'), ObjectId('65df186b028ab6f21b8ae9c1'), ObjectId('65df186b028ab6f21b8ae9c2'), ObjectId('65df186b028ab6f21b8ae9c3'), ObjectId('65df186b028ab6f21b8ae9c4'), ObjectId('65df186b028ab6f21b8ae9c5'), ObjectId('65df186b028ab6f21b8ae9c6'), ObjectId('65df186b028ab6f21b8ae9c7'), ObjectId('65df186b028ab6f21b8ae9c8'), ObjectId('65df186b028ab6f21b8ae9c9'), ObjectId('65df186b028ab6f21b8ae9ca'), ObjectId('65df186b028ab6f21b8ae9cb'), ObjectId('65df186b028ab6f21b8ae9cc'), ObjectId('65df186b028ab6f21b8ae9cd'), ObjectId('65df186b028ab6f21b8ae9ce'), ObjectId('65df186b028ab6f21b8ae9cf'), ObjectId('65df186b028ab6f21b8ae9d0'), ObjectId('65df186b028ab6f21b8ae9d1'), ObjectId('65df186b028ab6f21b8ae9d2'), ObjectId('65df186b028ab6f21b8ae9d3'), ObjectId('65df186b028ab6f21b8ae9d4'), ObjectId('65df186b028ab6f21b8ae9d5'), ObjectId('65df186b028ab6f21b8ae9d6'), ObjectId('65df186b028ab6f21b8ae9d7'), ObjectId('65df186b028ab6f21b8ae9d8'), ObjectId('65df186b028ab6f21b8ae9d9'), ObjectId('65df186b028ab6f21b8ae9da'), ObjectId('65df186b028ab6f21b8ae9db'), ObjectId('65df186b028ab6f21b8ae9dc'), ObjectId('65df186b028ab6f21b8ae9dd'), ObjectId('65df186b028ab6f21b8ae9de'), ObjectId('65df186b028ab6f21b8ae9df'), ObjectId('65df186b028ab6f21b8ae9e0'), ObjectId('65df186b028ab6f21b8ae9e1'), ObjectId('65df186b028ab6f21b8ae9e2'), ObjectId('65df186b028ab6f21b8ae9e3'), ObjectId('65df186b028ab6f21b8ae9e4'), ObjectId('65df186b028ab6f21b8ae9e5'), ObjectId('65df186b028ab6f21b8ae9e6'), ObjectId('65df186b028ab6f21b8ae9e7'), ObjectId('65df186b028ab6f21b8ae9e8'), ObjectId('65df186b028ab6f21b8ae9e9'), ObjectId('65df186b028ab6f21b8ae9ea'), ObjectId('65df186b028ab6f21b8ae9eb'), ObjectId('65df186b028ab6f21b8ae9ec'), ObjectId('65df186b028ab6f21b8ae9ed'), ObjectId('65df186b028ab6f21b8ae9ee'), ObjectId('65df186b028ab6f21b8ae9ef'), ObjectId('65df186b028ab6f21b8ae9f0'), ObjectId('65df186b028ab6f21b8ae9f1'), ObjectId('65df186b028ab6f21b8ae9f2'), ObjectId('65df186b028ab6f21b8ae9f3'), ObjectId('65df186b028ab6f21b8ae9f4'), ObjectId('65df186b028ab6f21b8ae9f5'), ObjectId('65df186b028ab6f21b8ae9f6'), ObjectId('65df186b028ab6f21b8ae9f7'), ObjectId('65df186b028ab6f21b8ae9f8'), ObjectId('65df186b028ab6f21b8ae9f9'), ObjectId('65df186b028ab6f21b8ae9fa'), ObjectId('65df186b028ab6f21b8ae9fb'), ObjectId('65df186b028ab6f21b8ae9fc'), ObjectId('65df186b028ab6f21b8ae9fd'), ObjectId('65df186b028ab6f21b8ae9fe'), ObjectId('65df186b028ab6f21b8ae9ff'), ObjectId('65df186b028ab6f21b8aea00'), ObjectId('65df186b028ab6f21b8aea01'), ObjectId('65df186b028ab6f21b8aea02'), ObjectId('65df186b028ab6f21b8aea03'), ObjectId('65df186b028ab6f21b8aea04'), ObjectId('65df186b028ab6f21b8aea05'), ObjectId('65df186b028ab6f21b8aea06'), ObjectId('65df186b028ab6f21b8aea07'), ObjectId('65df186b028ab6f21b8aea08'), ObjectId('65df186b028ab6f21b8aea09'), ObjectId('65df186b028ab6f21b8aea0a'), ObjectId('65df186b028ab6f21b8aea0b'), ObjectId('65df186b028ab6f21b8aea0c'), ObjectId('65df186b028ab6f21b8aea0d'), ObjectId('65df186b028ab6f21b8aea0e'), ObjectId('65df186b028ab6f21b8aea0f'), ObjectId('65df186b028ab6f21b8aea10'), ObjectId('65df186b028ab6f21b8aea11'), ObjectId('65df186b028ab6f21b8aea12'), ObjectId('65df186b028ab6f21b8aea13'), ObjectId('65df186b028ab6f21b8aea14'), ObjectId('65df186b028ab6f21b8aea15'), ObjectId('65df186b028ab6f21b8aea16'), ObjectId('65df186b028ab6f21b8aea17'), ObjectId('65df186b028ab6f21b8aea18'), ObjectId('65df186b028ab6f21b8aea19'), ObjectId('65df186b028ab6f21b8aea1a'), ObjectId('65df186b028ab6f21b8aea1b'), ObjectId('65df186b028ab6f21b8aea1c'), ObjectId('65df186b028ab6f21b8aea1d'), ObjectId('65df186b028ab6f21b8aea1e'), ObjectId('65df186b028ab6f21b8aea1f'), ObjectId('65df186b028ab6f21b8aea20'), ObjectId('65df186b028ab6f21b8aea21'), ObjectId('65df186b028ab6f21b8aea22'), ObjectId('65df186b028ab6f21b8aea23'), ObjectId('65df186b028ab6f21b8aea24'), ObjectId('65df186b028ab6f21b8aea25'), ObjectId('65df186b028ab6f21b8aea26'), ObjectId('65df186b028ab6f21b8aea27'), ObjectId('65df186b028ab6f21b8aea28'), ObjectId('65df186b028ab6f21b8aea29'), ObjectId('65df186b028ab6f21b8aea2a'), ObjectId('65df186b028ab6f21b8aea2b'), ObjectId('65df186b028ab6f21b8aea2c'), ObjectId('65df186b028ab6f21b8aea2d'), ObjectId('65df186b028ab6f21b8aea2e'), ObjectId('65df186b028ab6f21b8aea2f'), ObjectId('65df186b028ab6f21b8aea30'), ObjectId('65df186b028ab6f21b8aea31'), ObjectId('65df186b028ab6f21b8aea32'), ObjectId('65df186b028ab6f21b8aea33'), ObjectId('65df186b028ab6f21b8aea34'), ObjectId('65df186b028ab6f21b8aea35'), ObjectId('65df186b028ab6f21b8aea36'), ObjectId('65df186b028ab6f21b8aea37'), ObjectId('65df186b028ab6f21b8aea38'), ObjectId('65df186b028ab6f21b8aea39'), ObjectId('65df186b028ab6f21b8aea3a'), ObjectId('65df186b028ab6f21b8aea3b'), ObjectId('65df186b028ab6f21b8aea3c'), ObjectId('65df186b028ab6f21b8aea3d'), ObjectId('65df186b028ab6f21b8aea3e'), ObjectId('65df186b028ab6f21b8aea3f'), ObjectId('65df186b028ab6f21b8aea40'), ObjectId('65df186b028ab6f21b8aea41'), ObjectId('65df186b028ab6f21b8aea42'), ObjectId('65df186b028ab6f21b8aea43'), ObjectId('65df186b028ab6f21b8aea44'), ObjectId('65df186b028ab6f21b8aea45'), ObjectId('65df186b028ab6f21b8aea46'), ObjectId('65df186b028ab6f21b8aea47'), ObjectId('65df186b028ab6f21b8aea48'), ObjectId('65df186b028ab6f21b8aea49'), ObjectId('65df186b028ab6f21b8aea4a'), ObjectId('65df186b028ab6f21b8aea4b'), ObjectId('65df186b028ab6f21b8aea4c'), ObjectId('65df186b028ab6f21b8aea4d'), ObjectId('65df186b028ab6f21b8aea4e'), ObjectId('65df186b028ab6f21b8aea4f'), ObjectId('65df186b028ab6f21b8aea50'), ObjectId('65df186b028ab6f21b8aea51'), ObjectId('65df186b028ab6f21b8aea52'), ObjectId('65df186b028ab6f21b8aea53'), ObjectId('65df186b028ab6f21b8aea54'), ObjectId('65df186b028ab6f21b8aea55'), ObjectId('65df186b028ab6f21b8aea56'), ObjectId('65df186b028ab6f21b8aea57'), ObjectId('65df186b028ab6f21b8aea58'), ObjectId('65df186b028ab6f21b8aea59'), ObjectId('65df186b028ab6f21b8aea5a'), ObjectId('65df186b028ab6f21b8aea5b'), ObjectId('65df186b028ab6f21b8aea5c'), ObjectId('65df186b028ab6f21b8aea5d'), ObjectId('65df186b028ab6f21b8aea5e'), ObjectId('65df186b028ab6f21b8aea5f'), ObjectId('65df186b028ab6f21b8aea60'), ObjectId('65df186b028ab6f21b8aea61'), ObjectId('65df186b028ab6f21b8aea62'), ObjectId('65df186b028ab6f21b8aea63'), ObjectId('65df186b028ab6f21b8aea64'), ObjectId('65df186b028ab6f21b8aea65'), ObjectId('65df186b028ab6f21b8aea66'), ObjectId('65df186b028ab6f21b8aea67'), ObjectId('65df186b028ab6f21b8aea68'), ObjectId('65df186b028ab6f21b8aea69'), ObjectId('65df186b028ab6f21b8aea6a'), ObjectId('65df186b028ab6f21b8aea6b'), ObjectId('65df186b028ab6f21b8aea6c'), ObjectId('65df186b028ab6f21b8aea6d'), ObjectId('65df186b028ab6f21b8aea6e'), ObjectId('65df186b028ab6f21b8aea6f'), ObjectId('65df186b028ab6f21b8aea70'), ObjectId('65df186b028ab6f21b8aea71'), ObjectId('65df186b028ab6f21b8aea72'), ObjectId('65df186b028ab6f21b8aea73'), ObjectId('65df186b028ab6f21b8aea74'), ObjectId('65df186b028ab6f21b8aea75'), ObjectId('65df186b028ab6f21b8aea76'), ObjectId('65df186b028ab6f21b8aea77'), ObjectId('65df186b028ab6f21b8aea78'), ObjectId('65df186b028ab6f21b8aea79'), ObjectId('65df186b028ab6f21b8aea7a'), ObjectId('65df186b028ab6f21b8aea7b'), ObjectId('65df186b028ab6f21b8aea7c'), ObjectId('65df186b028ab6f21b8aea7d'), ObjectId('65df186b028ab6f21b8aea7e'), ObjectId('65df186b028ab6f21b8aea7f'), ObjectId('65df186b028ab6f21b8aea80'), ObjectId('65df186b028ab6f21b8aea81'), ObjectId('65df186b028ab6f21b8aea82'), ObjectId('65df186b028ab6f21b8aea83'), ObjectId('65df186b028ab6f21b8aea84'), ObjectId('65df186b028ab6f21b8aea85'), ObjectId('65df186b028ab6f21b8aea86'), ObjectId('65df186b028ab6f21b8aea87'), ObjectId('65df186b028ab6f21b8aea88'), ObjectId('65df186b028ab6f21b8aea89'), ObjectId('65df186b028ab6f21b8aea8a'), ObjectId('65df186b028ab6f21b8aea8b'), ObjectId('65df186b028ab6f21b8aea8c'), ObjectId('65df186b028ab6f21b8aea8d'), ObjectId('65df186b028ab6f21b8aea8e'), ObjectId('65df186b028ab6f21b8aea8f'), ObjectId('65df186b028ab6f21b8aea90'), ObjectId('65df186b028ab6f21b8aea91'), ObjectId('65df186b028ab6f21b8aea92'), ObjectId('65df186b028ab6f21b8aea93'), ObjectId('65df186b028ab6f21b8aea94'), ObjectId('65df186b028ab6f21b8aea95'), ObjectId('65df186b028ab6f21b8aea96'), ObjectId('65df186b028ab6f21b8aea97'), ObjectId('65df186b028ab6f21b8aea98'), ObjectId('65df186b028ab6f21b8aea99'), ObjectId('65df186b028ab6f21b8aea9a'), ObjectId('65df186b028ab6f21b8aea9b'), ObjectId('65df186b028ab6f21b8aea9c'), ObjectId('65df186b028ab6f21b8aea9d'), ObjectId('65df186b028ab6f21b8aea9e'), ObjectId('65df186b028ab6f21b8aea9f'), ObjectId('65df186b028ab6f21b8aeaa0'), ObjectId('65df186b028ab6f21b8aeaa1'), ObjectId('65df186b028ab6f21b8aeaa2'), ObjectId('65df186b028ab6f21b8aeaa3'), ObjectId('65df186b028ab6f21b8aeaa4'), ObjectId('65df186b028ab6f21b8aeaa5'), ObjectId('65df186b028ab6f21b8aeaa6'), ObjectId('65df186b028ab6f21b8aeaa7'), ObjectId('65df186b028ab6f21b8aeaa8'), ObjectId('65df186b028ab6f21b8aeaa9'), ObjectId('65df186b028ab6f21b8aeaaa'), ObjectId('65df186b028ab6f21b8aeaab'), ObjectId('65df186b028ab6f21b8aeaac'), ObjectId('65df186b028ab6f21b8aeaad'), ObjectId('65df186b028ab6f21b8aeaae'), ObjectId('65df186b028ab6f21b8aeaaf'), ObjectId('65df186b028ab6f21b8aeab0'), ObjectId('65df186b028ab6f21b8aeab1'), ObjectId('65df186b028ab6f21b8aeab2'), ObjectId('65df186b028ab6f21b8aeab3'), ObjectId('65df186b028ab6f21b8aeab4'), ObjectId('65df186b028ab6f21b8aeab5'), ObjectId('65df186b028ab6f21b8aeab6'), ObjectId('65df186b028ab6f21b8aeab7'), ObjectId('65df186b028ab6f21b8aeab8'), ObjectId('65df186b028ab6f21b8aeab9'), ObjectId('65df186b028ab6f21b8aeaba'), ObjectId('65df186b028ab6f21b8aeabb'), ObjectId('65df186b028ab6f21b8aeabc'), ObjectId('65df186b028ab6f21b8aeabd'), ObjectId('65df186b028ab6f21b8aeabe'), ObjectId('65df186b028ab6f21b8aeabf'), ObjectId('65df186b028ab6f21b8aeac0'), ObjectId('65df186b028ab6f21b8aeac1'), ObjectId('65df186b028ab6f21b8aeac2'), ObjectId('65df186b028ab6f21b8aeac3'), ObjectId('65df186b028ab6f21b8aeac4'), ObjectId('65df186b028ab6f21b8aeac5'), ObjectId('65df186b028ab6f21b8aeac6'), ObjectId('65df186b028ab6f21b8aeac7'), ObjectId('65df186b028ab6f21b8aeac8'), ObjectId('65df186b028ab6f21b8aeac9'), ObjectId('65df186b028ab6f21b8aeaca'), ObjectId('65df186b028ab6f21b8aeacb'), ObjectId('65df186b028ab6f21b8aeacc'), ObjectId('65df186b028ab6f21b8aeacd'), ObjectId('65df186b028ab6f21b8aeace'), ObjectId('65df186b028ab6f21b8aeacf'), ObjectId('65df186b028ab6f21b8aead0'), ObjectId('65df186b028ab6f21b8aead1'), ObjectId('65df186b028ab6f21b8aead2'), ObjectId('65df186b028ab6f21b8aead3'), ObjectId('65df186b028ab6f21b8aead4'), ObjectId('65df186b028ab6f21b8aead5'), ObjectId('65df186b028ab6f21b8aead6'), ObjectId('65df186b028ab6f21b8aead7'), ObjectId('65df186b028ab6f21b8aead8'), ObjectId('65df186b028ab6f21b8aead9'), ObjectId('65df186b028ab6f21b8aeada'), ObjectId('65df186b028ab6f21b8aeadb'), ObjectId('65df186b028ab6f21b8aeadc'), ObjectId('65df186b028ab6f21b8aeadd'), ObjectId('65df186b028ab6f21b8aeade'), ObjectId('65df186b028ab6f21b8aeadf'), ObjectId('65df186b028ab6f21b8aeae0'), ObjectId('65df186b028ab6f21b8aeae1'), ObjectId('65df186b028ab6f21b8aeae2'), ObjectId('65df186b028ab6f21b8aeae3'), ObjectId('65df186b028ab6f21b8aeae4'), ObjectId('65df186b028ab6f21b8aeae5'), ObjectId('65df186b028ab6f21b8aeae6'), ObjectId('65df186b028ab6f21b8aeae7'), ObjectId('65df186b028ab6f21b8aeae8'), ObjectId('65df186b028ab6f21b8aeae9'), ObjectId('65df186b028ab6f21b8aeaea'), ObjectId('65df186b028ab6f21b8aeaeb'), ObjectId('65df186b028ab6f21b8aeaec'), ObjectId('65df186b028ab6f21b8aeaed'), ObjectId('65df186b028ab6f21b8aeaee'), ObjectId('65df186b028ab6f21b8aeaef'), ObjectId('65df186b028ab6f21b8aeaf0'), ObjectId('65df186b028ab6f21b8aeaf1'), ObjectId('65df186b028ab6f21b8aeaf2'), ObjectId('65df186b028ab6f21b8aeaf3'), ObjectId('65df186b028ab6f21b8aeaf4'), ObjectId('65df186b028ab6f21b8aeaf5'), ObjectId('65df186b028ab6f21b8aeaf6'), ObjectId('65df186b028ab6f21b8aeaf7'), ObjectId('65df186b028ab6f21b8aeaf8'), ObjectId('65df186b028ab6f21b8aeaf9'), ObjectId('65df186b028ab6f21b8aeafa'), ObjectId('65df186b028ab6f21b8aeafb'), ObjectId('65df186b028ab6f21b8aeafc'), ObjectId('65df186b028ab6f21b8aeafd'), ObjectId('65df186b028ab6f21b8aeafe'), ObjectId('65df186b028ab6f21b8aeaff'), ObjectId('65df186b028ab6f21b8aeb00'), ObjectId('65df186b028ab6f21b8aeb01'), ObjectId('65df186b028ab6f21b8aeb02'), ObjectId('65df186b028ab6f21b8aeb03'), ObjectId('65df186b028ab6f21b8aeb04'), ObjectId('65df186b028ab6f21b8aeb05'), ObjectId('65df186b028ab6f21b8aeb06'), ObjectId('65df186b028ab6f21b8aeb07'), ObjectId('65df186b028ab6f21b8aeb08'), ObjectId('65df186b028ab6f21b8aeb09'), ObjectId('65df186b028ab6f21b8aeb0a'), ObjectId('65df186b028ab6f21b8aeb0b'), ObjectId('65df186b028ab6f21b8aeb0c'), ObjectId('65df186b028ab6f21b8aeb0d'), ObjectId('65df186b028ab6f21b8aeb0e'), ObjectId('65df186b028ab6f21b8aeb0f'), ObjectId('65df186b028ab6f21b8aeb10'), ObjectId('65df186b028ab6f21b8aeb11'), ObjectId('65df186b028ab6f21b8aeb12'), ObjectId('65df186b028ab6f21b8aeb13'), ObjectId('65df186b028ab6f21b8aeb14'), ObjectId('65df186b028ab6f21b8aeb15'), ObjectId('65df186b028ab6f21b8aeb16'), ObjectId('65df186b028ab6f21b8aeb17'), ObjectId('65df186b028ab6f21b8aeb18'), ObjectId('65df186b028ab6f21b8aeb19'), ObjectId('65df186b028ab6f21b8aeb1a'), ObjectId('65df186b028ab6f21b8aeb1b'), ObjectId('65df186b028ab6f21b8aeb1c'), ObjectId('65df186b028ab6f21b8aeb1d'), ObjectId('65df186b028ab6f21b8aeb1e'), ObjectId('65df186b028ab6f21b8aeb1f'), ObjectId('65df186b028ab6f21b8aeb20'), ObjectId('65df186b028ab6f21b8aeb21'), ObjectId('65df186b028ab6f21b8aeb22'), ObjectId('65df186b028ab6f21b8aeb23'), ObjectId('65df186b028ab6f21b8aeb24'), ObjectId('65df186b028ab6f21b8aeb25'), ObjectId('65df186b028ab6f21b8aeb26'), ObjectId('65df186b028ab6f21b8aeb27'), ObjectId('65df186b028ab6f21b8aeb28'), ObjectId('65df186b028ab6f21b8aeb29'), ObjectId('65df186b028ab6f21b8aeb2a'), ObjectId('65df186b028ab6f21b8aeb2b'), ObjectId('65df186b028ab6f21b8aeb2c'), ObjectId('65df186b028ab6f21b8aeb2d'), ObjectId('65df186b028ab6f21b8aeb2e'), ObjectId('65df186b028ab6f21b8aeb2f'), ObjectId('65df186b028ab6f21b8aeb30'), ObjectId('65df186b028ab6f21b8aeb31'), ObjectId('65df186b028ab6f21b8aeb32'), ObjectId('65df186b028ab6f21b8aeb33'), ObjectId('65df186b028ab6f21b8aeb34'), ObjectId('65df186b028ab6f21b8aeb35'), ObjectId('65df186b028ab6f21b8aeb36'), ObjectId('65df186b028ab6f21b8aeb37'), ObjectId('65df186b028ab6f21b8aeb38'), ObjectId('65df186b028ab6f21b8aeb39'), ObjectId('65df186b028ab6f21b8aeb3a'), ObjectId('65df186b028ab6f21b8aeb3b'), ObjectId('65df186b028ab6f21b8aeb3c'), ObjectId('65df186b028ab6f21b8aeb3d'), ObjectId('65df186b028ab6f21b8aeb3e'), ObjectId('65df186b028ab6f21b8aeb3f'), ObjectId('65df186b028ab6f21b8aeb40'), ObjectId('65df186b028ab6f21b8aeb41'), ObjectId('65df186b028ab6f21b8aeb42'), ObjectId('65df186b028ab6f21b8aeb43'), ObjectId('65df186b028ab6f21b8aeb44'), ObjectId('65df186b028ab6f21b8aeb45'), ObjectId('65df186b028ab6f21b8aeb46'), ObjectId('65df186b028ab6f21b8aeb47'), ObjectId('65df186b028ab6f21b8aeb48'), ObjectId('65df186b028ab6f21b8aeb49'), ObjectId('65df186b028ab6f21b8aeb4a'), ObjectId('65df186b028ab6f21b8aeb4b'), ObjectId('65df186b028ab6f21b8aeb4c'), ObjectId('65df186b028ab6f21b8aeb4d'), ObjectId('65df186b028ab6f21b8aeb4e'), ObjectId('65df186b028ab6f21b8aeb4f'), ObjectId('65df186b028ab6f21b8aeb50'), ObjectId('65df186b028ab6f21b8aeb51'), ObjectId('65df186b028ab6f21b8aeb52'), ObjectId('65df186b028ab6f21b8aeb53'), ObjectId('65df186b028ab6f21b8aeb54'), ObjectId('65df186b028ab6f21b8aeb55'), ObjectId('65df186b028ab6f21b8aeb56'), ObjectId('65df186b028ab6f21b8aeb57'), ObjectId('65df186b028ab6f21b8aeb58'), ObjectId('65df186b028ab6f21b8aeb59'), ObjectId('65df186b028ab6f21b8aeb5a'), ObjectId('65df186b028ab6f21b8aeb5b'), ObjectId('65df186b028ab6f21b8aeb5c'), ObjectId('65df186b028ab6f21b8aeb5d'), ObjectId('65df186b028ab6f21b8aeb5e'), ObjectId('65df186b028ab6f21b8aeb5f'), ObjectId('65df186b028ab6f21b8aeb60'), ObjectId('65df186b028ab6f21b8aeb61'), ObjectId('65df186b028ab6f21b8aeb62'), ObjectId('65df186b028ab6f21b8aeb63'), ObjectId('65df186b028ab6f21b8aeb64'), ObjectId('65df186b028ab6f21b8aeb65'), ObjectId('65df186b028ab6f21b8aeb66'), ObjectId('65df186b028ab6f21b8aeb67'), ObjectId('65df186b028ab6f21b8aeb68'), ObjectId('65df186b028ab6f21b8aeb69'), ObjectId('65df186b028ab6f21b8aeb6a'), ObjectId('65df186b028ab6f21b8aeb6b'), ObjectId('65df186b028ab6f21b8aeb6c'), ObjectId('65df186b028ab6f21b8aeb6d'), ObjectId('65df186b028ab6f21b8aeb6e'), ObjectId('65df186b028ab6f21b8aeb6f'), ObjectId('65df186b028ab6f21b8aeb70'), ObjectId('65df186b028ab6f21b8aeb71'), ObjectId('65df186b028ab6f21b8aeb72'), ObjectId('65df186b028ab6f21b8aeb73'), ObjectId('65df186b028ab6f21b8aeb74'), ObjectId('65df186b028ab6f21b8aeb75'), ObjectId('65df186b028ab6f21b8aeb76'), ObjectId('65df186b028ab6f21b8aeb77'), ObjectId('65df186b028ab6f21b8aeb78'), ObjectId('65df186b028ab6f21b8aeb79'), ObjectId('65df186b028ab6f21b8aeb7a'), ObjectId('65df186b028ab6f21b8aeb7b'), ObjectId('65df186b028ab6f21b8aeb7c'), ObjectId('65df186b028ab6f21b8aeb7d'), ObjectId('65df186b028ab6f21b8aeb7e'), ObjectId('65df186b028ab6f21b8aeb7f'), ObjectId('65df186b028ab6f21b8aeb80'), ObjectId('65df186b028ab6f21b8aeb81'), ObjectId('65df186b028ab6f21b8aeb82'), ObjectId('65df186b028ab6f21b8aeb83'), ObjectId('65df186b028ab6f21b8aeb84'), ObjectId('65df186b028ab6f21b8aeb85'), ObjectId('65df186b028ab6f21b8aeb86'), ObjectId('65df186b028ab6f21b8aeb87'), ObjectId('65df186b028ab6f21b8aeb88'), ObjectId('65df186b028ab6f21b8aeb89'), ObjectId('65df186b028ab6f21b8aeb8a'), ObjectId('65df186b028ab6f21b8aeb8b'), ObjectId('65df186b028ab6f21b8aeb8c'), ObjectId('65df186b028ab6f21b8aeb8d'), ObjectId('65df186b028ab6f21b8aeb8e'), ObjectId('65df186b028ab6f21b8aeb8f'), ObjectId('65df186b028ab6f21b8aeb90'), ObjectId('65df186b028ab6f21b8aeb91'), ObjectId('65df186b028ab6f21b8aeb92'), ObjectId('65df186b028ab6f21b8aeb93'), ObjectId('65df186b028ab6f21b8aeb94'), ObjectId('65df186b028ab6f21b8aeb95'), ObjectId('65df186b028ab6f21b8aeb96'), ObjectId('65df186b028ab6f21b8aeb97'), ObjectId('65df186b028ab6f21b8aeb98'), ObjectId('65df186b028ab6f21b8aeb99'), ObjectId('65df186b028ab6f21b8aeb9a'), ObjectId('65df186b028ab6f21b8aeb9b'), ObjectId('65df186b028ab6f21b8aeb9c'), ObjectId('65df186b028ab6f21b8aeb9d'), ObjectId('65df186b028ab6f21b8aeb9e'), ObjectId('65df186b028ab6f21b8aeb9f'), ObjectId('65df186b028ab6f21b8aeba0'), ObjectId('65df186b028ab6f21b8aeba1'), ObjectId('65df186b028ab6f21b8aeba2'), ObjectId('65df186b028ab6f21b8aeba3'), ObjectId('65df186b028ab6f21b8aeba4'), ObjectId('65df186b028ab6f21b8aeba5'), ObjectId('65df186b028ab6f21b8aeba6'), ObjectId('65df186b028ab6f21b8aeba7'), ObjectId('65df186b028ab6f21b8aeba8'), ObjectId('65df186b028ab6f21b8aeba9'), ObjectId('65df186b028ab6f21b8aebaa'), ObjectId('65df186b028ab6f21b8aebab'), ObjectId('65df186b028ab6f21b8aebac'), ObjectId('65df186b028ab6f21b8aebad'), ObjectId('65df186b028ab6f21b8aebae'), ObjectId('65df186b028ab6f21b8aebaf'), ObjectId('65df186b028ab6f21b8aebb0'), ObjectId('65df186b028ab6f21b8aebb1'), ObjectId('65df186b028ab6f21b8aebb2'), ObjectId('65df186b028ab6f21b8aebb3'), ObjectId('65df186b028ab6f21b8aebb4'), ObjectId('65df186b028ab6f21b8aebb5'), ObjectId('65df186b028ab6f21b8aebb6'), ObjectId('65df186b028ab6f21b8aebb7'), ObjectId('65df186b028ab6f21b8aebb8'), ObjectId('65df186b028ab6f21b8aebb9'), ObjectId('65df186b028ab6f21b8aebba'), ObjectId('65df186b028ab6f21b8aebbb'), ObjectId('65df186b028ab6f21b8aebbc'), ObjectId('65df186b028ab6f21b8aebbd'), ObjectId('65df186b028ab6f21b8aebbe'), ObjectId('65df186b028ab6f21b8aebbf'), ObjectId('65df186b028ab6f21b8aebc0'), ObjectId('65df186b028ab6f21b8aebc1'), ObjectId('65df186b028ab6f21b8aebc2'), ObjectId('65df186b028ab6f21b8aebc3'), ObjectId('65df186b028ab6f21b8aebc4'), ObjectId('65df186b028ab6f21b8aebc5'), ObjectId('65df186b028ab6f21b8aebc6'), ObjectId('65df186b028ab6f21b8aebc7'), ObjectId('65df186b028ab6f21b8aebc8'), ObjectId('65df186b028ab6f21b8aebc9'), ObjectId('65df186b028ab6f21b8aebca'), ObjectId('65df186b028ab6f21b8aebcb'), ObjectId('65df186b028ab6f21b8aebcc'), ObjectId('65df186b028ab6f21b8aebcd'), ObjectId('65df186b028ab6f21b8aebce'), ObjectId('65df186b028ab6f21b8aebcf'), ObjectId('65df186b028ab6f21b8aebd0'), ObjectId('65df186b028ab6f21b8aebd1'), ObjectId('65df186b028ab6f21b8aebd2'), ObjectId('65df186b028ab6f21b8aebd3'), ObjectId('65df186b028ab6f21b8aebd4'), ObjectId('65df186b028ab6f21b8aebd5'), ObjectId('65df186b028ab6f21b8aebd6'), ObjectId('65df186b028ab6f21b8aebd7'), ObjectId('65df186b028ab6f21b8aebd8'), ObjectId('65df186b028ab6f21b8aebd9'), ObjectId('65df186b028ab6f21b8aebda'), ObjectId('65df186b028ab6f21b8aebdb'), ObjectId('65df186b028ab6f21b8aebdc'), ObjectId('65df186b028ab6f21b8aebdd'), ObjectId('65df186b028ab6f21b8aebde'), ObjectId('65df186b028ab6f21b8aebdf'), ObjectId('65df186b028ab6f21b8aebe0'), ObjectId('65df186b028ab6f21b8aebe1'), ObjectId('65df186b028ab6f21b8aebe2'), ObjectId('65df186b028ab6f21b8aebe3'), ObjectId('65df186b028ab6f21b8aebe4'), ObjectId('65df186b028ab6f21b8aebe5'), ObjectId('65df186b028ab6f21b8aebe6'), ObjectId('65df186b028ab6f21b8aebe7'), ObjectId('65df186b028ab6f21b8aebe8'), ObjectId('65df186b028ab6f21b8aebe9'), ObjectId('65df186b028ab6f21b8aebea'), ObjectId('65df186b028ab6f21b8aebeb'), ObjectId('65df186b028ab6f21b8aebec'), ObjectId('65df186b028ab6f21b8aebed'), ObjectId('65df186b028ab6f21b8aebee'), ObjectId('65df186b028ab6f21b8aebef'), ObjectId('65df186b028ab6f21b8aebf0'), ObjectId('65df186b028ab6f21b8aebf1'), ObjectId('65df186b028ab6f21b8aebf2'), ObjectId('65df186b028ab6f21b8aebf3'), ObjectId('65df186b028ab6f21b8aebf4'), ObjectId('65df186b028ab6f21b8aebf5'), ObjectId('65df186b028ab6f21b8aebf6'), ObjectId('65df186b028ab6f21b8aebf7'), ObjectId('65df186b028ab6f21b8aebf8'), ObjectId('65df186b028ab6f21b8aebf9'), ObjectId('65df186b028ab6f21b8aebfa'), ObjectId('65df186b028ab6f21b8aebfb'), ObjectId('65df186b028ab6f21b8aebfc'), ObjectId('65df186b028ab6f21b8aebfd'), ObjectId('65df186b028ab6f21b8aebfe'), ObjectId('65df186b028ab6f21b8aebff'), ObjectId('65df186b028ab6f21b8aec00'), ObjectId('65df186b028ab6f21b8aec01'), ObjectId('65df186b028ab6f21b8aec02'), ObjectId('65df186b028ab6f21b8aec03'), ObjectId('65df186b028ab6f21b8aec04'), ObjectId('65df186b028ab6f21b8aec05'), ObjectId('65df186b028ab6f21b8aec06'), ObjectId('65df186b028ab6f21b8aec07'), ObjectId('65df186b028ab6f21b8aec08'), ObjectId('65df186b028ab6f21b8aec09'), ObjectId('65df186b028ab6f21b8aec0a'), ObjectId('65df186b028ab6f21b8aec0b'), ObjectId('65df186b028ab6f21b8aec0c'), ObjectId('65df186b028ab6f21b8aec0d'), ObjectId('65df186b028ab6f21b8aec0e'), ObjectId('65df186b028ab6f21b8aec0f'), ObjectId('65df186b028ab6f21b8aec10'), ObjectId('65df186b028ab6f21b8aec11'), ObjectId('65df186b028ab6f21b8aec12'), ObjectId('65df186b028ab6f21b8aec13'), ObjectId('65df186b028ab6f21b8aec14'), ObjectId('65df186b028ab6f21b8aec15'), ObjectId('65df186b028ab6f21b8aec16'), ObjectId('65df186b028ab6f21b8aec17'), ObjectId('65df186b028ab6f21b8aec18'), ObjectId('65df186b028ab6f21b8aec19'), ObjectId('65df186b028ab6f21b8aec1a'), ObjectId('65df186b028ab6f21b8aec1b'), ObjectId('65df186b028ab6f21b8aec1c'), ObjectId('65df186b028ab6f21b8aec1d'), ObjectId('65df186b028ab6f21b8aec1e'), ObjectId('65df186b028ab6f21b8aec1f'), ObjectId('65df186b028ab6f21b8aec20'), ObjectId('65df186b028ab6f21b8aec21'), ObjectId('65df186b028ab6f21b8aec22'), ObjectId('65df186b028ab6f21b8aec23'), ObjectId('65df186b028ab6f21b8aec24'), ObjectId('65df186b028ab6f21b8aec25'), ObjectId('65df186b028ab6f21b8aec26'), ObjectId('65df186b028ab6f21b8aec27'), ObjectId('65df186b028ab6f21b8aec28'), ObjectId('65df186b028ab6f21b8aec29'), ObjectId('65df186b028ab6f21b8aec2a'), ObjectId('65df186b028ab6f21b8aec2b'), ObjectId('65df186b028ab6f21b8aec2c'), ObjectId('65df186b028ab6f21b8aec2d'), ObjectId('65df186b028ab6f21b8aec2e'), ObjectId('65df186b028ab6f21b8aec2f'), ObjectId('65df186b028ab6f21b8aec30'), ObjectId('65df186b028ab6f21b8aec31'), ObjectId('65df186b028ab6f21b8aec32'), ObjectId('65df186b028ab6f21b8aec33'), ObjectId('65df186b028ab6f21b8aec34'), ObjectId('65df186b028ab6f21b8aec35'), ObjectId('65df186b028ab6f21b8aec36'), ObjectId('65df186b028ab6f21b8aec37'), ObjectId('65df186b028ab6f21b8aec38'), ObjectId('65df186b028ab6f21b8aec39'), ObjectId('65df186b028ab6f21b8aec3a'), ObjectId('65df186b028ab6f21b8aec3b'), ObjectId('65df186b028ab6f21b8aec3c'), ObjectId('65df186b028ab6f21b8aec3d'), ObjectId('65df186b028ab6f21b8aec3e'), ObjectId('65df186b028ab6f21b8aec3f'), ObjectId('65df186b028ab6f21b8aec40'), ObjectId('65df186b028ab6f21b8aec41'), ObjectId('65df186b028ab6f21b8aec42'), ObjectId('65df186b028ab6f21b8aec43'), ObjectId('65df186b028ab6f21b8aec44'), ObjectId('65df186b028ab6f21b8aec45'), ObjectId('65df186b028ab6f21b8aec46'), ObjectId('65df186b028ab6f21b8aec47'), ObjectId('65df186b028ab6f21b8aec48'), ObjectId('65df186b028ab6f21b8aec49'), ObjectId('65df186b028ab6f21b8aec4a'), ObjectId('65df186b028ab6f21b8aec4b'), ObjectId('65df186b028ab6f21b8aec4c'), ObjectId('65df186b028ab6f21b8aec4d'), ObjectId('65df186b028ab6f21b8aec4e'), ObjectId('65df186b028ab6f21b8aec4f'), ObjectId('65df186b028ab6f21b8aec50'), ObjectId('65df186b028ab6f21b8aec51'), ObjectId('65df186b028ab6f21b8aec52'), ObjectId('65df186b028ab6f21b8aec53'), ObjectId('65df186b028ab6f21b8aec54'), ObjectId('65df186b028ab6f21b8aec55'), ObjectId('65df186b028ab6f21b8aec56'), ObjectId('65df186b028ab6f21b8aec57'), ObjectId('65df186b028ab6f21b8aec58'), ObjectId('65df186b028ab6f21b8aec59'), ObjectId('65df186b028ab6f21b8aec5a'), ObjectId('65df186b028ab6f21b8aec5b'), ObjectId('65df186b028ab6f21b8aec5c'), ObjectId('65df186b028ab6f21b8aec5d'), ObjectId('65df186b028ab6f21b8aec5e'), ObjectId('65df186b028ab6f21b8aec5f'), ObjectId('65df186b028ab6f21b8aec60'), ObjectId('65df186b028ab6f21b8aec61'), ObjectId('65df186b028ab6f21b8aec62'), ObjectId('65df186b028ab6f21b8aec63'), ObjectId('65df186b028ab6f21b8aec64'), ObjectId('65df186b028ab6f21b8aec65'), ObjectId('65df186b028ab6f21b8aec66'), ObjectId('65df186b028ab6f21b8aec67'), ObjectId('65df186b028ab6f21b8aec68'), ObjectId('65df186b028ab6f21b8aec69'), ObjectId('65df186b028ab6f21b8aec6a'), ObjectId('65df186b028ab6f21b8aec6b'), ObjectId('65df186b028ab6f21b8aec6c'), ObjectId('65df186b028ab6f21b8aec6d'), ObjectId('65df186b028ab6f21b8aec6e'), ObjectId('65df186b028ab6f21b8aec6f'), ObjectId('65df186b028ab6f21b8aec70'), ObjectId('65df186b028ab6f21b8aec71'), ObjectId('65df186b028ab6f21b8aec72'), ObjectId('65df186b028ab6f21b8aec73'), ObjectId('65df186b028ab6f21b8aec74'), ObjectId('65df186b028ab6f21b8aec75'), ObjectId('65df186b028ab6f21b8aec76'), ObjectId('65df186b028ab6f21b8aec77'), ObjectId('65df186b028ab6f21b8aec78'), ObjectId('65df186b028ab6f21b8aec79'), ObjectId('65df186b028ab6f21b8aec7a'), ObjectId('65df186b028ab6f21b8aec7b'), ObjectId('65df186b028ab6f21b8aec7c'), ObjectId('65df186b028ab6f21b8aec7d'), ObjectId('65df186b028ab6f21b8aec7e'), ObjectId('65df186b028ab6f21b8aec7f'), ObjectId('65df186b028ab6f21b8aec80'), ObjectId('65df186b028ab6f21b8aec81'), ObjectId('65df186b028ab6f21b8aec82'), ObjectId('65df186b028ab6f21b8aec83'), ObjectId('65df186b028ab6f21b8aec84'), ObjectId('65df186b028ab6f21b8aec85'), ObjectId('65df186b028ab6f21b8aec86'), ObjectId('65df186b028ab6f21b8aec87'), ObjectId('65df186b028ab6f21b8aec88'), ObjectId('65df186b028ab6f21b8aec89'), ObjectId('65df186b028ab6f21b8aec8a'), ObjectId('65df186b028ab6f21b8aec8b'), ObjectId('65df186b028ab6f21b8aec8c'), ObjectId('65df186b028ab6f21b8aec8d'), ObjectId('65df186b028ab6f21b8aec8e'), ObjectId('65df186b028ab6f21b8aec8f'), ObjectId('65df186b028ab6f21b8aec90'), ObjectId('65df186b028ab6f21b8aec91'), ObjectId('65df186b028ab6f21b8aec92'), ObjectId('65df186b028ab6f21b8aec93'), ObjectId('65df186b028ab6f21b8aec94'), ObjectId('65df186b028ab6f21b8aec95'), ObjectId('65df186b028ab6f21b8aec96'), ObjectId('65df186b028ab6f21b8aec97'), ObjectId('65df186b028ab6f21b8aec98'), ObjectId('65df186b028ab6f21b8aec99'), ObjectId('65df186b028ab6f21b8aec9a'), ObjectId('65df186b028ab6f21b8aec9b'), ObjectId('65df186b028ab6f21b8aec9c'), ObjectId('65df186b028ab6f21b8aec9d'), ObjectId('65df186b028ab6f21b8aec9e'), ObjectId('65df186b028ab6f21b8aec9f'), ObjectId('65df186b028ab6f21b8aeca0'), ObjectId('65df186b028ab6f21b8aeca1'), ObjectId('65df186b028ab6f21b8aeca2'), ObjectId('65df186b028ab6f21b8aeca3'), ObjectId('65df186b028ab6f21b8aeca4'), ObjectId('65df186b028ab6f21b8aeca5'), ObjectId('65df186b028ab6f21b8aeca6'), ObjectId('65df186b028ab6f21b8aeca7'), ObjectId('65df186b028ab6f21b8aeca8'), ObjectId('65df186b028ab6f21b8aeca9'), ObjectId('65df186b028ab6f21b8aecaa'), ObjectId('65df186b028ab6f21b8aecab'), ObjectId('65df186b028ab6f21b8aecac'), ObjectId('65df186b028ab6f21b8aecad'), ObjectId('65df186b028ab6f21b8aecae'), ObjectId('65df186b028ab6f21b8aecaf'), ObjectId('65df186b028ab6f21b8aecb0'), ObjectId('65df186b028ab6f21b8aecb1'), ObjectId('65df186b028ab6f21b8aecb2'), ObjectId('65df186b028ab6f21b8aecb3'), ObjectId('65df186b028ab6f21b8aecb4'), ObjectId('65df186b028ab6f21b8aecb5'), ObjectId('65df186b028ab6f21b8aecb6'), ObjectId('65df186b028ab6f21b8aecb7'), ObjectId('65df186b028ab6f21b8aecb8'), ObjectId('65df186b028ab6f21b8aecb9'), ObjectId('65df186b028ab6f21b8aecba'), ObjectId('65df186b028ab6f21b8aecbb'), ObjectId('65df186b028ab6f21b8aecbc'), ObjectId('65df186b028ab6f21b8aecbd'), ObjectId('65df186b028ab6f21b8aecbe'), ObjectId('65df186b028ab6f21b8aecbf'), ObjectId('65df186b028ab6f21b8aecc0'), ObjectId('65df186b028ab6f21b8aecc1'), ObjectId('65df186b028ab6f21b8aecc2'), ObjectId('65df186b028ab6f21b8aecc3'), ObjectId('65df186b028ab6f21b8aecc4'), ObjectId('65df186b028ab6f21b8aecc5'), ObjectId('65df186b028ab6f21b8aecc6'), ObjectId('65df186b028ab6f21b8aecc7'), ObjectId('65df186b028ab6f21b8aecc8'), ObjectId('65df186b028ab6f21b8aecc9'), ObjectId('65df186b028ab6f21b8aecca'), ObjectId('65df186b028ab6f21b8aeccb'), ObjectId('65df186b028ab6f21b8aeccc'), ObjectId('65df186b028ab6f21b8aeccd'), ObjectId('65df186b028ab6f21b8aecce'), ObjectId('65df186b028ab6f21b8aeccf'), ObjectId('65df186b028ab6f21b8aecd0'), ObjectId('65df186b028ab6f21b8aecd1'), ObjectId('65df186b028ab6f21b8aecd2'), ObjectId('65df186b028ab6f21b8aecd3'), ObjectId('65df186b028ab6f21b8aecd4'), ObjectId('65df186b028ab6f21b8aecd5'), ObjectId('65df186b028ab6f21b8aecd6'), ObjectId('65df186b028ab6f21b8aecd7'), ObjectId('65df186b028ab6f21b8aecd8'), ObjectId('65df186b028ab6f21b8aecd9'), ObjectId('65df186b028ab6f21b8aecda'), ObjectId('65df186b028ab6f21b8aecdb'), ObjectId('65df186b028ab6f21b8aecdc'), ObjectId('65df186b028ab6f21b8aecdd'), ObjectId('65df186b028ab6f21b8aecde'), ObjectId('65df186b028ab6f21b8aecdf'), ObjectId('65df186b028ab6f21b8aece0'), ObjectId('65df186b028ab6f21b8aece1'), ObjectId('65df186b028ab6f21b8aece2'), ObjectId('65df186b028ab6f21b8aece3'), ObjectId('65df186b028ab6f21b8aece4'), ObjectId('65df186b028ab6f21b8aece5'), ObjectId('65df186b028ab6f21b8aece6'), ObjectId('65df186b028ab6f21b8aece7'), ObjectId('65df186b028ab6f21b8aece8'), ObjectId('65df186b028ab6f21b8aece9'), ObjectId('65df186b028ab6f21b8aecea'), ObjectId('65df186b028ab6f21b8aeceb'), ObjectId('65df186b028ab6f21b8aecec'), ObjectId('65df186b028ab6f21b8aeced'), ObjectId('65df186b028ab6f21b8aecee'), ObjectId('65df186b028ab6f21b8aecef'), ObjectId('65df186b028ab6f21b8aecf0'), ObjectId('65df186b028ab6f21b8aecf1'), ObjectId('65df186b028ab6f21b8aecf2'), ObjectId('65df186b028ab6f21b8aecf3'), ObjectId('65df186b028ab6f21b8aecf4'), ObjectId('65df186b028ab6f21b8aecf5'), ObjectId('65df186b028ab6f21b8aecf6'), ObjectId('65df186b028ab6f21b8aecf7'), ObjectId('65df186b028ab6f21b8aecf8'), ObjectId('65df186b028ab6f21b8aecf9'), ObjectId('65df186b028ab6f21b8aecfa'), ObjectId('65df186b028ab6f21b8aecfb'), ObjectId('65df186b028ab6f21b8aecfc'), ObjectId('65df186b028ab6f21b8aecfd'), ObjectId('65df186b028ab6f21b8aecfe'), ObjectId('65df186b028ab6f21b8aecff'), ObjectId('65df186b028ab6f21b8aed00'), ObjectId('65df186b028ab6f21b8aed01'), ObjectId('65df186b028ab6f21b8aed02'), ObjectId('65df186b028ab6f21b8aed03'), ObjectId('65df186b028ab6f21b8aed04'), ObjectId('65df186b028ab6f21b8aed05'), ObjectId('65df186b028ab6f21b8aed06'), ObjectId('65df186b028ab6f21b8aed07'), ObjectId('65df186b028ab6f21b8aed08'), ObjectId('65df186b028ab6f21b8aed09'), ObjectId('65df186b028ab6f21b8aed0a'), ObjectId('65df186b028ab6f21b8aed0b'), ObjectId('65df186b028ab6f21b8aed0c'), ObjectId('65df186b028ab6f21b8aed0d'), ObjectId('65df186b028ab6f21b8aed0e'), ObjectId('65df186b028ab6f21b8aed0f'), ObjectId('65df186b028ab6f21b8aed10'), ObjectId('65df186b028ab6f21b8aed11'), ObjectId('65df186b028ab6f21b8aed12'), ObjectId('65df186b028ab6f21b8aed13'), ObjectId('65df186b028ab6f21b8aed14'), ObjectId('65df186b028ab6f21b8aed15'), ObjectId('65df186b028ab6f21b8aed16'), ObjectId('65df186b028ab6f21b8aed17'), ObjectId('65df186b028ab6f21b8aed18'), ObjectId('65df186b028ab6f21b8aed19'), ObjectId('65df186b028ab6f21b8aed1a'), ObjectId('65df186b028ab6f21b8aed1b'), ObjectId('65df186b028ab6f21b8aed1c'), ObjectId('65df186b028ab6f21b8aed1d'), ObjectId('65df186b028ab6f21b8aed1e'), ObjectId('65df186b028ab6f21b8aed1f'), ObjectId('65df186b028ab6f21b8aed20'), ObjectId('65df186b028ab6f21b8aed21'), ObjectId('65df186b028ab6f21b8aed22'), ObjectId('65df186b028ab6f21b8aed23'), ObjectId('65df186b028ab6f21b8aed24'), ObjectId('65df186b028ab6f21b8aed25'), ObjectId('65df186b028ab6f21b8aed26'), ObjectId('65df186b028ab6f21b8aed27'), ObjectId('65df186b028ab6f21b8aed28'), ObjectId('65df186b028ab6f21b8aed29'), ObjectId('65df186b028ab6f21b8aed2a'), ObjectId('65df186b028ab6f21b8aed2b'), ObjectId('65df186b028ab6f21b8aed2c'), ObjectId('65df186b028ab6f21b8aed2d'), ObjectId('65df186b028ab6f21b8aed2e'), ObjectId('65df186b028ab6f21b8aed2f'), ObjectId('65df186b028ab6f21b8aed30'), ObjectId('65df186b028ab6f21b8aed31'), ObjectId('65df186b028ab6f21b8aed32'), ObjectId('65df186b028ab6f21b8aed33'), ObjectId('65df186b028ab6f21b8aed34'), ObjectId('65df186b028ab6f21b8aed35'), ObjectId('65df186b028ab6f21b8aed36'), ObjectId('65df186b028ab6f21b8aed37'), ObjectId('65df186b028ab6f21b8aed38'), ObjectId('65df186b028ab6f21b8aed39'), ObjectId('65df186b028ab6f21b8aed3a'), ObjectId('65df186b028ab6f21b8aed3b'), ObjectId('65df186b028ab6f21b8aed3c'), ObjectId('65df186b028ab6f21b8aed3d'), ObjectId('65df186b028ab6f21b8aed3e'), ObjectId('65df186b028ab6f21b8aed3f'), ObjectId('65df186b028ab6f21b8aed40'), ObjectId('65df186b028ab6f21b8aed41'), ObjectId('65df186b028ab6f21b8aed42'), ObjectId('65df186b028ab6f21b8aed43'), ObjectId('65df186b028ab6f21b8aed44'), ObjectId('65df186b028ab6f21b8aed45'), ObjectId('65df186b028ab6f21b8aed46'), ObjectId('65df186b028ab6f21b8aed47'), ObjectId('65df186b028ab6f21b8aed48'), ObjectId('65df186b028ab6f21b8aed49'), ObjectId('65df186b028ab6f21b8aed4a'), ObjectId('65df186b028ab6f21b8aed4b'), ObjectId('65df186b028ab6f21b8aed4c'), ObjectId('65df186b028ab6f21b8aed4d'), ObjectId('65df186b028ab6f21b8aed4e'), ObjectId('65df186b028ab6f21b8aed4f'), ObjectId('65df186b028ab6f21b8aed50'), ObjectId('65df186b028ab6f21b8aed51'), ObjectId('65df186b028ab6f21b8aed52'), ObjectId('65df186b028ab6f21b8aed53'), ObjectId('65df186b028ab6f21b8aed54'), ObjectId('65df186b028ab6f21b8aed55'), ObjectId('65df186b028ab6f21b8aed56'), ObjectId('65df186b028ab6f21b8aed57'), ObjectId('65df186b028ab6f21b8aed58'), ObjectId('65df186b028ab6f21b8aed59'), ObjectId('65df186b028ab6f21b8aed5a'), ObjectId('65df186b028ab6f21b8aed5b'), ObjectId('65df186b028ab6f21b8aed5c'), ObjectId('65df186b028ab6f21b8aed5d'), ObjectId('65df186b028ab6f21b8aed5e'), ObjectId('65df186b028ab6f21b8aed5f'), ObjectId('65df186b028ab6f21b8aed60'), ObjectId('65df186b028ab6f21b8aed61'), ObjectId('65df186b028ab6f21b8aed62'), ObjectId('65df186b028ab6f21b8aed63'), ObjectId('65df186b028ab6f21b8aed64'), ObjectId('65df186b028ab6f21b8aed65'), ObjectId('65df186b028ab6f21b8aed66'), ObjectId('65df186b028ab6f21b8aed67'), ObjectId('65df186b028ab6f21b8aed68'), ObjectId('65df186b028ab6f21b8aed69'), ObjectId('65df186b028ab6f21b8aed6a'), ObjectId('65df186b028ab6f21b8aed6b'), ObjectId('65df186b028ab6f21b8aed6c'), ObjectId('65df186b028ab6f21b8aed6d'), ObjectId('65df186b028ab6f21b8aed6e'), ObjectId('65df186b028ab6f21b8aed6f'), ObjectId('65df186b028ab6f21b8aed70'), ObjectId('65df186b028ab6f21b8aed71'), ObjectId('65df186b028ab6f21b8aed72'), ObjectId('65df186b028ab6f21b8aed73'), ObjectId('65df186b028ab6f21b8aed74'), ObjectId('65df186b028ab6f21b8aed75'), ObjectId('65df186b028ab6f21b8aed76'), ObjectId('65df186b028ab6f21b8aed77'), ObjectId('65df186b028ab6f21b8aed78'), ObjectId('65df186b028ab6f21b8aed79'), ObjectId('65df186b028ab6f21b8aed7a'), ObjectId('65df186b028ab6f21b8aed7b'), ObjectId('65df186b028ab6f21b8aed7c'), ObjectId('65df186b028ab6f21b8aed7d'), ObjectId('65df186b028ab6f21b8aed7e'), ObjectId('65df186b028ab6f21b8aed7f'), ObjectId('65df186b028ab6f21b8aed80'), ObjectId('65df186b028ab6f21b8aed81'), ObjectId('65df186b028ab6f21b8aed82'), ObjectId('65df186b028ab6f21b8aed83'), ObjectId('65df186b028ab6f21b8aed84'), ObjectId('65df186b028ab6f21b8aed85'), ObjectId('65df186b028ab6f21b8aed86'), ObjectId('65df186b028ab6f21b8aed87'), ObjectId('65df186b028ab6f21b8aed88'), ObjectId('65df186b028ab6f21b8aed89'), ObjectId('65df186b028ab6f21b8aed8a'), ObjectId('65df186b028ab6f21b8aed8b'), ObjectId('65df186b028ab6f21b8aed8c'), ObjectId('65df186b028ab6f21b8aed8d'), ObjectId('65df186b028ab6f21b8aed8e'), ObjectId('65df186b028ab6f21b8aed8f'), ObjectId('65df186b028ab6f21b8aed90'), ObjectId('65df186b028ab6f21b8aed91'), ObjectId('65df186b028ab6f21b8aed92'), ObjectId('65df186b028ab6f21b8aed93'), ObjectId('65df186b028ab6f21b8aed94'), ObjectId('65df186b028ab6f21b8aed95'), ObjectId('65df186b028ab6f21b8aed96'), ObjectId('65df186b028ab6f21b8aed97'), ObjectId('65df186b028ab6f21b8aed98'), ObjectId('65df186b028ab6f21b8aed99'), ObjectId('65df186b028ab6f21b8aed9a'), ObjectId('65df186b028ab6f21b8aed9b'), ObjectId('65df186b028ab6f21b8aed9c'), ObjectId('65df186b028ab6f21b8aed9d'), ObjectId('65df186b028ab6f21b8aed9e'), ObjectId('65df186b028ab6f21b8aed9f'), ObjectId('65df186b028ab6f21b8aeda0'), ObjectId('65df186b028ab6f21b8aeda1'), ObjectId('65df186b028ab6f21b8aeda2'), ObjectId('65df186b028ab6f21b8aeda3'), ObjectId('65df186b028ab6f21b8aeda4'), ObjectId('65df186b028ab6f21b8aeda5'), ObjectId('65df186b028ab6f21b8aeda6'), ObjectId('65df186b028ab6f21b8aeda7'), ObjectId('65df186b028ab6f21b8aeda8'), ObjectId('65df186b028ab6f21b8aeda9'), ObjectId('65df186b028ab6f21b8aedaa'), ObjectId('65df186b028ab6f21b8aedab'), ObjectId('65df186b028ab6f21b8aedac'), ObjectId('65df186b028ab6f21b8aedad'), ObjectId('65df186b028ab6f21b8aedae'), ObjectId('65df186b028ab6f21b8aedaf'), ObjectId('65df186b028ab6f21b8aedb0'), ObjectId('65df186b028ab6f21b8aedb1'), ObjectId('65df186b028ab6f21b8aedb2'), ObjectId('65df186b028ab6f21b8aedb3'), ObjectId('65df186b028ab6f21b8aedb4'), ObjectId('65df186b028ab6f21b8aedb5'), ObjectId('65df186b028ab6f21b8aedb6'), ObjectId('65df186b028ab6f21b8aedb7'), ObjectId('65df186b028ab6f21b8aedb8'), ObjectId('65df186b028ab6f21b8aedb9'), ObjectId('65df186b028ab6f21b8aedba'), ObjectId('65df186b028ab6f21b8aedbb'), ObjectId('65df186b028ab6f21b8aedbc'), ObjectId('65df186b028ab6f21b8aedbd'), ObjectId('65df186b028ab6f21b8aedbe'), ObjectId('65df186b028ab6f21b8aedbf'), ObjectId('65df186b028ab6f21b8aedc0'), ObjectId('65df186b028ab6f21b8aedc1'), ObjectId('65df186b028ab6f21b8aedc2'), ObjectId('65df186b028ab6f21b8aedc3'), ObjectId('65df186b028ab6f21b8aedc4'), ObjectId('65df186b028ab6f21b8aedc5'), ObjectId('65df186b028ab6f21b8aedc6'), ObjectId('65df186b028ab6f21b8aedc7'), ObjectId('65df186b028ab6f21b8aedc8'), ObjectId('65df186b028ab6f21b8aedc9'), ObjectId('65df186b028ab6f21b8aedca'), ObjectId('65df186b028ab6f21b8aedcb'), ObjectId('65df186b028ab6f21b8aedcc'), ObjectId('65df186b028ab6f21b8aedcd'), ObjectId('65df186b028ab6f21b8aedce'), ObjectId('65df186b028ab6f21b8aedcf'), ObjectId('65df186b028ab6f21b8aedd0'), ObjectId('65df186b028ab6f21b8aedd1'), ObjectId('65df186b028ab6f21b8aedd2'), ObjectId('65df186b028ab6f21b8aedd3'), ObjectId('65df186b028ab6f21b8aedd4'), ObjectId('65df186b028ab6f21b8aedd5'), ObjectId('65df186b028ab6f21b8aedd6'), ObjectId('65df186b028ab6f21b8aedd7'), ObjectId('65df186b028ab6f21b8aedd8'), ObjectId('65df186b028ab6f21b8aedd9'), ObjectId('65df186b028ab6f21b8aedda'), ObjectId('65df186b028ab6f21b8aeddb'), ObjectId('65df186b028ab6f21b8aeddc'), ObjectId('65df186b028ab6f21b8aeddd'), ObjectId('65df186b028ab6f21b8aedde'), ObjectId('65df186b028ab6f21b8aeddf'), ObjectId('65df186b028ab6f21b8aede0'), ObjectId('65df186b028ab6f21b8aede1'), ObjectId('65df186b028ab6f21b8aede2'), ObjectId('65df186b028ab6f21b8aede3'), ObjectId('65df186b028ab6f21b8aede4'), ObjectId('65df186b028ab6f21b8aede5'), ObjectId('65df186b028ab6f21b8aede6'), ObjectId('65df186b028ab6f21b8aede7'), ObjectId('65df186b028ab6f21b8aede8'), ObjectId('65df186b028ab6f21b8aede9'), ObjectId('65df186b028ab6f21b8aedea'), ObjectId('65df186b028ab6f21b8aedeb'), ObjectId('65df186b028ab6f21b8aedec'), ObjectId('65df186b028ab6f21b8aeded'), ObjectId('65df186b028ab6f21b8aedee'), ObjectId('65df186b028ab6f21b8aedef'), ObjectId('65df186b028ab6f21b8aedf0'), ObjectId('65df186b028ab6f21b8aedf1'), ObjectId('65df186b028ab6f21b8aedf2'), ObjectId('65df186b028ab6f21b8aedf3'), ObjectId('65df186b028ab6f21b8aedf4'), ObjectId('65df186b028ab6f21b8aedf5'), ObjectId('65df186b028ab6f21b8aedf6'), ObjectId('65df186b028ab6f21b8aedf7'), ObjectId('65df186b028ab6f21b8aedf8'), ObjectId('65df186b028ab6f21b8aedf9'), ObjectId('65df186b028ab6f21b8aedfa'), ObjectId('65df186b028ab6f21b8aedfb'), ObjectId('65df186b028ab6f21b8aedfc'), ObjectId('65df186b028ab6f21b8aedfd'), ObjectId('65df186b028ab6f21b8aedfe'), ObjectId('65df186b028ab6f21b8aedff'), ObjectId('65df186b028ab6f21b8aee00'), ObjectId('65df186b028ab6f21b8aee01'), ObjectId('65df186b028ab6f21b8aee02'), ObjectId('65df186b028ab6f21b8aee03'), ObjectId('65df186b028ab6f21b8aee04'), ObjectId('65df186b028ab6f21b8aee05'), ObjectId('65df186b028ab6f21b8aee06'), ObjectId('65df186b028ab6f21b8aee07'), ObjectId('65df186b028ab6f21b8aee08'), ObjectId('65df186b028ab6f21b8aee09'), ObjectId('65df186b028ab6f21b8aee0a'), ObjectId('65df186b028ab6f21b8aee0b'), ObjectId('65df186b028ab6f21b8aee0c'), ObjectId('65df186b028ab6f21b8aee0d'), ObjectId('65df186b028ab6f21b8aee0e'), ObjectId('65df186b028ab6f21b8aee0f'), ObjectId('65df186b028ab6f21b8aee10'), ObjectId('65df186b028ab6f21b8aee11'), ObjectId('65df186b028ab6f21b8aee12'), ObjectId('65df186b028ab6f21b8aee13'), ObjectId('65df186b028ab6f21b8aee14'), ObjectId('65df186b028ab6f21b8aee15'), ObjectId('65df186b028ab6f21b8aee16'), ObjectId('65df186b028ab6f21b8aee17'), ObjectId('65df186b028ab6f21b8aee18'), ObjectId('65df186b028ab6f21b8aee19'), ObjectId('65df186b028ab6f21b8aee1a'), ObjectId('65df186b028ab6f21b8aee1b'), ObjectId('65df186b028ab6f21b8aee1c'), ObjectId('65df186b028ab6f21b8aee1d'), ObjectId('65df186b028ab6f21b8aee1e'), ObjectId('65df186b028ab6f21b8aee1f'), ObjectId('65df186b028ab6f21b8aee20'), ObjectId('65df186b028ab6f21b8aee21'), ObjectId('65df186b028ab6f21b8aee22'), ObjectId('65df186b028ab6f21b8aee23'), ObjectId('65df186b028ab6f21b8aee24'), ObjectId('65df186b028ab6f21b8aee25'), ObjectId('65df186b028ab6f21b8aee26'), ObjectId('65df186b028ab6f21b8aee27'), ObjectId('65df186b028ab6f21b8aee28'), ObjectId('65df186b028ab6f21b8aee29'), ObjectId('65df186b028ab6f21b8aee2a'), ObjectId('65df186b028ab6f21b8aee2b'), ObjectId('65df186b028ab6f21b8aee2c'), ObjectId('65df186b028ab6f21b8aee2d'), ObjectId('65df186b028ab6f21b8aee2e'), ObjectId('65df186b028ab6f21b8aee2f'), ObjectId('65df186b028ab6f21b8aee30'), ObjectId('65df186b028ab6f21b8aee31'), ObjectId('65df186b028ab6f21b8aee32'), ObjectId('65df186b028ab6f21b8aee33'), ObjectId('65df186b028ab6f21b8aee34'), ObjectId('65df186b028ab6f21b8aee35'), ObjectId('65df186b028ab6f21b8aee36'), ObjectId('65df186b028ab6f21b8aee37'), ObjectId('65df186b028ab6f21b8aee38'), ObjectId('65df186b028ab6f21b8aee39'), ObjectId('65df186b028ab6f21b8aee3a'), ObjectId('65df186b028ab6f21b8aee3b'), ObjectId('65df186b028ab6f21b8aee3c'), ObjectId('65df186b028ab6f21b8aee3d'), ObjectId('65df186b028ab6f21b8aee3e'), ObjectId('65df186b028ab6f21b8aee3f'), ObjectId('65df186b028ab6f21b8aee40'), ObjectId('65df186b028ab6f21b8aee41'), ObjectId('65df186b028ab6f21b8aee42'), ObjectId('65df186b028ab6f21b8aee43'), ObjectId('65df186b028ab6f21b8aee44'), ObjectId('65df186b028ab6f21b8aee45'), ObjectId('65df186b028ab6f21b8aee46'), ObjectId('65df186b028ab6f21b8aee47'), ObjectId('65df186b028ab6f21b8aee48'), ObjectId('65df186b028ab6f21b8aee49'), ObjectId('65df186b028ab6f21b8aee4a'), ObjectId('65df186b028ab6f21b8aee4b'), ObjectId('65df186b028ab6f21b8aee4c'), ObjectId('65df186b028ab6f21b8aee4d'), ObjectId('65df186b028ab6f21b8aee4e'), ObjectId('65df186b028ab6f21b8aee4f'), ObjectId('65df186b028ab6f21b8aee50'), ObjectId('65df186b028ab6f21b8aee51'), ObjectId('65df186b028ab6f21b8aee52'), ObjectId('65df186b028ab6f21b8aee53'), ObjectId('65df186b028ab6f21b8aee54'), ObjectId('65df186b028ab6f21b8aee55'), ObjectId('65df186b028ab6f21b8aee56'), ObjectId('65df186b028ab6f21b8aee57'), ObjectId('65df186b028ab6f21b8aee58'), ObjectId('65df186b028ab6f21b8aee59'), ObjectId('65df186b028ab6f21b8aee5a'), ObjectId('65df186b028ab6f21b8aee5b'), ObjectId('65df186b028ab6f21b8aee5c'), ObjectId('65df186b028ab6f21b8aee5d'), ObjectId('65df186b028ab6f21b8aee5e'), ObjectId('65df186b028ab6f21b8aee5f'), ObjectId('65df186b028ab6f21b8aee60'), ObjectId('65df186b028ab6f21b8aee61'), ObjectId('65df186b028ab6f21b8aee62'), ObjectId('65df186b028ab6f21b8aee63'), ObjectId('65df186b028ab6f21b8aee64'), ObjectId('65df186b028ab6f21b8aee65'), ObjectId('65df186b028ab6f21b8aee66'), ObjectId('65df186b028ab6f21b8aee67'), ObjectId('65df186b028ab6f21b8aee68'), ObjectId('65df186b028ab6f21b8aee69'), ObjectId('65df186b028ab6f21b8aee6a'), ObjectId('65df186b028ab6f21b8aee6b'), ObjectId('65df186b028ab6f21b8aee6c'), ObjectId('65df186b028ab6f21b8aee6d'), ObjectId('65df186b028ab6f21b8aee6e'), ObjectId('65df186b028ab6f21b8aee6f'), ObjectId('65df186b028ab6f21b8aee70'), ObjectId('65df186b028ab6f21b8aee71'), ObjectId('65df186b028ab6f21b8aee72'), ObjectId('65df186b028ab6f21b8aee73'), ObjectId('65df186b028ab6f21b8aee74'), ObjectId('65df186b028ab6f21b8aee75'), ObjectId('65df186b028ab6f21b8aee76'), ObjectId('65df186b028ab6f21b8aee77'), ObjectId('65df186b028ab6f21b8aee78'), ObjectId('65df186b028ab6f21b8aee79'), ObjectId('65df186b028ab6f21b8aee7a'), ObjectId('65df186b028ab6f21b8aee7b'), ObjectId('65df186b028ab6f21b8aee7c'), ObjectId('65df186b028ab6f21b8aee7d'), ObjectId('65df186b028ab6f21b8aee7e'), ObjectId('65df186b028ab6f21b8aee7f'), ObjectId('65df186b028ab6f21b8aee80'), ObjectId('65df186b028ab6f21b8aee81'), ObjectId('65df186b028ab6f21b8aee82'), ObjectId('65df186b028ab6f21b8aee83'), ObjectId('65df186b028ab6f21b8aee84'), ObjectId('65df186b028ab6f21b8aee85'), ObjectId('65df186b028ab6f21b8aee86'), ObjectId('65df186b028ab6f21b8aee87'), ObjectId('65df186b028ab6f21b8aee88'), ObjectId('65df186b028ab6f21b8aee89'), ObjectId('65df186b028ab6f21b8aee8a'), ObjectId('65df186b028ab6f21b8aee8b'), ObjectId('65df186b028ab6f21b8aee8c'), ObjectId('65df186b028ab6f21b8aee8d'), ObjectId('65df186b028ab6f21b8aee8e'), ObjectId('65df186b028ab6f21b8aee8f'), ObjectId('65df186b028ab6f21b8aee90'), ObjectId('65df186b028ab6f21b8aee91'), ObjectId('65df186b028ab6f21b8aee92'), ObjectId('65df186b028ab6f21b8aee93'), ObjectId('65df186b028ab6f21b8aee94'), ObjectId('65df186b028ab6f21b8aee95'), ObjectId('65df186b028ab6f21b8aee96'), ObjectId('65df186b028ab6f21b8aee97'), ObjectId('65df186b028ab6f21b8aee98'), ObjectId('65df186b028ab6f21b8aee99'), ObjectId('65df186b028ab6f21b8aee9a'), ObjectId('65df186b028ab6f21b8aee9b'), ObjectId('65df186b028ab6f21b8aee9c'), ObjectId('65df186b028ab6f21b8aee9d'), ObjectId('65df186b028ab6f21b8aee9e'), ObjectId('65df186b028ab6f21b8aee9f'), ObjectId('65df186b028ab6f21b8aeea0'), ObjectId('65df186b028ab6f21b8aeea1'), ObjectId('65df186b028ab6f21b8aeea2'), ObjectId('65df186b028ab6f21b8aeea3'), ObjectId('65df186b028ab6f21b8aeea4'), ObjectId('65df186b028ab6f21b8aeea5'), ObjectId('65df186b028ab6f21b8aeea6'), ObjectId('65df186b028ab6f21b8aeea7'), ObjectId('65df186b028ab6f21b8aeea8'), ObjectId('65df186b028ab6f21b8aeea9'), ObjectId('65df186b028ab6f21b8aeeaa'), ObjectId('65df186b028ab6f21b8aeeab'), ObjectId('65df186b028ab6f21b8aeeac'), ObjectId('65df186b028ab6f21b8aeead'), ObjectId('65df186b028ab6f21b8aeeae'), ObjectId('65df186b028ab6f21b8aeeaf'), ObjectId('65df186b028ab6f21b8aeeb0'), ObjectId('65df186b028ab6f21b8aeeb1'), ObjectId('65df186b028ab6f21b8aeeb2'), ObjectId('65df186b028ab6f21b8aeeb3'), ObjectId('65df186b028ab6f21b8aeeb4'), ObjectId('65df186b028ab6f21b8aeeb5'), ObjectId('65df186b028ab6f21b8aeeb6'), ObjectId('65df186b028ab6f21b8aeeb7'), ObjectId('65df186b028ab6f21b8aeeb8'), ObjectId('65df186b028ab6f21b8aeeb9'), ObjectId('65df186b028ab6f21b8aeeba'), ObjectId('65df186b028ab6f21b8aeebb'), ObjectId('65df186b028ab6f21b8aeebc'), ObjectId('65df186b028ab6f21b8aeebd'), ObjectId('65df186b028ab6f21b8aeebe'), ObjectId('65df186b028ab6f21b8aeebf'), ObjectId('65df186b028ab6f21b8aeec0'), ObjectId('65df186b028ab6f21b8aeec1'), ObjectId('65df186b028ab6f21b8aeec2'), ObjectId('65df186b028ab6f21b8aeec3'), ObjectId('65df186b028ab6f21b8aeec4'), ObjectId('65df186b028ab6f21b8aeec5'), ObjectId('65df186b028ab6f21b8aeec6'), ObjectId('65df186b028ab6f21b8aeec7'), ObjectId('65df186b028ab6f21b8aeec8'), ObjectId('65df186b028ab6f21b8aeec9'), ObjectId('65df186b028ab6f21b8aeeca'), ObjectId('65df186b028ab6f21b8aeecb'), ObjectId('65df186b028ab6f21b8aeecc'), ObjectId('65df186b028ab6f21b8aeecd'), ObjectId('65df186b028ab6f21b8aeece'), ObjectId('65df186b028ab6f21b8aeecf'), ObjectId('65df186b028ab6f21b8aeed0'), ObjectId('65df186b028ab6f21b8aeed1'), ObjectId('65df186b028ab6f21b8aeed2'), ObjectId('65df186b028ab6f21b8aeed3'), ObjectId('65df186b028ab6f21b8aeed4'), ObjectId('65df186b028ab6f21b8aeed5'), ObjectId('65df186b028ab6f21b8aeed6'), ObjectId('65df186b028ab6f21b8aeed7'), ObjectId('65df186b028ab6f21b8aeed8'), ObjectId('65df186b028ab6f21b8aeed9'), ObjectId('65df186b028ab6f21b8aeeda'), ObjectId('65df186b028ab6f21b8aeedb'), ObjectId('65df186b028ab6f21b8aeedc'), ObjectId('65df186b028ab6f21b8aeedd'), ObjectId('65df186b028ab6f21b8aeede'), ObjectId('65df186b028ab6f21b8aeedf'), ObjectId('65df186b028ab6f21b8aeee0'), ObjectId('65df186b028ab6f21b8aeee1'), ObjectId('65df186b028ab6f21b8aeee2'), ObjectId('65df186b028ab6f21b8aeee3'), ObjectId('65df186b028ab6f21b8aeee4'), ObjectId('65df186b028ab6f21b8aeee5'), ObjectId('65df186b028ab6f21b8aeee6'), ObjectId('65df186b028ab6f21b8aeee7'), ObjectId('65df186b028ab6f21b8aeee8'), ObjectId('65df186b028ab6f21b8aeee9'), ObjectId('65df186b028ab6f21b8aeeea'), ObjectId('65df186b028ab6f21b8aeeeb'), ObjectId('65df186b028ab6f21b8aeeec'), ObjectId('65df186b028ab6f21b8aeeed'), ObjectId('65df186b028ab6f21b8aeeee'), ObjectId('65df186b028ab6f21b8aeeef'), ObjectId('65df186b028ab6f21b8aeef0'), ObjectId('65df186b028ab6f21b8aeef1'), ObjectId('65df186b028ab6f21b8aeef2'), ObjectId('65df186b028ab6f21b8aeef3'), ObjectId('65df186b028ab6f21b8aeef4'), ObjectId('65df186b028ab6f21b8aeef5'), ObjectId('65df186b028ab6f21b8aeef6'), ObjectId('65df186b028ab6f21b8aeef7'), ObjectId('65df186b028ab6f21b8aeef8'), ObjectId('65df186b028ab6f21b8aeef9'), ObjectId('65df186b028ab6f21b8aeefa'), ObjectId('65df186b028ab6f21b8aeefb'), ObjectId('65df186b028ab6f21b8aeefc'), ObjectId('65df186b028ab6f21b8aeefd'), ObjectId('65df186b028ab6f21b8aeefe'), ObjectId('65df186b028ab6f21b8aeeff'), ObjectId('65df186b028ab6f21b8aef00'), ObjectId('65df186b028ab6f21b8aef01'), ObjectId('65df186b028ab6f21b8aef02'), ObjectId('65df186b028ab6f21b8aef03'), ObjectId('65df186b028ab6f21b8aef04'), ObjectId('65df186b028ab6f21b8aef05'), ObjectId('65df186b028ab6f21b8aef06'), ObjectId('65df186b028ab6f21b8aef07'), ObjectId('65df186b028ab6f21b8aef08'), ObjectId('65df186b028ab6f21b8aef09'), ObjectId('65df186b028ab6f21b8aef0a'), ObjectId('65df186b028ab6f21b8aef0b'), ObjectId('65df186b028ab6f21b8aef0c'), ObjectId('65df186b028ab6f21b8aef0d'), ObjectId('65df186b028ab6f21b8aef0e'), ObjectId('65df186b028ab6f21b8aef0f'), ObjectId('65df186b028ab6f21b8aef10'), ObjectId('65df186b028ab6f21b8aef11'), ObjectId('65df186b028ab6f21b8aef12'), ObjectId('65df186b028ab6f21b8aef13'), ObjectId('65df186b028ab6f21b8aef14'), ObjectId('65df186b028ab6f21b8aef15'), ObjectId('65df186b028ab6f21b8aef16'), ObjectId('65df186b028ab6f21b8aef17'), ObjectId('65df186b028ab6f21b8aef18'), ObjectId('65df186b028ab6f21b8aef19'), ObjectId('65df186b028ab6f21b8aef1a'), ObjectId('65df186b028ab6f21b8aef1b'), ObjectId('65df186b028ab6f21b8aef1c'), ObjectId('65df186b028ab6f21b8aef1d'), ObjectId('65df186b028ab6f21b8aef1e'), ObjectId('65df186b028ab6f21b8aef1f'), ObjectId('65df186b028ab6f21b8aef20'), ObjectId('65df186b028ab6f21b8aef21'), ObjectId('65df186b028ab6f21b8aef22'), ObjectId('65df186b028ab6f21b8aef23'), ObjectId('65df186b028ab6f21b8aef24'), ObjectId('65df186b028ab6f21b8aef25'), ObjectId('65df186b028ab6f21b8aef26'), ObjectId('65df186b028ab6f21b8aef27'), ObjectId('65df186b028ab6f21b8aef28'), ObjectId('65df186b028ab6f21b8aef29'), ObjectId('65df186b028ab6f21b8aef2a'), ObjectId('65df186b028ab6f21b8aef2b'), ObjectId('65df186b028ab6f21b8aef2c'), ObjectId('65df186b028ab6f21b8aef2d'), ObjectId('65df186b028ab6f21b8aef2e'), ObjectId('65df186b028ab6f21b8aef2f'), ObjectId('65df186b028ab6f21b8aef30'), ObjectId('65df186b028ab6f21b8aef31'), ObjectId('65df186b028ab6f21b8aef32'), ObjectId('65df186b028ab6f21b8aef33'), ObjectId('65df186b028ab6f21b8aef34'), ObjectId('65df186b028ab6f21b8aef35'), ObjectId('65df186b028ab6f21b8aef36'), ObjectId('65df186b028ab6f21b8aef37'), ObjectId('65df186b028ab6f21b8aef38'), ObjectId('65df186b028ab6f21b8aef39'), ObjectId('65df186b028ab6f21b8aef3a'), ObjectId('65df186b028ab6f21b8aef3b'), ObjectId('65df186b028ab6f21b8aef3c'), ObjectId('65df186b028ab6f21b8aef3d'), ObjectId('65df186b028ab6f21b8aef3e'), ObjectId('65df186b028ab6f21b8aef3f'), ObjectId('65df186b028ab6f21b8aef40'), ObjectId('65df186b028ab6f21b8aef41'), ObjectId('65df186b028ab6f21b8aef42'), ObjectId('65df186b028ab6f21b8aef43'), ObjectId('65df186b028ab6f21b8aef44'), ObjectId('65df186b028ab6f21b8aef45'), ObjectId('65df186b028ab6f21b8aef46'), ObjectId('65df186b028ab6f21b8aef47'), ObjectId('65df186b028ab6f21b8aef48'), ObjectId('65df186b028ab6f21b8aef49'), ObjectId('65df186b028ab6f21b8aef4a'), ObjectId('65df186b028ab6f21b8aef4b'), ObjectId('65df186b028ab6f21b8aef4c'), ObjectId('65df186b028ab6f21b8aef4d'), ObjectId('65df186b028ab6f21b8aef4e'), ObjectId('65df186b028ab6f21b8aef4f'), ObjectId('65df186b028ab6f21b8aef50'), ObjectId('65df186b028ab6f21b8aef51'), ObjectId('65df186b028ab6f21b8aef52'), ObjectId('65df186b028ab6f21b8aef53'), ObjectId('65df186b028ab6f21b8aef54'), ObjectId('65df186b028ab6f21b8aef55'), ObjectId('65df186b028ab6f21b8aef56'), ObjectId('65df186b028ab6f21b8aef57'), ObjectId('65df186b028ab6f21b8aef58'), ObjectId('65df186b028ab6f21b8aef59'), ObjectId('65df186b028ab6f21b8aef5a'), ObjectId('65df186b028ab6f21b8aef5b'), ObjectId('65df186b028ab6f21b8aef5c'), ObjectId('65df186b028ab6f21b8aef5d'), ObjectId('65df186b028ab6f21b8aef5e'), ObjectId('65df186b028ab6f21b8aef5f'), ObjectId('65df186b028ab6f21b8aef60'), ObjectId('65df186b028ab6f21b8aef61'), ObjectId('65df186b028ab6f21b8aef62'), ObjectId('65df186b028ab6f21b8aef63'), ObjectId('65df186b028ab6f21b8aef64'), ObjectId('65df186b028ab6f21b8aef65'), ObjectId('65df186b028ab6f21b8aef66'), ObjectId('65df186b028ab6f21b8aef67'), ObjectId('65df186b028ab6f21b8aef68'), ObjectId('65df186b028ab6f21b8aef69'), ObjectId('65df186b028ab6f21b8aef6a'), ObjectId('65df186b028ab6f21b8aef6b'), ObjectId('65df186b028ab6f21b8aef6c'), ObjectId('65df186b028ab6f21b8aef6d'), ObjectId('65df186b028ab6f21b8aef6e'), ObjectId('65df186b028ab6f21b8aef6f'), ObjectId('65df186b028ab6f21b8aef70'), ObjectId('65df186b028ab6f21b8aef71'), ObjectId('65df186b028ab6f21b8aef72'), ObjectId('65df186b028ab6f21b8aef73'), ObjectId('65df186b028ab6f21b8aef74'), ObjectId('65df186b028ab6f21b8aef75'), ObjectId('65df186b028ab6f21b8aef76'), ObjectId('65df186b028ab6f21b8aef77'), ObjectId('65df186b028ab6f21b8aef78'), ObjectId('65df186b028ab6f21b8aef79'), ObjectId('65df186b028ab6f21b8aef7a'), ObjectId('65df186b028ab6f21b8aef7b'), ObjectId('65df186b028ab6f21b8aef7c'), ObjectId('65df186b028ab6f21b8aef7d'), ObjectId('65df186b028ab6f21b8aef7e'), ObjectId('65df186b028ab6f21b8aef7f'), ObjectId('65df186b028ab6f21b8aef80'), ObjectId('65df186b028ab6f21b8aef81'), ObjectId('65df186b028ab6f21b8aef82'), ObjectId('65df186b028ab6f21b8aef83'), ObjectId('65df186b028ab6f21b8aef84'), ObjectId('65df186b028ab6f21b8aef85'), ObjectId('65df186b028ab6f21b8aef86'), ObjectId('65df186b028ab6f21b8aef87'), ObjectId('65df186b028ab6f21b8aef88'), ObjectId('65df186b028ab6f21b8aef89'), ObjectId('65df186b028ab6f21b8aef8a'), ObjectId('65df186b028ab6f21b8aef8b'), ObjectId('65df186b028ab6f21b8aef8c'), ObjectId('65df186b028ab6f21b8aef8d'), ObjectId('65df186b028ab6f21b8aef8e'), ObjectId('65df186b028ab6f21b8aef8f'), ObjectId('65df186b028ab6f21b8aef90'), ObjectId('65df186b028ab6f21b8aef91'), ObjectId('65df186b028ab6f21b8aef92'), ObjectId('65df186b028ab6f21b8aef93'), ObjectId('65df186b028ab6f21b8aef94'), ObjectId('65df186b028ab6f21b8aef95'), ObjectId('65df186b028ab6f21b8aef96'), ObjectId('65df186b028ab6f21b8aef97'), ObjectId('65df186b028ab6f21b8aef98'), ObjectId('65df186b028ab6f21b8aef99'), ObjectId('65df186b028ab6f21b8aef9a'), ObjectId('65df186b028ab6f21b8aef9b'), ObjectId('65df186b028ab6f21b8aef9c'), ObjectId('65df186b028ab6f21b8aef9d'), ObjectId('65df186b028ab6f21b8aef9e'), ObjectId('65df186b028ab6f21b8aef9f'), ObjectId('65df186b028ab6f21b8aefa0'), ObjectId('65df186b028ab6f21b8aefa1'), ObjectId('65df186b028ab6f21b8aefa2'), ObjectId('65df186b028ab6f21b8aefa3'), ObjectId('65df186b028ab6f21b8aefa4'), ObjectId('65df186b028ab6f21b8aefa5'), ObjectId('65df186b028ab6f21b8aefa6'), ObjectId('65df186b028ab6f21b8aefa7'), ObjectId('65df186b028ab6f21b8aefa8'), ObjectId('65df186b028ab6f21b8aefa9'), ObjectId('65df186b028ab6f21b8aefaa'), ObjectId('65df186b028ab6f21b8aefab'), ObjectId('65df186b028ab6f21b8aefac'), ObjectId('65df186b028ab6f21b8aefad'), ObjectId('65df186b028ab6f21b8aefae'), ObjectId('65df186b028ab6f21b8aefaf'), ObjectId('65df186b028ab6f21b8aefb0'), ObjectId('65df186b028ab6f21b8aefb1'), ObjectId('65df186b028ab6f21b8aefb2'), ObjectId('65df186b028ab6f21b8aefb3'), ObjectId('65df186b028ab6f21b8aefb4'), ObjectId('65df186b028ab6f21b8aefb5'), ObjectId('65df186b028ab6f21b8aefb6'), ObjectId('65df186b028ab6f21b8aefb7'), ObjectId('65df186b028ab6f21b8aefb8'), ObjectId('65df186b028ab6f21b8aefb9'), ObjectId('65df186b028ab6f21b8aefba'), ObjectId('65df186b028ab6f21b8aefbb'), ObjectId('65df186b028ab6f21b8aefbc'), ObjectId('65df186b028ab6f21b8aefbd'), ObjectId('65df186b028ab6f21b8aefbe'), ObjectId('65df186b028ab6f21b8aefbf'), ObjectId('65df186b028ab6f21b8aefc0'), ObjectId('65df186b028ab6f21b8aefc1'), ObjectId('65df186b028ab6f21b8aefc2'), ObjectId('65df186b028ab6f21b8aefc3'), ObjectId('65df186b028ab6f21b8aefc4'), ObjectId('65df186b028ab6f21b8aefc5'), ObjectId('65df186b028ab6f21b8aefc6'), ObjectId('65df186b028ab6f21b8aefc7'), ObjectId('65df186b028ab6f21b8aefc8'), ObjectId('65df186b028ab6f21b8aefc9'), ObjectId('65df186b028ab6f21b8aefca'), ObjectId('65df186b028ab6f21b8aefcb'), ObjectId('65df186b028ab6f21b8aefcc'), ObjectId('65df186b028ab6f21b8aefcd'), ObjectId('65df186b028ab6f21b8aefce'), ObjectId('65df186b028ab6f21b8aefcf'), ObjectId('65df186b028ab6f21b8aefd0'), ObjectId('65df186b028ab6f21b8aefd1'), ObjectId('65df186b028ab6f21b8aefd2'), ObjectId('65df186b028ab6f21b8aefd3'), ObjectId('65df186b028ab6f21b8aefd4'), ObjectId('65df186b028ab6f21b8aefd5'), ObjectId('65df186b028ab6f21b8aefd6'), ObjectId('65df186b028ab6f21b8aefd7'), ObjectId('65df186b028ab6f21b8aefd8'), ObjectId('65df186b028ab6f21b8aefd9'), ObjectId('65df186b028ab6f21b8aefda'), ObjectId('65df186b028ab6f21b8aefdb'), ObjectId('65df186b028ab6f21b8aefdc'), ObjectId('65df186b028ab6f21b8aefdd'), ObjectId('65df186b028ab6f21b8aefde'), ObjectId('65df186b028ab6f21b8aefdf'), ObjectId('65df186b028ab6f21b8aefe0'), ObjectId('65df186b028ab6f21b8aefe1'), ObjectId('65df186b028ab6f21b8aefe2'), ObjectId('65df186b028ab6f21b8aefe3'), ObjectId('65df186b028ab6f21b8aefe4'), ObjectId('65df186b028ab6f21b8aefe5'), ObjectId('65df186b028ab6f21b8aefe6'), ObjectId('65df186b028ab6f21b8aefe7'), ObjectId('65df186b028ab6f21b8aefe8'), ObjectId('65df186b028ab6f21b8aefe9'), ObjectId('65df186b028ab6f21b8aefea'), ObjectId('65df186b028ab6f21b8aefeb'), ObjectId('65df186b028ab6f21b8aefec'), ObjectId('65df186b028ab6f21b8aefed'), ObjectId('65df186b028ab6f21b8aefee'), ObjectId('65df186b028ab6f21b8aefef'), ObjectId('65df186b028ab6f21b8aeff0'), ObjectId('65df186b028ab6f21b8aeff1'), ObjectId('65df186b028ab6f21b8aeff2'), ObjectId('65df186b028ab6f21b8aeff3'), ObjectId('65df186b028ab6f21b8aeff4'), ObjectId('65df186b028ab6f21b8aeff5'), ObjectId('65df186b028ab6f21b8aeff6'), ObjectId('65df186b028ab6f21b8aeff7'), ObjectId('65df186b028ab6f21b8aeff8'), ObjectId('65df186b028ab6f21b8aeff9'), ObjectId('65df186b028ab6f21b8aeffa'), ObjectId('65df186b028ab6f21b8aeffb'), ObjectId('65df186b028ab6f21b8aeffc'), ObjectId('65df186b028ab6f21b8aeffd'), ObjectId('65df186b028ab6f21b8aeffe'), ObjectId('65df186b028ab6f21b8aefff'), ObjectId('65df186b028ab6f21b8af000'), ObjectId('65df186b028ab6f21b8af001'), ObjectId('65df186b028ab6f21b8af002'), ObjectId('65df186b028ab6f21b8af003'), ObjectId('65df186b028ab6f21b8af004'), ObjectId('65df186b028ab6f21b8af005'), ObjectId('65df186b028ab6f21b8af006'), ObjectId('65df186b028ab6f21b8af007'), ObjectId('65df186b028ab6f21b8af008'), ObjectId('65df186b028ab6f21b8af009'), ObjectId('65df186b028ab6f21b8af00a'), ObjectId('65df186b028ab6f21b8af00b'), ObjectId('65df186b028ab6f21b8af00c'), ObjectId('65df186b028ab6f21b8af00d'), ObjectId('65df186b028ab6f21b8af00e'), ObjectId('65df186b028ab6f21b8af00f'), ObjectId('65df186b028ab6f21b8af010'), ObjectId('65df186b028ab6f21b8af011'), ObjectId('65df186b028ab6f21b8af012'), ObjectId('65df186b028ab6f21b8af013'), ObjectId('65df186b028ab6f21b8af014'), ObjectId('65df186b028ab6f21b8af015'), ObjectId('65df186b028ab6f21b8af016'), ObjectId('65df186b028ab6f21b8af017'), ObjectId('65df186b028ab6f21b8af018'), ObjectId('65df186b028ab6f21b8af019'), ObjectId('65df186b028ab6f21b8af01a'), ObjectId('65df186b028ab6f21b8af01b'), ObjectId('65df186b028ab6f21b8af01c'), ObjectId('65df186b028ab6f21b8af01d'), ObjectId('65df186b028ab6f21b8af01e'), ObjectId('65df186b028ab6f21b8af01f'), ObjectId('65df186b028ab6f21b8af020'), ObjectId('65df186b028ab6f21b8af021'), ObjectId('65df186b028ab6f21b8af022'), ObjectId('65df186b028ab6f21b8af023'), ObjectId('65df186b028ab6f21b8af024'), ObjectId('65df186b028ab6f21b8af025'), ObjectId('65df186b028ab6f21b8af026'), ObjectId('65df186b028ab6f21b8af027'), ObjectId('65df186b028ab6f21b8af028'), ObjectId('65df186b028ab6f21b8af029'), ObjectId('65df186b028ab6f21b8af02a'), ObjectId('65df186b028ab6f21b8af02b'), ObjectId('65df186b028ab6f21b8af02c'), ObjectId('65df186b028ab6f21b8af02d'), ObjectId('65df186b028ab6f21b8af02e'), ObjectId('65df186b028ab6f21b8af02f'), ObjectId('65df186b028ab6f21b8af030'), ObjectId('65df186b028ab6f21b8af031'), ObjectId('65df186b028ab6f21b8af032'), ObjectId('65df186b028ab6f21b8af033'), ObjectId('65df186b028ab6f21b8af034'), ObjectId('65df186b028ab6f21b8af035'), ObjectId('65df186b028ab6f21b8af036'), ObjectId('65df186b028ab6f21b8af037'), ObjectId('65df186b028ab6f21b8af038'), ObjectId('65df186b028ab6f21b8af039'), ObjectId('65df186b028ab6f21b8af03a'), ObjectId('65df186b028ab6f21b8af03b'), ObjectId('65df186b028ab6f21b8af03c'), ObjectId('65df186b028ab6f21b8af03d'), ObjectId('65df186b028ab6f21b8af03e'), ObjectId('65df186b028ab6f21b8af03f'), ObjectId('65df186b028ab6f21b8af040'), ObjectId('65df186b028ab6f21b8af041'), ObjectId('65df186b028ab6f21b8af042'), ObjectId('65df186b028ab6f21b8af043'), ObjectId('65df186b028ab6f21b8af044'), ObjectId('65df186b028ab6f21b8af045'), ObjectId('65df186b028ab6f21b8af046'), ObjectId('65df186b028ab6f21b8af047'), ObjectId('65df186b028ab6f21b8af048'), ObjectId('65df186b028ab6f21b8af049'), ObjectId('65df186b028ab6f21b8af04a'), ObjectId('65df186b028ab6f21b8af04b'), ObjectId('65df186b028ab6f21b8af04c'), ObjectId('65df186b028ab6f21b8af04d'), ObjectId('65df186b028ab6f21b8af04e'), ObjectId('65df186b028ab6f21b8af04f'), ObjectId('65df186b028ab6f21b8af050'), ObjectId('65df186b028ab6f21b8af051'), ObjectId('65df186b028ab6f21b8af052'), ObjectId('65df186b028ab6f21b8af053'), ObjectId('65df186b028ab6f21b8af054'), ObjectId('65df186b028ab6f21b8af055'), ObjectId('65df186b028ab6f21b8af056'), ObjectId('65df186b028ab6f21b8af057'), ObjectId('65df186b028ab6f21b8af058'), ObjectId('65df186b028ab6f21b8af059'), ObjectId('65df186b028ab6f21b8af05a'), ObjectId('65df186b028ab6f21b8af05b'), ObjectId('65df186b028ab6f21b8af05c'), ObjectId('65df186b028ab6f21b8af05d'), ObjectId('65df186b028ab6f21b8af05e'), ObjectId('65df186b028ab6f21b8af05f'), ObjectId('65df186b028ab6f21b8af060'), ObjectId('65df186b028ab6f21b8af061'), ObjectId('65df186b028ab6f21b8af062'), ObjectId('65df186b028ab6f21b8af063'), ObjectId('65df186b028ab6f21b8af064'), ObjectId('65df186b028ab6f21b8af065'), ObjectId('65df186b028ab6f21b8af066'), ObjectId('65df186b028ab6f21b8af067'), ObjectId('65df186b028ab6f21b8af068'), ObjectId('65df186b028ab6f21b8af069'), ObjectId('65df186b028ab6f21b8af06a'), ObjectId('65df186b028ab6f21b8af06b'), ObjectId('65df186b028ab6f21b8af06c'), ObjectId('65df186b028ab6f21b8af06d'), ObjectId('65df186b028ab6f21b8af06e'), ObjectId('65df186b028ab6f21b8af06f'), ObjectId('65df186b028ab6f21b8af070')], acknowledged=True)"
      ]
     },
     "execution_count": 40,
     "metadata": {},
     "output_type": "execute_result"
    }
   ],
   "source": [
    "# Connect to MongoDB\n",
    "db = client['trading_bot']\n",
    "collection = db['asset_data']\n",
    "\n",
    "coll.drop() # ensure we start with an empty collection\n",
    "\n",
    "# Convert DataFrame to a list of dictionaries (one per row)\n",
    "data = df.to_dict(orient='records')\n",
    "\n",
    "# Insert the data into the MongoDB collection\n",
    "collection.insert_many(data)"
   ]
  },
  {
   "cell_type": "markdown",
   "id": "b15b51a0",
   "metadata": {},
   "source": [
    "### Retrieve entire dataset"
   ]
  },
  {
   "cell_type": "code",
   "execution_count": 66,
   "id": "0d3c7368",
   "metadata": {},
   "outputs": [
    {
     "data": {
      "text/html": [
       "<div>\n",
       "<style scoped>\n",
       "    .dataframe tbody tr th:only-of-type {\n",
       "        vertical-align: middle;\n",
       "    }\n",
       "\n",
       "    .dataframe tbody tr th {\n",
       "        vertical-align: top;\n",
       "    }\n",
       "\n",
       "    .dataframe thead th {\n",
       "        text-align: right;\n",
       "    }\n",
       "</style>\n",
       "<table border=\"1\" class=\"dataframe\">\n",
       "  <thead>\n",
       "    <tr style=\"text-align: right;\">\n",
       "      <th></th>\n",
       "      <th>_id</th>\n",
       "      <th>openT</th>\n",
       "      <th>open</th>\n",
       "      <th>high</th>\n",
       "      <th>low</th>\n",
       "      <th>close</th>\n",
       "      <th>baseVol</th>\n",
       "      <th>closeT</th>\n",
       "      <th>quoteVol</th>\n",
       "      <th>nbTrade</th>\n",
       "      <th>takerBaseVol</th>\n",
       "      <th>takerQuoteVol</th>\n",
       "    </tr>\n",
       "  </thead>\n",
       "  <tbody>\n",
       "    <tr>\n",
       "      <th>0</th>\n",
       "      <td>65df186b028ab6f21b8ae71f</td>\n",
       "      <td>1502928000000</td>\n",
       "      <td>4261.48</td>\n",
       "      <td>4485.39</td>\n",
       "      <td>4200.74</td>\n",
       "      <td>4285.08</td>\n",
       "      <td>795.150377</td>\n",
       "      <td>1503014399999</td>\n",
       "      <td>3.454770e+06</td>\n",
       "      <td>3427</td>\n",
       "      <td>616.248541</td>\n",
       "      <td>2.678216e+06</td>\n",
       "    </tr>\n",
       "    <tr>\n",
       "      <th>1</th>\n",
       "      <td>65df186b028ab6f21b8ae720</td>\n",
       "      <td>1503014400000</td>\n",
       "      <td>4285.08</td>\n",
       "      <td>4371.52</td>\n",
       "      <td>3938.77</td>\n",
       "      <td>4108.37</td>\n",
       "      <td>1199.888264</td>\n",
       "      <td>1503100799999</td>\n",
       "      <td>5.086958e+06</td>\n",
       "      <td>5233</td>\n",
       "      <td>972.868710</td>\n",
       "      <td>4.129123e+06</td>\n",
       "    </tr>\n",
       "    <tr>\n",
       "      <th>2</th>\n",
       "      <td>65df186b028ab6f21b8ae721</td>\n",
       "      <td>1503100800000</td>\n",
       "      <td>4108.37</td>\n",
       "      <td>4184.69</td>\n",
       "      <td>3850.00</td>\n",
       "      <td>4139.98</td>\n",
       "      <td>381.309763</td>\n",
       "      <td>1503187199999</td>\n",
       "      <td>1.549484e+06</td>\n",
       "      <td>2153</td>\n",
       "      <td>274.336042</td>\n",
       "      <td>1.118002e+06</td>\n",
       "    </tr>\n",
       "    <tr>\n",
       "      <th>3</th>\n",
       "      <td>65df186b028ab6f21b8ae722</td>\n",
       "      <td>1503187200000</td>\n",
       "      <td>4120.98</td>\n",
       "      <td>4211.08</td>\n",
       "      <td>4032.62</td>\n",
       "      <td>4086.29</td>\n",
       "      <td>467.083022</td>\n",
       "      <td>1503273599999</td>\n",
       "      <td>1.930364e+06</td>\n",
       "      <td>2321</td>\n",
       "      <td>376.795947</td>\n",
       "      <td>1.557401e+06</td>\n",
       "    </tr>\n",
       "    <tr>\n",
       "      <th>4</th>\n",
       "      <td>65df186b028ab6f21b8ae723</td>\n",
       "      <td>1503273600000</td>\n",
       "      <td>4069.13</td>\n",
       "      <td>4119.62</td>\n",
       "      <td>3911.79</td>\n",
       "      <td>4016.00</td>\n",
       "      <td>691.743060</td>\n",
       "      <td>1503359999999</td>\n",
       "      <td>2.797232e+06</td>\n",
       "      <td>3972</td>\n",
       "      <td>557.356107</td>\n",
       "      <td>2.255663e+06</td>\n",
       "    </tr>\n",
       "  </tbody>\n",
       "</table>\n",
       "</div>"
      ],
      "text/plain": [
       "                        _id          openT     open     high      low  \\\n",
       "0  65df186b028ab6f21b8ae71f  1502928000000  4261.48  4485.39  4200.74   \n",
       "1  65df186b028ab6f21b8ae720  1503014400000  4285.08  4371.52  3938.77   \n",
       "2  65df186b028ab6f21b8ae721  1503100800000  4108.37  4184.69  3850.00   \n",
       "3  65df186b028ab6f21b8ae722  1503187200000  4120.98  4211.08  4032.62   \n",
       "4  65df186b028ab6f21b8ae723  1503273600000  4069.13  4119.62  3911.79   \n",
       "\n",
       "     close      baseVol         closeT      quoteVol  nbTrade  takerBaseVol  \\\n",
       "0  4285.08   795.150377  1503014399999  3.454770e+06     3427    616.248541   \n",
       "1  4108.37  1199.888264  1503100799999  5.086958e+06     5233    972.868710   \n",
       "2  4139.98   381.309763  1503187199999  1.549484e+06     2153    274.336042   \n",
       "3  4086.29   467.083022  1503273599999  1.930364e+06     2321    376.795947   \n",
       "4  4016.00   691.743060  1503359999999  2.797232e+06     3972    557.356107   \n",
       "\n",
       "   takerQuoteVol  \n",
       "0   2.678216e+06  \n",
       "1   4.129123e+06  \n",
       "2   1.118002e+06  \n",
       "3   1.557401e+06  \n",
       "4   2.255663e+06  "
      ]
     },
     "execution_count": 66,
     "metadata": {},
     "output_type": "execute_result"
    }
   ],
   "source": [
    "cursor = collection.find()\n",
    "df_retieved = pd.DataFrame(list(cursor))\n",
    "\n",
    "df_retieved.head()"
   ]
  },
  {
   "cell_type": "markdown",
   "id": "e30e0d9a",
   "metadata": {},
   "source": [
    "### Query DB based on timestamp range\n",
    "This query inside mongoDB before pulling the data."
   ]
  },
  {
   "cell_type": "code",
   "execution_count": 90,
   "id": "7baa98cc",
   "metadata": {},
   "outputs": [
    {
     "data": {
      "text/html": [
       "<div>\n",
       "<style scoped>\n",
       "    .dataframe tbody tr th:only-of-type {\n",
       "        vertical-align: middle;\n",
       "    }\n",
       "\n",
       "    .dataframe tbody tr th {\n",
       "        vertical-align: top;\n",
       "    }\n",
       "\n",
       "    .dataframe thead th {\n",
       "        text-align: right;\n",
       "    }\n",
       "</style>\n",
       "<table border=\"1\" class=\"dataframe\">\n",
       "  <thead>\n",
       "    <tr style=\"text-align: right;\">\n",
       "      <th></th>\n",
       "      <th>_id</th>\n",
       "      <th>openT</th>\n",
       "      <th>open</th>\n",
       "      <th>high</th>\n",
       "      <th>low</th>\n",
       "      <th>close</th>\n",
       "      <th>baseVol</th>\n",
       "      <th>closeT</th>\n",
       "      <th>quoteVol</th>\n",
       "      <th>nbTrade</th>\n",
       "      <th>takerBaseVol</th>\n",
       "      <th>takerQuoteVol</th>\n",
       "    </tr>\n",
       "  </thead>\n",
       "  <tbody>\n",
       "    <tr>\n",
       "      <th>0</th>\n",
       "      <td>65df186b028ab6f21b8ae71f</td>\n",
       "      <td>1502928000000</td>\n",
       "      <td>4261.48</td>\n",
       "      <td>4485.39</td>\n",
       "      <td>4200.74</td>\n",
       "      <td>4285.08</td>\n",
       "      <td>795.150377</td>\n",
       "      <td>1503014399999</td>\n",
       "      <td>3.454770e+06</td>\n",
       "      <td>3427</td>\n",
       "      <td>616.248541</td>\n",
       "      <td>2.678216e+06</td>\n",
       "    </tr>\n",
       "    <tr>\n",
       "      <th>1</th>\n",
       "      <td>65df186b028ab6f21b8ae720</td>\n",
       "      <td>1503014400000</td>\n",
       "      <td>4285.08</td>\n",
       "      <td>4371.52</td>\n",
       "      <td>3938.77</td>\n",
       "      <td>4108.37</td>\n",
       "      <td>1199.888264</td>\n",
       "      <td>1503100799999</td>\n",
       "      <td>5.086958e+06</td>\n",
       "      <td>5233</td>\n",
       "      <td>972.868710</td>\n",
       "      <td>4.129123e+06</td>\n",
       "    </tr>\n",
       "    <tr>\n",
       "      <th>2</th>\n",
       "      <td>65df186b028ab6f21b8ae721</td>\n",
       "      <td>1503100800000</td>\n",
       "      <td>4108.37</td>\n",
       "      <td>4184.69</td>\n",
       "      <td>3850.00</td>\n",
       "      <td>4139.98</td>\n",
       "      <td>381.309763</td>\n",
       "      <td>1503187199999</td>\n",
       "      <td>1.549484e+06</td>\n",
       "      <td>2153</td>\n",
       "      <td>274.336042</td>\n",
       "      <td>1.118002e+06</td>\n",
       "    </tr>\n",
       "  </tbody>\n",
       "</table>\n",
       "</div>"
      ],
      "text/plain": [
       "                        _id          openT     open     high      low  \\\n",
       "0  65df186b028ab6f21b8ae71f  1502928000000  4261.48  4485.39  4200.74   \n",
       "1  65df186b028ab6f21b8ae720  1503014400000  4285.08  4371.52  3938.77   \n",
       "2  65df186b028ab6f21b8ae721  1503100800000  4108.37  4184.69  3850.00   \n",
       "\n",
       "     close      baseVol         closeT      quoteVol  nbTrade  takerBaseVol  \\\n",
       "0  4285.08   795.150377  1503014399999  3.454770e+06     3427    616.248541   \n",
       "1  4108.37  1199.888264  1503100799999  5.086958e+06     5233    972.868710   \n",
       "2  4139.98   381.309763  1503187199999  1.549484e+06     2153    274.336042   \n",
       "\n",
       "   takerQuoteVol  \n",
       "0   2.678216e+06  \n",
       "1   4.129123e+06  \n",
       "2   1.118002e+06  "
      ]
     },
     "execution_count": 90,
     "metadata": {},
     "output_type": "execute_result"
    }
   ],
   "source": [
    "from datetime import datetime\n",
    "\n",
    "# datetime(year, month, day, hour=0, minute=0, second=0, microsecond=0, tzinfo=None)\n",
    "start_date = datetime(2017, 8, 17)\n",
    "end_date = datetime(2017, 8, 20)\n",
    "\n",
    "def to_timestamp(date):\n",
    "    return int(date.timestamp() * 1000)\n",
    "\n",
    "def to_date(timestamp):\n",
    "    # Divide by 1000 to convert milliseconds to seconds\n",
    "    return datetime.fromtimestamp(timestamp / 1000)  \n",
    "\n",
    "query = {\"openT\": {\"$gte\": to_timestamp(start_date), \"$lte\": to_timestamp(end_date)}}\n",
    "results = collection.find(query)\n",
    "\n",
    "# Convert MongoDB cursor to pandas DataFrame\n",
    "query_result_df = pd.DataFrame(list(results))\n",
    "\n",
    "# Analyze or visualize the queried time series data\n",
    "query_result_df.head()"
   ]
  },
  {
   "cell_type": "markdown",
   "id": "e3f4cc59",
   "metadata": {},
   "source": [
    "### Query based on other criteria"
   ]
  },
  {
   "cell_type": "code",
   "execution_count": 94,
   "id": "1abe8e2f",
   "metadata": {},
   "outputs": [
    {
     "name": "stdout",
     "output_type": "stream",
     "text": [
      "(157, 12)\n"
     ]
    },
    {
     "data": {
      "text/html": [
       "<div>\n",
       "<style scoped>\n",
       "    .dataframe tbody tr th:only-of-type {\n",
       "        vertical-align: middle;\n",
       "    }\n",
       "\n",
       "    .dataframe tbody tr th {\n",
       "        vertical-align: top;\n",
       "    }\n",
       "\n",
       "    .dataframe thead th {\n",
       "        text-align: right;\n",
       "    }\n",
       "</style>\n",
       "<table border=\"1\" class=\"dataframe\">\n",
       "  <thead>\n",
       "    <tr style=\"text-align: right;\">\n",
       "      <th></th>\n",
       "      <th>_id</th>\n",
       "      <th>openT</th>\n",
       "      <th>open</th>\n",
       "      <th>high</th>\n",
       "      <th>low</th>\n",
       "      <th>close</th>\n",
       "      <th>baseVol</th>\n",
       "      <th>closeT</th>\n",
       "      <th>quoteVol</th>\n",
       "      <th>nbTrade</th>\n",
       "      <th>takerBaseVol</th>\n",
       "      <th>takerQuoteVol</th>\n",
       "    </tr>\n",
       "  </thead>\n",
       "  <tbody>\n",
       "    <tr>\n",
       "      <th>0</th>\n",
       "      <td>65df186b028ab6f21b8aec1f</td>\n",
       "      <td>1613520000000</td>\n",
       "      <td>49133.45</td>\n",
       "      <td>52618.74</td>\n",
       "      <td>48947.00</td>\n",
       "      <td>52119.71</td>\n",
       "      <td>85743.637818</td>\n",
       "      <td>1613606399999</td>\n",
       "      <td>4.365832e+09</td>\n",
       "      <td>2514374</td>\n",
       "      <td>45055.446241</td>\n",
       "      <td>2.294099e+09</td>\n",
       "    </tr>\n",
       "    <tr>\n",
       "      <th>1</th>\n",
       "      <td>65df186b028ab6f21b8aec20</td>\n",
       "      <td>1613606400000</td>\n",
       "      <td>52117.67</td>\n",
       "      <td>52530.00</td>\n",
       "      <td>50901.90</td>\n",
       "      <td>51552.60</td>\n",
       "      <td>60758.046954</td>\n",
       "      <td>1613692799999</td>\n",
       "      <td>3.149973e+09</td>\n",
       "      <td>1891592</td>\n",
       "      <td>28893.358623</td>\n",
       "      <td>1.498232e+09</td>\n",
       "    </tr>\n",
       "    <tr>\n",
       "      <th>2</th>\n",
       "      <td>65df186b028ab6f21b8aec21</td>\n",
       "      <td>1613692800000</td>\n",
       "      <td>51552.61</td>\n",
       "      <td>56368.00</td>\n",
       "      <td>50710.20</td>\n",
       "      <td>55906.00</td>\n",
       "      <td>79659.778020</td>\n",
       "      <td>1613779199999</td>\n",
       "      <td>4.251168e+09</td>\n",
       "      <td>2339215</td>\n",
       "      <td>40556.020246</td>\n",
       "      <td>2.164871e+09</td>\n",
       "    </tr>\n",
       "    <tr>\n",
       "      <th>3</th>\n",
       "      <td>65df186b028ab6f21b8aec22</td>\n",
       "      <td>1613779200000</td>\n",
       "      <td>55906.00</td>\n",
       "      <td>57700.46</td>\n",
       "      <td>53863.93</td>\n",
       "      <td>55841.19</td>\n",
       "      <td>80948.205314</td>\n",
       "      <td>1613865599999</td>\n",
       "      <td>4.551891e+09</td>\n",
       "      <td>2642846</td>\n",
       "      <td>38636.066274</td>\n",
       "      <td>2.172834e+09</td>\n",
       "    </tr>\n",
       "    <tr>\n",
       "      <th>4</th>\n",
       "      <td>65df186b028ab6f21b8aec23</td>\n",
       "      <td>1613865600000</td>\n",
       "      <td>55841.19</td>\n",
       "      <td>58352.80</td>\n",
       "      <td>55477.59</td>\n",
       "      <td>57408.57</td>\n",
       "      <td>58166.708511</td>\n",
       "      <td>1613951999999</td>\n",
       "      <td>3.317998e+09</td>\n",
       "      <td>1950533</td>\n",
       "      <td>29506.089085</td>\n",
       "      <td>1.683107e+09</td>\n",
       "    </tr>\n",
       "  </tbody>\n",
       "</table>\n",
       "</div>"
      ],
      "text/plain": [
       "                        _id          openT      open      high       low  \\\n",
       "0  65df186b028ab6f21b8aec1f  1613520000000  49133.45  52618.74  48947.00   \n",
       "1  65df186b028ab6f21b8aec20  1613606400000  52117.67  52530.00  50901.90   \n",
       "2  65df186b028ab6f21b8aec21  1613692800000  51552.61  56368.00  50710.20   \n",
       "3  65df186b028ab6f21b8aec22  1613779200000  55906.00  57700.46  53863.93   \n",
       "4  65df186b028ab6f21b8aec23  1613865600000  55841.19  58352.80  55477.59   \n",
       "\n",
       "      close       baseVol         closeT      quoteVol  nbTrade  takerBaseVol  \\\n",
       "0  52119.71  85743.637818  1613606399999  4.365832e+09  2514374  45055.446241   \n",
       "1  51552.60  60758.046954  1613692799999  3.149973e+09  1891592  28893.358623   \n",
       "2  55906.00  79659.778020  1613779199999  4.251168e+09  2339215  40556.020246   \n",
       "3  55841.19  80948.205314  1613865599999  4.551891e+09  2642846  38636.066274   \n",
       "4  57408.57  58166.708511  1613951999999  3.317998e+09  1950533  29506.089085   \n",
       "\n",
       "   takerQuoteVol  \n",
       "0   2.294099e+09  \n",
       "1   1.498232e+09  \n",
       "2   2.164871e+09  \n",
       "3   2.172834e+09  \n",
       "4   1.683107e+09  "
      ]
     },
     "execution_count": 94,
     "metadata": {},
     "output_type": "execute_result"
    }
   ],
   "source": [
    "query = {'close': {'$gt': 50000}}\n",
    "\n",
    "# Sorting results\n",
    "sort_by = [('openT', 1)]  # Sort by 'openT' ascending\n",
    "cursor = collection.find(query).sort(sort_by)\n",
    "\n",
    "# Limiting number of results\n",
    "# limit = 10\n",
    "# cursor = collection.find().limit(limit)\n",
    "\n",
    "# Skipping results\n",
    "# skip = 5\n",
    "# cursor = collection.find().skip(skip)\n",
    "\n",
    "# convert to df and display results\n",
    "df_query = pd.DataFrame(list(cursor))\n",
    "print(df_query.shape)\n",
    "df_query.head()"
   ]
  },
  {
   "cell_type": "code",
   "execution_count": null,
   "id": "869dfaf2",
   "metadata": {},
   "outputs": [],
   "source": []
  },
  {
   "cell_type": "code",
   "execution_count": null,
   "id": "cb3ff805",
   "metadata": {},
   "outputs": [],
   "source": []
  },
  {
   "cell_type": "markdown",
   "id": "d3ec6afc",
   "metadata": {},
   "source": [
    "# Close connection\n",
    "always"
   ]
  },
  {
   "cell_type": "code",
   "execution_count": 95,
   "id": "cac5548c",
   "metadata": {},
   "outputs": [],
   "source": [
    "# Close the connection to MongoDB when you're done.\n",
    "client.close()"
   ]
  },
  {
   "cell_type": "code",
   "execution_count": 96,
   "id": "290e3685",
   "metadata": {},
   "outputs": [
    {
     "name": "stdout",
     "output_type": "stream",
     "text": [
      "Cannot use MongoClient after close\n"
     ]
    }
   ],
   "source": [
    "# Send a ping to confirm a successful connection\n",
    "try:\n",
    "    client.admin.command('ping')\n",
    "    print(\"Pinged your deployment. You successfully connected to MongoDB!\")\n",
    "except Exception as e:\n",
    "    print(e)"
   ]
  },
  {
   "cell_type": "code",
   "execution_count": null,
   "id": "1e968763",
   "metadata": {},
   "outputs": [],
   "source": []
  },
  {
   "cell_type": "code",
   "execution_count": null,
   "id": "c27e152d",
   "metadata": {},
   "outputs": [],
   "source": []
  }
 ],
 "metadata": {
  "kernelspec": {
   "display_name": "env",
   "language": "python",
   "name": "env"
  },
  "language_info": {
   "codemirror_mode": {
    "name": "ipython",
    "version": 3
   },
   "file_extension": ".py",
   "mimetype": "text/x-python",
   "name": "python",
   "nbconvert_exporter": "python",
   "pygments_lexer": "ipython3",
   "version": "3.9.12"
  }
 },
 "nbformat": 4,
 "nbformat_minor": 5
}
