{
 "cells": [
  {
   "cell_type": "code",
   "execution_count": 1,
   "metadata": {},
   "outputs": [],
   "source": [
    "import pandas as pd\n",
    "import pandas_ta as ta\n",
    "import numpy as np\n",
    "import os\n",
    "from sklearn.base import BaseEstimator, TransformerMixin\n",
    "from sklearn.neighbors import KNeighborsClassifier\n",
    "from sklearn.model_selection import TimeSeriesSplit, cross_val_score, cross_validate\n",
    "import joblib\n",
    "from sklearn.metrics import accuracy_score, make_scorer\n"
   ]
  },
  {
   "cell_type": "markdown",
   "metadata": {},
   "source": [
    "# Define Class"
   ]
  },
  {
   "cell_type": "markdown",
   "metadata": {},
   "source": [
    "## openFile() - get raw data"
   ]
  },
  {
   "cell_type": "code",
   "execution_count": 2,
   "metadata": {},
   "outputs": [],
   "source": [
    "class openFile:\n",
    "    def __init__(self, data_path, asset, interval):\n",
    "        self.data_path = data_path\n",
    "        self.asset = asset\n",
    "        self.interval = interval\n",
    "        self.data = self.open_csv()\n",
    "\n",
    "\n",
    "    def open_csv(self):\n",
    "        filename = self.asset+\"-\"+self.interval+\"-raw.csv\"\n",
    "        file_path = os.path.join(self.data_path, filename)\n",
    "        df = pd.read_csv(os.path.abspath(file_path))\n",
    "        df['datetime']=pd.to_datetime(df[\"openT\"], utc=True, unit=\"ms\")\n",
    "        df.set_index(pd.DatetimeIndex(df[\"datetime\"]), inplace=True)\n",
    "        return df"
   ]
  },
  {
   "cell_type": "markdown",
   "metadata": {},
   "source": [
    "## getFeatures & getTarget"
   ]
  },
  {
   "cell_type": "code",
   "execution_count": 3,
   "metadata": {},
   "outputs": [],
   "source": [
    "\n",
    "class getFeatures(BaseEstimator, TransformerMixin):\n",
    "    def __init__(self, length, factor):\n",
    "        '''\n",
    "        Custom transformer to get the features\n",
    "\n",
    "        Argument:\n",
    "        * length    :   period used to calculate the indicators\n",
    "        * factor    :   factor to be used to calculate the indicators on (length*factor) lengths\n",
    "        '''\n",
    "        self.length=length\n",
    "        self.factor=factor\n",
    "\n",
    "    def fit(self, X, y=None):\n",
    "        return self\n",
    "    \n",
    "    def transform(self, X, y=None):\n",
    "        length_lead = self.length\n",
    "        length_lag = self.length*2\n",
    "\n",
    "        # calculate features\n",
    "        C_=pd.DataFrame()\n",
    "        for i in range(1,self.factor):\n",
    "            length_lead = int(self.length*i)\n",
    "            length_lag = length_lead*2\n",
    "            C_['mom'+str(i)] = ta.mom(X, length=length_lead)\n",
    "            C_['rsi'+str(i)] = ta.rsi(X, length=length_lead)\n",
    "            C_['trix'+str(i)] = ta.trix(X, length=length_lead).iloc[:,0]\n",
    "            C_['macd'+str(i)] = ta.macd(X, fast=length_lead, slow=length_lag).iloc[:,0]\n",
    "\n",
    "        return C_\n",
    "    \n",
    "class getTarget(BaseEstimator, TransformerMixin):\n",
    "    def __init__(self, ema_length, diff_length, pct_threshold=0.2, pct_threshold_activate=True):\n",
    "        '''\n",
    "        Custom transformer to get the target.\n",
    "\n",
    "        Argument:\n",
    "        * ema_length    :   period used to calculate the exponential moving average\n",
    "        * diff_length   :   period used to calculate the pct_change in the future\n",
    "        * pct_threshold :   quantile to be considered for the '1' label\n",
    "        * pct_threshold_activate    :   True to return a binary 0/1 list\n",
    "        '''\n",
    "        self.ema_length=ema_length\n",
    "        self.diff_length=diff_length\n",
    "        self.pct_threshold_activate = pct_threshold_activate\n",
    "        self.pct_threshold = pct_threshold\n",
    "\n",
    "    def fit(self, X, y=None):\n",
    "        return self\n",
    "    \n",
    "    def transform(self, X, y=None):\n",
    "        # calculate target\n",
    "        C_=pd.DataFrame()\n",
    "        C_['ema'] = ta.ema(X, length=self.ema_length)\n",
    "        C_['target'] = C_['ema'].pct_change(-self.diff_length) # if <0, price is likely to pump - if >0, price is likely to dump\n",
    "\n",
    "        # create the target\n",
    "        y_ = C_['target']\n",
    "        if self.pct_threshold_activate:\n",
    "            threshold = y_.quantile(self.pct_threshold) # define the quantile which will be used for the 1 threshold\n",
    "            y_=y_.apply(lambda x: 1 if x<threshold else 0)\n",
    "\n",
    "        return y_, threshold"
   ]
  },
  {
   "cell_type": "markdown",
   "metadata": {},
   "source": [
    "## Entry price calculation"
   ]
  },
  {
   "cell_type": "code",
   "execution_count": 4,
   "metadata": {},
   "outputs": [],
   "source": [
    "def get_entry_score(y_pred, price_serie):\n",
    "    '''\n",
    "    This function calculation the average entry price in the market with a standard daily dca vs a machine learning dca.\n",
    "    The purpose is to assess the performance of the model.\n",
    "\n",
    "    y_pred: pandas Series with datime index and binary prediction\n",
    "    price_serie: pandas Series with datetime index and price action\n",
    "    '''\n",
    "    dca_daily_entry_price = price_serie.mean() # average entry price for a daily buy order\n",
    "\n",
    "    index_1 = np.where(y_pred==1)[0]\n",
    "    \n",
    "    if len(index_1)>0:\n",
    "        dca_tdbot_entry_price = price_serie.iloc[index_1].mean() # average entry price for a buy order on the basis of the trading bot signal\n",
    "        entry_ratio = dca_tdbot_entry_price / dca_daily_entry_price - 1 # If <0, this ratio means that the entry price was better than doing a random daily investment\n",
    "    else:\n",
    "        dca_tdbot_entry_price = np.nan\n",
    "        entry_ratio = np.nan\n",
    "    \n",
    "    return entry_ratio\n"
   ]
  },
  {
   "cell_type": "markdown",
   "metadata": {},
   "source": [
    "# Create code"
   ]
  },
  {
   "cell_type": "code",
   "execution_count": 5,
   "metadata": {},
   "outputs": [
    {
     "data": {
      "text/html": [
       "<div>\n",
       "<style scoped>\n",
       "    .dataframe tbody tr th:only-of-type {\n",
       "        vertical-align: middle;\n",
       "    }\n",
       "\n",
       "    .dataframe tbody tr th {\n",
       "        vertical-align: top;\n",
       "    }\n",
       "\n",
       "    .dataframe thead th {\n",
       "        text-align: right;\n",
       "    }\n",
       "</style>\n",
       "<table border=\"1\" class=\"dataframe\">\n",
       "  <thead>\n",
       "    <tr style=\"text-align: right;\">\n",
       "      <th></th>\n",
       "      <th>openT</th>\n",
       "      <th>open</th>\n",
       "      <th>high</th>\n",
       "      <th>low</th>\n",
       "      <th>close</th>\n",
       "      <th>baseVol</th>\n",
       "      <th>closeT</th>\n",
       "      <th>quoteVol</th>\n",
       "      <th>nbTrade</th>\n",
       "      <th>takerBaseVol</th>\n",
       "      <th>takerQuoteVol</th>\n",
       "      <th>datetime</th>\n",
       "    </tr>\n",
       "    <tr>\n",
       "      <th>datetime</th>\n",
       "      <th></th>\n",
       "      <th></th>\n",
       "      <th></th>\n",
       "      <th></th>\n",
       "      <th></th>\n",
       "      <th></th>\n",
       "      <th></th>\n",
       "      <th></th>\n",
       "      <th></th>\n",
       "      <th></th>\n",
       "      <th></th>\n",
       "      <th></th>\n",
       "    </tr>\n",
       "  </thead>\n",
       "  <tbody>\n",
       "    <tr>\n",
       "      <th>2017-08-17 04:00:00+00:00</th>\n",
       "      <td>1502942400000</td>\n",
       "      <td>4261.48</td>\n",
       "      <td>4349.99</td>\n",
       "      <td>4261.32</td>\n",
       "      <td>4349.99</td>\n",
       "      <td>82.088865</td>\n",
       "      <td>1502956799999</td>\n",
       "      <td>3.531943e+05</td>\n",
       "      <td>334</td>\n",
       "      <td>64.013727</td>\n",
       "      <td>275647.421911</td>\n",
       "      <td>2017-08-17 04:00:00+00:00</td>\n",
       "    </tr>\n",
       "    <tr>\n",
       "      <th>2017-08-17 08:00:00+00:00</th>\n",
       "      <td>1502956800000</td>\n",
       "      <td>4333.32</td>\n",
       "      <td>4485.39</td>\n",
       "      <td>4333.32</td>\n",
       "      <td>4427.30</td>\n",
       "      <td>63.619882</td>\n",
       "      <td>1502971199999</td>\n",
       "      <td>2.825012e+05</td>\n",
       "      <td>248</td>\n",
       "      <td>58.787633</td>\n",
       "      <td>261054.051154</td>\n",
       "      <td>2017-08-17 08:00:00+00:00</td>\n",
       "    </tr>\n",
       "    <tr>\n",
       "      <th>2017-08-17 12:00:00+00:00</th>\n",
       "      <td>1502971200000</td>\n",
       "      <td>4436.06</td>\n",
       "      <td>4485.39</td>\n",
       "      <td>4333.42</td>\n",
       "      <td>4352.34</td>\n",
       "      <td>174.562001</td>\n",
       "      <td>1502985599999</td>\n",
       "      <td>7.742388e+05</td>\n",
       "      <td>858</td>\n",
       "      <td>125.184133</td>\n",
       "      <td>555419.758061</td>\n",
       "      <td>2017-08-17 12:00:00+00:00</td>\n",
       "    </tr>\n",
       "    <tr>\n",
       "      <th>2017-08-17 16:00:00+00:00</th>\n",
       "      <td>1502985600000</td>\n",
       "      <td>4352.33</td>\n",
       "      <td>4354.84</td>\n",
       "      <td>4200.74</td>\n",
       "      <td>4325.23</td>\n",
       "      <td>225.109716</td>\n",
       "      <td>1502999999999</td>\n",
       "      <td>9.652911e+05</td>\n",
       "      <td>986</td>\n",
       "      <td>165.036363</td>\n",
       "      <td>707808.200922</td>\n",
       "      <td>2017-08-17 16:00:00+00:00</td>\n",
       "    </tr>\n",
       "    <tr>\n",
       "      <th>2017-08-17 20:00:00+00:00</th>\n",
       "      <td>1503000000000</td>\n",
       "      <td>4307.56</td>\n",
       "      <td>4369.69</td>\n",
       "      <td>4258.56</td>\n",
       "      <td>4285.08</td>\n",
       "      <td>249.769913</td>\n",
       "      <td>1503014399999</td>\n",
       "      <td>1.079545e+06</td>\n",
       "      <td>1001</td>\n",
       "      <td>203.226685</td>\n",
       "      <td>878286.968557</td>\n",
       "      <td>2017-08-17 20:00:00+00:00</td>\n",
       "    </tr>\n",
       "  </tbody>\n",
       "</table>\n",
       "</div>"
      ],
      "text/plain": [
       "                                   openT     open     high      low    close  \\\n",
       "datetime                                                                       \n",
       "2017-08-17 04:00:00+00:00  1502942400000  4261.48  4349.99  4261.32  4349.99   \n",
       "2017-08-17 08:00:00+00:00  1502956800000  4333.32  4485.39  4333.32  4427.30   \n",
       "2017-08-17 12:00:00+00:00  1502971200000  4436.06  4485.39  4333.42  4352.34   \n",
       "2017-08-17 16:00:00+00:00  1502985600000  4352.33  4354.84  4200.74  4325.23   \n",
       "2017-08-17 20:00:00+00:00  1503000000000  4307.56  4369.69  4258.56  4285.08   \n",
       "\n",
       "                              baseVol         closeT      quoteVol  nbTrade  \\\n",
       "datetime                                                                      \n",
       "2017-08-17 04:00:00+00:00   82.088865  1502956799999  3.531943e+05      334   \n",
       "2017-08-17 08:00:00+00:00   63.619882  1502971199999  2.825012e+05      248   \n",
       "2017-08-17 12:00:00+00:00  174.562001  1502985599999  7.742388e+05      858   \n",
       "2017-08-17 16:00:00+00:00  225.109716  1502999999999  9.652911e+05      986   \n",
       "2017-08-17 20:00:00+00:00  249.769913  1503014399999  1.079545e+06     1001   \n",
       "\n",
       "                           takerBaseVol  takerQuoteVol  \\\n",
       "datetime                                                 \n",
       "2017-08-17 04:00:00+00:00     64.013727  275647.421911   \n",
       "2017-08-17 08:00:00+00:00     58.787633  261054.051154   \n",
       "2017-08-17 12:00:00+00:00    125.184133  555419.758061   \n",
       "2017-08-17 16:00:00+00:00    165.036363  707808.200922   \n",
       "2017-08-17 20:00:00+00:00    203.226685  878286.968557   \n",
       "\n",
       "                                           datetime  \n",
       "datetime                                             \n",
       "2017-08-17 04:00:00+00:00 2017-08-17 04:00:00+00:00  \n",
       "2017-08-17 08:00:00+00:00 2017-08-17 08:00:00+00:00  \n",
       "2017-08-17 12:00:00+00:00 2017-08-17 12:00:00+00:00  \n",
       "2017-08-17 16:00:00+00:00 2017-08-17 16:00:00+00:00  \n",
       "2017-08-17 20:00:00+00:00 2017-08-17 20:00:00+00:00  "
      ]
     },
     "execution_count": 5,
     "metadata": {},
     "output_type": "execute_result"
    }
   ],
   "source": [
    "# OPEN DATA\n",
    "open_csv = openFile('../data/raw', 'BTCUSDT', '4h')\n",
    "df = open_csv.data\n",
    "df.head()"
   ]
  },
  {
   "cell_type": "code",
   "execution_count": 6,
   "metadata": {},
   "outputs": [
    {
     "name": "stdout",
     "output_type": "stream",
     "text": [
      "X shape:  (14106, 36)\n",
      "y shape:  (14106,)\n",
      "price_serie shape:  (14106,)\n",
      "pct_threshold shape:  0.1\n",
      "threshold shape:  -0.05908447588419685\n"
     ]
    }
   ],
   "source": [
    "# PREPROCESSING FOR TRAINING\n",
    "f_length=7\n",
    "f_factor=10\n",
    "t_ema_length = 7\n",
    "t_diff_length = 14\n",
    "t_pct_threshold=0.1 # threshold triggering the target\n",
    "\n",
    "X_transform = getFeatures(f_length, f_factor)\n",
    "X = X_transform.fit_transform(df.close)\n",
    "\n",
    "y_transform = getTarget(t_ema_length, t_diff_length, t_pct_threshold, True)\n",
    "y, threshold = y_transform.fit_transform(df.close)\n",
    "\n",
    "index_to_drop = X[(X.isna().any(axis=1)) | (y.isna())].index\n",
    "X=X.drop(index_to_drop)\n",
    "y=y.drop(index_to_drop)\n",
    "price_serie = df.close.drop(index_to_drop)\n",
    "\n",
    "print(\"X shape: \", X.shape)\n",
    "print(\"y shape: \", y.shape)\n",
    "print(\"price_serie shape: \", price_serie.shape)\n",
    "print(\"pct_threshold shape: \", t_pct_threshold)\n",
    "print(\"threshold shape: \", threshold)"
   ]
  },
  {
   "cell_type": "code",
   "execution_count": 7,
   "metadata": {},
   "outputs": [
    {
     "name": "stdout",
     "output_type": "stream",
     "text": [
      "1286 1282 - 1285 2567\n",
      "2568 1282 - 2567 3849\n",
      "3850 1282 - 3849 5131\n",
      "5132 1282 - 5131 6413\n",
      "6414 1282 - 6413 7695\n",
      "7696 1282 - 7695 8977\n",
      "8978 1282 - 8977 10259\n",
      "10260 1282 - 10259 11541\n",
      "11542 1282 - 11541 12823\n",
      "12824 1282 - 12823 14105\n",
      "Cross-validation scores: [0.0522073210495233, 0.24739743680790593, 0.12987510613191433, -0.03936658502178014, 0.06836952363862747, 0.027224706824707123, 0.11745007504393845, -0.04593816855902255, -0.0768093223494496, -0.019287625929229613]\n",
      "Mean: 0.04611224676371347\n",
      "std: 0.0941685035984869\n"
     ]
    }
   ],
   "source": [
    "# CROSS VALIDATION - ROI\n",
    "\n",
    "# Initialize TimeSeriesSplit\n",
    "tspl = TimeSeriesSplit(n_splits=10)\n",
    "\n",
    "scores=[]\n",
    "\n",
    "for train, test in tspl.split(X):\n",
    "    print(\"%s %s - %s %s\" % (len(train), len(test), train[-1], test[-1]))\n",
    "    # Initialize KNeighborsRegressor\n",
    "    model = KNeighborsClassifier(n_neighbors=30)\n",
    "\n",
    "    # split train/test data\n",
    "    X_train = X.iloc[train]\n",
    "    y_train = y.iloc[train]\n",
    "    X_test = X.iloc[test]\n",
    "    y_test = y.iloc[test]\n",
    "    price_test = price_serie.iloc[test]\n",
    "\n",
    "    # train\n",
    "    model.fit(X_train.values, y_train)\n",
    "\n",
    "    # pred\n",
    "    y_test_pred = model.predict(X_test.values)\n",
    "\n",
    "    ratio = get_entry_score(y_test_pred, price_test)\n",
    "    scores.append(ratio)\n",
    "\n",
    "print(\"Cross-validation scores:\", scores)\n",
    "print(\"Mean:\", np.mean(scores))  # Take the mean of the negative scores\n",
    "print(\"std:\", np.std(scores))  # Take the mean of the negative scores"
   ]
  },
  {
   "cell_type": "code",
   "execution_count": 8,
   "metadata": {},
   "outputs": [
    {
     "name": "stdout",
     "output_type": "stream",
     "text": [
      "Cross-validation scores: [0.922 0.863 0.919 0.772 0.814 0.915 0.937 0.9   0.969 0.946]\n",
      "Mean: 0.8956999999999999\n",
      "std: 0.058549210071528725\n"
     ]
    }
   ],
   "source": [
    "# CROSS VALIDATION\n",
    "# Initialize KNeighborsRegressor\n",
    "model = KNeighborsClassifier(n_neighbors=30)\n",
    "\n",
    "# Initialize TimeSeriesSplit\n",
    "tspl = TimeSeriesSplit(n_splits=10, test_size=1000)\n",
    "\n",
    "# Perform cross_validation\n",
    "scores = cross_val_score(model, X.values, y.values, cv=tspl, scoring='accuracy')\n",
    "\n",
    "print(\"Cross-validation scores:\", scores)\n",
    "print(\"Mean:\", scores.mean())  # Take the mean of the negative scores\n",
    "print(\"std:\", scores.std())  # Take the mean of the negative scores"
   ]
  },
  {
   "cell_type": "code",
   "execution_count": 9,
   "metadata": {},
   "outputs": [
    {
     "name": "stdout",
     "output_type": "stream",
     "text": [
      "X_train shape:  (13106, 36)\n",
      "y_train shape:  (13106,)\n",
      "X_test shape:  (1000, 36)\n",
      "y_test shape:  (1000,)\n",
      "{'n_neighbors': 30}\n",
      "accuracy:  0.946\n"
     ]
    }
   ],
   "source": [
    "# TRAINING\n",
    "test_size=1000\n",
    "\n",
    "# split train/test\n",
    "X_train = X.iloc[:-test_size]\n",
    "y_train = y.iloc[:-test_size]\n",
    "X_test = X.iloc[-test_size:]\n",
    "y_test = y.iloc[-test_size:]\n",
    "print(\"X_train shape: \", X_train.shape)\n",
    "print(\"y_train shape: \", y_train.shape)\n",
    "print(\"X_test shape: \", X_test.shape)\n",
    "print(\"y_test shape: \", y_test.shape)\n",
    "\n",
    "# Initialize KNeighborsRegressor\n",
    "params = {'n_neighbors': 30}\n",
    "print(params)\n",
    "model = KNeighborsClassifier(**params)\n",
    "#print(\"X_train_shape: \", X_train.shape)\n",
    "model.fit(X_train.values, y_train)\n",
    "\n",
    "# pred\n",
    "y_test_pred = model.predict(X_test.values)\n",
    "y_test_pred = pd.Series(y_test_pred, index=y_test.index)\n",
    "\n",
    "# accuracy\n",
    "acc=accuracy_score(y_test, y_test_pred)\n",
    "print(\"accuracy: \", acc)"
   ]
  },
  {
   "cell_type": "markdown",
   "metadata": {},
   "source": [
    "# Sandpit"
   ]
  },
  {
   "cell_type": "markdown",
   "metadata": {},
   "source": [
    "## Quick data analysis"
   ]
  },
  {
   "cell_type": "code",
   "execution_count": 10,
   "metadata": {},
   "outputs": [
    {
     "data": {
      "text/plain": [
       "target\n",
       "0    12702\n",
       "1     1404\n",
       "Name: count, dtype: int64"
      ]
     },
     "execution_count": 10,
     "metadata": {},
     "output_type": "execute_result"
    }
   ],
   "source": [
    "# target distribution\n",
    "y.value_counts()"
   ]
  },
  {
   "cell_type": "code",
   "execution_count": 11,
   "metadata": {},
   "outputs": [
    {
     "name": "stdout",
     "output_type": "stream",
     "text": [
      "21510.545256628386\n",
      "18924.680341880343\n"
     ]
    }
   ],
   "source": [
    "size = len(y)\n",
    "\n",
    "y_temp = y.iloc[-size:]\n",
    "\n",
    "dca_daily = df.loc[y_temp.index].close.mean()\n",
    "dca_bot = df.loc[y_temp[y_temp==1].index].close.mean()\n",
    "print(dca_daily)\n",
    "print(dca_bot)"
   ]
  },
  {
   "cell_type": "markdown",
   "metadata": {},
   "source": [
    "## TimeSeriesSplit"
   ]
  },
  {
   "cell_type": "code",
   "execution_count": 12,
   "metadata": {},
   "outputs": [
    {
     "name": "stdout",
     "output_type": "stream",
     "text": [
      "test1: n_splits=10\n",
      "1286 1282 - 1285 2567\n",
      "2568 1282 - 2567 3849\n",
      "3850 1282 - 3849 5131\n",
      "5132 1282 - 5131 6413\n",
      "6414 1282 - 6413 7695\n",
      "7696 1282 - 7695 8977\n",
      "8978 1282 - 8977 10259\n",
      "10260 1282 - 10259 11541\n",
      "11542 1282 - 11541 12823\n",
      "12824 1282 - 12823 14105\n",
      "\n",
      "test2: n_splits=1, test_size=1000\n"
     ]
    }
   ],
   "source": [
    "# test1\n",
    "print('test1: n_splits=10')\n",
    "tscv = TimeSeriesSplit(n_splits=10)\n",
    "for train, test in tscv.split(X):\n",
    "    print(\"%s %s - %s %s\" % (len(train), len(test), train[-1], test[-1]))\n",
    "\n",
    "# test2\n",
    "print('\\ntest2: n_splits=1, test_size=1000')\n",
    "tscv = TimeSeriesSplit(n_splits=10, test_size=1000)\n",
    "for train, test in tscv.split(X):    \n",
    "    test=test\n",
    "    break\n",
    "    print(\"%s %s - %s %s\" % (len(train), len(test), train[-1], test[-1]))"
   ]
  }
 ],
 "metadata": {
  "kernelspec": {
   "display_name": "Python 3",
   "language": "python",
   "name": "python3"
  },
  "language_info": {
   "codemirror_mode": {
    "name": "ipython",
    "version": 3
   },
   "file_extension": ".py",
   "mimetype": "text/x-python",
   "name": "python",
   "nbconvert_exporter": "python",
   "pygments_lexer": "ipython3",
   "version": "3.10.12"
  }
 },
 "nbformat": 4,
 "nbformat_minor": 2
}
